{
 "cells": [
  {
   "cell_type": "code",
   "execution_count": 14,
   "id": "c406e51c-94fa-49a4-931a-2c054ba59e46",
   "metadata": {},
   "outputs": [],
   "source": [
    "import pandas as pd\n",
    "import numpy as np\n",
    "import matplotlib.pyplot as plt\n",
    "\n",
    "from sklearn.preprocessing import StandardScaler\n",
    "from sklearn.metrics import mean_squared_error, mean_absolute_error, r2_score\n",
    "from sklearn.model_selection import train_test_split\n",
    "\n",
    "import torch\n",
    "import torch.nn as nn\n",
    "import torch.optim as optim\n",
    "from torch.utils.data import DataLoader, Dataset, TensorDataset"
   ]
  },
  {
   "cell_type": "code",
   "execution_count": 2,
   "id": "12cb66d8-bdff-4d24-9685-5b33266df4b2",
   "metadata": {},
   "outputs": [
    {
     "data": {
      "text/html": [
       "<div>\n",
       "<style scoped>\n",
       "    .dataframe tbody tr th:only-of-type {\n",
       "        vertical-align: middle;\n",
       "    }\n",
       "\n",
       "    .dataframe tbody tr th {\n",
       "        vertical-align: top;\n",
       "    }\n",
       "\n",
       "    .dataframe thead th {\n",
       "        text-align: right;\n",
       "    }\n",
       "</style>\n",
       "<table border=\"1\" class=\"dataframe\">\n",
       "  <thead>\n",
       "    <tr style=\"text-align: right;\">\n",
       "      <th></th>\n",
       "      <th>Pregnancies</th>\n",
       "      <th>Glucose</th>\n",
       "      <th>BloodPressure</th>\n",
       "      <th>SkinThickness</th>\n",
       "      <th>Insulin</th>\n",
       "      <th>BMI</th>\n",
       "      <th>DiabetesPedigreeFunction</th>\n",
       "      <th>Age</th>\n",
       "      <th>Outcome</th>\n",
       "    </tr>\n",
       "  </thead>\n",
       "  <tbody>\n",
       "    <tr>\n",
       "      <th>0</th>\n",
       "      <td>6</td>\n",
       "      <td>148</td>\n",
       "      <td>72</td>\n",
       "      <td>35</td>\n",
       "      <td>0</td>\n",
       "      <td>33.6</td>\n",
       "      <td>0.627</td>\n",
       "      <td>50</td>\n",
       "      <td>1</td>\n",
       "    </tr>\n",
       "    <tr>\n",
       "      <th>1</th>\n",
       "      <td>1</td>\n",
       "      <td>85</td>\n",
       "      <td>66</td>\n",
       "      <td>29</td>\n",
       "      <td>0</td>\n",
       "      <td>26.6</td>\n",
       "      <td>0.351</td>\n",
       "      <td>31</td>\n",
       "      <td>0</td>\n",
       "    </tr>\n",
       "    <tr>\n",
       "      <th>2</th>\n",
       "      <td>8</td>\n",
       "      <td>183</td>\n",
       "      <td>64</td>\n",
       "      <td>0</td>\n",
       "      <td>0</td>\n",
       "      <td>23.3</td>\n",
       "      <td>0.672</td>\n",
       "      <td>32</td>\n",
       "      <td>1</td>\n",
       "    </tr>\n",
       "    <tr>\n",
       "      <th>3</th>\n",
       "      <td>1</td>\n",
       "      <td>89</td>\n",
       "      <td>66</td>\n",
       "      <td>23</td>\n",
       "      <td>94</td>\n",
       "      <td>28.1</td>\n",
       "      <td>0.167</td>\n",
       "      <td>21</td>\n",
       "      <td>0</td>\n",
       "    </tr>\n",
       "    <tr>\n",
       "      <th>4</th>\n",
       "      <td>0</td>\n",
       "      <td>137</td>\n",
       "      <td>40</td>\n",
       "      <td>35</td>\n",
       "      <td>168</td>\n",
       "      <td>43.1</td>\n",
       "      <td>2.288</td>\n",
       "      <td>33</td>\n",
       "      <td>1</td>\n",
       "    </tr>\n",
       "  </tbody>\n",
       "</table>\n",
       "</div>"
      ],
      "text/plain": [
       "   Pregnancies  Glucose  BloodPressure  SkinThickness  Insulin   BMI  \\\n",
       "0            6      148             72             35        0  33.6   \n",
       "1            1       85             66             29        0  26.6   \n",
       "2            8      183             64              0        0  23.3   \n",
       "3            1       89             66             23       94  28.1   \n",
       "4            0      137             40             35      168  43.1   \n",
       "\n",
       "   DiabetesPedigreeFunction  Age  Outcome  \n",
       "0                     0.627   50        1  \n",
       "1                     0.351   31        0  \n",
       "2                     0.672   32        1  \n",
       "3                     0.167   21        0  \n",
       "4                     2.288   33        1  "
      ]
     },
     "execution_count": 2,
     "metadata": {},
     "output_type": "execute_result"
    }
   ],
   "source": [
    "data = pd.read_csv(\"C://Users/sampa/ai_class/data_files/diabetes.csv\")\n",
    "data.head()"
   ]
  },
  {
   "cell_type": "code",
   "execution_count": 3,
   "id": "699ebe03-53e6-48e6-8381-4abcd22c139c",
   "metadata": {},
   "outputs": [
    {
     "data": {
      "text/plain": [
       "Index(['Pregnancies', 'Glucose', 'BloodPressure', 'SkinThickness', 'Insulin',\n",
       "       'BMI', 'DiabetesPedigreeFunction', 'Age', 'Outcome'],\n",
       "      dtype='object')"
      ]
     },
     "execution_count": 3,
     "metadata": {},
     "output_type": "execute_result"
    }
   ],
   "source": [
    "data.columns"
   ]
  },
  {
   "cell_type": "code",
   "execution_count": 4,
   "id": "e9869aa5-6a6d-43fd-ae33-db1d3f6f21ef",
   "metadata": {},
   "outputs": [],
   "source": [
    "X = data.drop(columns=[\"Outcome\"])\n",
    "y = data[\"Outcome\"]"
   ]
  },
  {
   "cell_type": "code",
   "execution_count": 5,
   "id": "6afeb34d-5370-4266-9067-6c857a1b2bfc",
   "metadata": {},
   "outputs": [],
   "source": [
    "scaler = StandardScaler()\n",
    "X = scaler.fit_transform(X)"
   ]
  },
  {
   "cell_type": "code",
   "execution_count": 6,
   "id": "8a14e9a4-b7a2-4f14-a8a0-cc2ba87d820a",
   "metadata": {},
   "outputs": [
    {
     "data": {
      "text/plain": [
       "((614, 8), (154, 8), (614,), (154,))"
      ]
     },
     "execution_count": 6,
     "metadata": {},
     "output_type": "execute_result"
    }
   ],
   "source": [
    "X_train, X_test, y_train, y_test = train_test_split(X, y, test_size=0.2, random_state=42)\n",
    "\n",
    "X_train.shape, X_test.shape, y_train.shape, y_test.shape"
   ]
  },
  {
   "cell_type": "code",
   "execution_count": 7,
   "id": "84ba606a-721a-4f84-aeb3-e449422026d9",
   "metadata": {},
   "outputs": [],
   "source": [
    "X_train = torch.tensor(X_train, dtype=torch.float32)\n",
    "X_test = torch.tensor(X_test, dtype=torch.float32)\n",
    "\n",
    "y_train = torch.tensor(y_train, dtype=torch.float32).view(-1, 1)\n",
    "y_test = torch.tensor(y_test.to_numpy(), dtype=torch.float32).view(-1, 1)"
   ]
  },
  {
   "cell_type": "code",
   "execution_count": 8,
   "id": "145b88cc-bdcf-4c4a-b1c1-e74ebb2e45b3",
   "metadata": {},
   "outputs": [
    {
     "data": {
      "text/plain": [
       "(torch.Size([614, 8]),\n",
       " torch.Size([154, 8]),\n",
       " torch.Size([614, 1]),\n",
       " torch.Size([154, 1]))"
      ]
     },
     "execution_count": 8,
     "metadata": {},
     "output_type": "execute_result"
    }
   ],
   "source": [
    "batch_size = 4\n",
    "train_set = TensorDataset(X_train, y_train)\n",
    "train_loader = DataLoader(train_set, batch_size=batch_size, shuffle=True)\n",
    "\n",
    "test_set = TensorDataset(X_test, y_test)\n",
    "test_loader = DataLoader(test_set, batch_size=batch_size, shuffle=False)\n",
    "\n",
    "X_train.shape, X_test.shape, y_train.shape, y_test.shape"
   ]
  },
  {
   "cell_type": "code",
   "execution_count": 9,
   "id": "455ecb22-ca95-4e2f-bcc1-379093ba2c65",
   "metadata": {},
   "outputs": [],
   "source": [
    "input_dim = X_train.shape[1]\n",
    "hidden_dim = 64\n",
    "output_dim = 1\n",
    "\n",
    "class Model(nn.Module):\n",
    "    def __init__(self, input_dim, hidden_dim, output_dim):\n",
    "        super(Model, self).__init__()\n",
    "        self.fc1 = nn.Linear(input_dim, hidden_dim)\n",
    "        self.relu = nn.ReLU()\n",
    "        self.fc2 = nn.Linear(hidden_dim, output_dim)\n",
    "\n",
    "    def forward(self, x):\n",
    "        out = self.fc1(x)\n",
    "        out = self.relu(out)\n",
    "        out = self.fc2(out)\n",
    "        return out\n",
    "\n",
    "model = Model(input_dim=input_dim, hidden_dim=hidden_dim, output_dim=output_dim)"
   ]
  },
  {
   "cell_type": "code",
   "execution_count": 10,
   "id": "93d17481-71f5-47a9-82a5-2370ec727e03",
   "metadata": {},
   "outputs": [],
   "source": [
    "criterion = nn.MSELoss()\n",
    "optimizer = optim.Adam(model.parameters(), lr=0.001)"
   ]
  },
  {
   "cell_type": "code",
   "execution_count": 11,
   "id": "6f85fcf4-3697-45e0-b1f3-eb3c8899d323",
   "metadata": {},
   "outputs": [
    {
     "name": "stdout",
     "output_type": "stream",
     "text": [
      "Epoch 1/50 - Train Loss: 0.1990, Val Loss: 0.1693\n",
      "Epoch 2/50 - Train Loss: 0.1631, Val Loss: 0.1620\n",
      "Epoch 3/50 - Train Loss: 0.1594, Val Loss: 0.1724\n",
      "Epoch 4/50 - Train Loss: 0.1541, Val Loss: 0.1683\n",
      "Epoch 5/50 - Train Loss: 0.1510, Val Loss: 0.1746\n",
      "Epoch 6/50 - Train Loss: 0.1455, Val Loss: 0.1709\n",
      "Epoch 7/50 - Train Loss: 0.1463, Val Loss: 0.1749\n",
      "Epoch 8/50 - Train Loss: 0.1446, Val Loss: 0.1745\n",
      "Epoch 9/50 - Train Loss: 0.1423, Val Loss: 0.1744\n",
      "Epoch 10/50 - Train Loss: 0.1420, Val Loss: 0.1688\n",
      "Epoch 11/50 - Train Loss: 0.1397, Val Loss: 0.1774\n",
      "Epoch 12/50 - Train Loss: 0.1389, Val Loss: 0.1717\n",
      "Epoch 13/50 - Train Loss: 0.1377, Val Loss: 0.1678\n",
      "Epoch 14/50 - Train Loss: 0.1379, Val Loss: 0.1738\n",
      "Epoch 15/50 - Train Loss: 0.1356, Val Loss: 0.1740\n",
      "Epoch 16/50 - Train Loss: 0.1365, Val Loss: 0.1747\n",
      "Epoch 17/50 - Train Loss: 0.1363, Val Loss: 0.1777\n",
      "Epoch 18/50 - Train Loss: 0.1338, Val Loss: 0.1760\n",
      "Epoch 19/50 - Train Loss: 0.1328, Val Loss: 0.1709\n",
      "Epoch 20/50 - Train Loss: 0.1333, Val Loss: 0.1748\n",
      "Epoch 21/50 - Train Loss: 0.1292, Val Loss: 0.1865\n",
      "Epoch 22/50 - Train Loss: 0.1306, Val Loss: 0.1797\n",
      "Epoch 23/50 - Train Loss: 0.1287, Val Loss: 0.1788\n",
      "Epoch 24/50 - Train Loss: 0.1294, Val Loss: 0.1789\n",
      "Epoch 25/50 - Train Loss: 0.1317, Val Loss: 0.1873\n",
      "Epoch 26/50 - Train Loss: 0.1290, Val Loss: 0.1753\n",
      "Epoch 27/50 - Train Loss: 0.1273, Val Loss: 0.1872\n",
      "Epoch 28/50 - Train Loss: 0.1275, Val Loss: 0.1808\n",
      "Epoch 29/50 - Train Loss: 0.1269, Val Loss: 0.1858\n",
      "Epoch 30/50 - Train Loss: 0.1253, Val Loss: 0.1817\n",
      "Epoch 31/50 - Train Loss: 0.1249, Val Loss: 0.1815\n",
      "Epoch 32/50 - Train Loss: 0.1238, Val Loss: 0.1864\n",
      "Epoch 33/50 - Train Loss: 0.1220, Val Loss: 0.1906\n",
      "Epoch 34/50 - Train Loss: 0.1241, Val Loss: 0.1908\n",
      "Epoch 35/50 - Train Loss: 0.1219, Val Loss: 0.1858\n",
      "Epoch 36/50 - Train Loss: 0.1204, Val Loss: 0.1800\n",
      "Epoch 37/50 - Train Loss: 0.1243, Val Loss: 0.1793\n",
      "Epoch 38/50 - Train Loss: 0.1184, Val Loss: 0.1888\n",
      "Epoch 39/50 - Train Loss: 0.1205, Val Loss: 0.1913\n",
      "Epoch 40/50 - Train Loss: 0.1196, Val Loss: 0.1937\n",
      "Epoch 41/50 - Train Loss: 0.1197, Val Loss: 0.1892\n",
      "Epoch 42/50 - Train Loss: 0.1194, Val Loss: 0.1920\n",
      "Epoch 43/50 - Train Loss: 0.1175, Val Loss: 0.2104\n",
      "Epoch 44/50 - Train Loss: 0.1185, Val Loss: 0.1929\n",
      "Epoch 45/50 - Train Loss: 0.1152, Val Loss: 0.1981\n",
      "Epoch 46/50 - Train Loss: 0.1153, Val Loss: 0.2083\n",
      "Epoch 47/50 - Train Loss: 0.1163, Val Loss: 0.1959\n",
      "Epoch 48/50 - Train Loss: 0.1163, Val Loss: 0.1984\n",
      "Epoch 49/50 - Train Loss: 0.1166, Val Loss: 0.2005\n",
      "Epoch 50/50 - Train Loss: 0.1135, Val Loss: 0.1903\n"
     ]
    }
   ],
   "source": [
    "num_epochs = 50\n",
    "train_losses = []\n",
    "val_losses = []\n",
    "\n",
    "for epoch in range(num_epochs):\n",
    "    model.train()\n",
    "    train_loss_epoch = 0.0\n",
    "\n",
    "    for features, targets in train_loader:\n",
    "        outputs = model(features)\n",
    "        loss = criterion(outputs, targets)\n",
    "\n",
    "        optimizer.zero_grad()\n",
    "        loss.backward()\n",
    "        optimizer.step()\n",
    "\n",
    "        train_loss_epoch += loss.item()\n",
    "\n",
    "    avg_train_loss = train_loss_epoch / len(train_loader)\n",
    "    train_losses.append(avg_train_loss)\n",
    "\n",
    "    model.eval()\n",
    "    val_loss_epoch = 0.0\n",
    "    with torch.no_grad():\n",
    "        for features, targets in test_loader:\n",
    "            outputs = model(features)\n",
    "            loss = criterion(outputs, targets)\n",
    "\n",
    "            val_loss_epoch += loss.item()\n",
    "\n",
    "        avg_val_loss = val_loss_epoch / len(test_loader)\n",
    "        val_losses.append(avg_val_loss)\n",
    "\n",
    "        print(f\"Epoch {epoch+1}/{num_epochs} - Train Loss: {avg_train_loss:.4f}, Val Loss: {avg_val_loss:.4f}\")"
   ]
  },
  {
   "cell_type": "code",
   "execution_count": 12,
   "id": "1462efff-2b79-4282-821e-f7797841c748",
   "metadata": {},
   "outputs": [
    {
     "data": {
      "image/png": "[encoded data removed]",
      "text/plain": [
       "<Figure size 800x600 with 1 Axes>"
      ]
     },
     "metadata": {},
     "output_type": "display_data"
    }
   ],
   "source": [
    "plt.figure(figsize=(8,6))\n",
    "plt.plot(range(1, num_epochs+1), train_losses, label='Training Loss')\n",
    "plt.plot(range(1, num_epochs+1), val_losses, label='Validation Loss')\n",
    "plt.xlabel('Epoch')\n",
    "plt.ylabel('Loss')\n",
    "plt.title('Training and Validation Loss')\n",
    "plt.legend()\n",
    "plt.grid(True)\n",
    "plt.show()"
   ]
  },
  {
   "cell_type": "code",
   "execution_count": 16,
   "id": "8a0b36c6-2786-4c98-8a60-c155f30615bf",
   "metadata": {},
   "outputs": [
    {
     "name": "stdout",
     "output_type": "stream",
     "text": [
      "RMSE: 0.5976\n",
      "MAE: 0.3571\n",
      "R² score: -0.5556\n"
     ]
    }
   ],
   "source": [
    "all_preds = []\n",
    "all_labels = []\n",
    "model.eval()\n",
    "\n",
    "with torch.no_grad():\n",
    "    for features, targets in test_loader:\n",
    "        outputs = model(features)\n",
    "        preds = torch.argmax(outputs, dim=1)\n",
    "        all_preds.extend(preds.cpu().numpy())\n",
    "        all_labels.extend(targets.cpu().numpy())\n",
    "\n",
    "\n",
    "mse = mean_squared_error(all_labels, all_preds)\n",
    "rmse = np.sqrt(mse)\n",
    "mae = mean_absolute_error(all_labels, all_preds)\n",
    "r2 = r2_score(all_labels, all_preds)\n",
    "\n",
    "print(f\"RMSE: {rmse:.4f}\")\n",
    "print(f\"MAE: {mae:.4f}\")\n",
    "print(f\"R² score: {r2:.4f}\")"
   ]
  },
  {
   "cell_type": "code",
   "execution_count": null,
   "id": "b4bea318-4db5-4322-93ce-e75577a1c32a",
   "metadata": {},
   "outputs": [],
   "source": []
  }
 ],
 "metadata": {
  "kernelspec": {
   "display_name": "Python 3 (ipykernel)",
   "language": "python",
   "name": "python3"
  },
  "language_info": {
   "codemirror_mode": {
    "name": "ipython",
    "version": 3
   },
   "file_extension": ".py",
   "mimetype": "text/x-python",
   "name": "python",
   "nbconvert_exporter": "python",
   "pygments_lexer": "ipython3",
   "version": "3.10.16"
  }
 },
 "nbformat": 4,
 "nbformat_minor": 5
}
