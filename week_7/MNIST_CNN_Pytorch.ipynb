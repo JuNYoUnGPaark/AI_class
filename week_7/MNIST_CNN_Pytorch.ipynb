{
 "cells": [
  {
   "cell_type": "markdown",
   "id": "4b38cd11-c94f-46f7-b540-22844d2f3d18",
   "metadata": {},
   "source": [
    "### Import Library"
   ]
  },
  {
   "cell_type": "code",
   "execution_count": 5,
   "id": "c9ce164b-6cf0-40a2-a256-87048b8bc1f8",
   "metadata": {},
   "outputs": [],
   "source": [
    "import pandas as pd\n",
    "import numpy as np\n",
    "import matplotlib.pyplot as plt\n",
    "\n",
    "from sklearn.preprocessing import StandardScaler\n",
    "from sklearn.metrics import accuracy_score, precision_score, recall_score, f1_score, roc_auc_score, confusion_matrix, ConfusionMatrixDisplay\n",
    "from sklearn.model_selection import train_test_split\n",
    "\n",
    "import torch\n",
    "import torch.nn as nn\n",
    "import torch.nn.functional as F\n",
    "from torchvision import datasets, transforms\n",
    "import torch.optim as optim\n",
    "from torch.utils.data import DataLoader, Dataset, TensorDataset, random_split"
   ]
  },
  {
   "cell_type": "markdown",
   "id": "7b6ce047-76bb-49ed-8a22-b7accc155591",
   "metadata": {},
   "source": [
    "### Data Load, DataLoader"
   ]
  },
  {
   "cell_type": "code",
   "execution_count": 6,
   "id": "9eb85ab5-e546-4572-9e64-aea21ed515f7",
   "metadata": {},
   "outputs": [],
   "source": [
    "# Transform 정의 (이미지 -> tensor)\n",
    "transform = transforms.ToTensor()  # [0,1] 범위의 float tensor로 변환\n",
    "\n",
    "# MNIST 데이터셋 불러오기\n",
    "train = datasets.MNIST(root='./data', train=True, download=True, transform=transform)\n",
    "test_dataset = datasets.MNIST(root='./data', train=False, download=True, transform=transform)\n",
    "\n",
    "# Train, Val 데이터 나누기 (train_dataset에서)\n",
    "train_size = int(0.8 * len(train)) # 80% 학습\n",
    "val_size = len(train) - train_size # 20% 검증\n",
    "\n",
    "train_dataset, val_dataset = random_split(train, [train_size, val_size])\n",
    "\n",
    "# DataLoader 연결\n",
    "train_loader = DataLoader(train_dataset, batch_size=64, shuffle=True)\n",
    "val_loader = DataLoader(val_dataset, batch_size=64, shuffle=False)\n",
    "test_loader = DataLoader(test_dataset, batch_size=64, shuffle=False)"
   ]
  },
  {
   "cell_type": "markdown",
   "id": "ded8b137-01a1-4bbf-989e-ef4b59b47ce6",
   "metadata": {},
   "source": [
    "### CNN Model Create"
   ]
  },
  {
   "cell_type": "code",
   "execution_count": 20,
   "id": "a0925783-f5d4-45f3-b047-0468a6710d52",
   "metadata": {},
   "outputs": [],
   "source": [
    "class CNN(nn.Module):\n",
    "    def __init__(self):\n",
    "        super(CNN, self).__init__()\n",
    "        self.conv1 = nn.Conv2d(1, 32, 3, padding=1) # (1*28*28) -> (32*28*28)\n",
    "        self.conv2 = nn.Conv2d(32, 64, 3, padding=1) # (32*28*28) -> (64*28*28)\n",
    "        self.pool = nn.MaxPool2d(2, 2) # (64*14*14)\n",
    "        self.fc1 = nn.Linear(64 * 7 * 7, 128)  # forward에서 maxpool 2번 적용하므로 14->7\n",
    "        self.fc2 = nn.Linear(128, 10)  # 예측 클래스 10개\n",
    "\n",
    "    def forward(self, x):\n",
    "        x = self.pool(torch.relu(self.conv1(x)))\n",
    "        x = self.pool(torch.relu(self.conv2(x)))\n",
    "        x = x.view(x.size(0), -1)\n",
    "        x = torch.relu(self.fc1(x))\n",
    "        x = self.fc2(x)\n",
    "        return x\n",
    "        \n",
    "model = CNN()"
   ]
  },
  {
   "cell_type": "markdown",
   "id": "b62bae67-4125-477b-9eb6-775ce9a0934b",
   "metadata": {},
   "source": [
    "### Loss Function & Optimizer"
   ]
  },
  {
   "cell_type": "code",
   "execution_count": 16,
   "id": "4cd1f72e-6f27-4097-8341-08362e78f842",
   "metadata": {},
   "outputs": [],
   "source": [
    "criterion = nn.CrossEntropyLoss()\n",
    "optimizer = optim.Adam(model.parameters(), lr=0.001)"
   ]
  },
  {
   "cell_type": "markdown",
   "id": "58a822d8-c5ff-475d-ace4-6ece40ed31ba",
   "metadata": {},
   "source": [
    "### Train Model"
   ]
  },
  {
   "cell_type": "code",
   "execution_count": 17,
   "id": "39c644e0-183d-4046-9bbd-1d47740607da",
   "metadata": {},
   "outputs": [
    {
     "name": "stdout",
     "output_type": "stream",
     "text": [
      "Epoch 1/5 - Train Loss: 0.2053, Val Loss: 0.0780\n",
      "Epoch 2/5 - Train Loss: 0.0578, Val Loss: 0.0702\n",
      "Epoch 3/5 - Train Loss: 0.0370, Val Loss: 0.0570\n",
      "Epoch 4/5 - Train Loss: 0.0290, Val Loss: 0.0462\n",
      "Epoch 5/5 - Train Loss: 0.0216, Val Loss: 0.0466\n"
     ]
    }
   ],
   "source": [
    "num_epochs = 5\n",
    "train_losses = []\n",
    "val_losses = []\n",
    "\n",
    "for epoch in range(num_epochs):\n",
    "    # 학습 모드 전환\n",
    "    model.train()\n",
    "    train_loss_epoch = 0.0\n",
    "\n",
    "    for features, targets in train_loader:  # 학습 데이터를 batch_size 단위로 불러오기 \n",
    "        outputs = model(features) # 순전파\n",
    "        loss = criterion(outputs, targets) # 손실 계산\n",
    "\n",
    "        optimizer.zero_grad() # 기울기 초기화\n",
    "        loss.backward() # 역전파\n",
    "        optimizer.step() # 파라미터 업데이트\n",
    "\n",
    "        train_loss_epoch += loss.item() # 손실값 누적\n",
    "\n",
    "    avg_train_loss = train_loss_epoch / len(train_loader) # epoch당 평균 학습 손실 계산\n",
    "    train_losses.append(avg_train_loss)\n",
    "\n",
    "# ======================================================================================================\n",
    "    \n",
    "    # 평가 모드 전환 (Dropout, BatchNorm 등을 비활성화)\n",
    "    model.eval()\n",
    "    val_loss_epoch = 0.0\n",
    "    \n",
    "    with torch.no_grad():\n",
    "        for features, targets in val_loader:  # 검증 데이터를 batch_size 단위로 불러오기\n",
    "            outputs = model(features)  # 순전파\n",
    "            loss = criterion(outputs, targets) # 손실계산\n",
    "            \n",
    "            val_loss_epoch += loss.item() # 손실값 누적\n",
    "            \n",
    "    avg_val_loss = val_loss_epoch / len(test_loader) # 평균 검증 손실 계산\n",
    "    val_losses.append(avg_val_loss)\n",
    "\n",
    "    print(f\"Epoch {epoch+1}/{num_epochs} - Train Loss: {avg_train_loss:.4f}, Val Loss: {avg_val_loss:.4f}\")    "
   ]
  },
  {
   "cell_type": "code",
   "execution_count": 18,
   "id": "aa12c36a-5ade-4db5-afb6-3c666c48dd1b",
   "metadata": {},
   "outputs": [
    {
     "data": {
      "image/png": "[encoded data removed]",
      "text/plain": [
       "<Figure size 800x600 with 1 Axes>"
      ]
     },
     "metadata": {},
     "output_type": "display_data"
    }
   ],
   "source": [
    "plt.figure(figsize=(8,6))\n",
    "plt.plot(range(1, num_epochs+1), train_losses, label='Training Loss')\n",
    "plt.plot(range(1, num_epochs+1), val_losses, label='Validation Loss')\n",
    "plt.xlabel('Epoch')\n",
    "plt.ylabel('Loss')\n",
    "plt.title('Training and Validation Loss')\n",
    "plt.legend()\n",
    "plt.grid(True)\n",
    "plt.show()"
   ]
  },
  {
   "cell_type": "markdown",
   "id": "d0fc4624-2b15-4858-8e69-7a3095b7b68a",
   "metadata": {},
   "source": [
    "### Evaluation & Test"
   ]
  },
  {
   "cell_type": "code",
   "execution_count": 19,
   "id": "c0bc7da5-b409-49cf-bd69-700a61b56891",
   "metadata": {},
   "outputs": [
    {
     "name": "stdout",
     "output_type": "stream",
     "text": [
      "\n",
      "=== Classification Report ===\n",
      "Accuracy : 0.9903\n",
      "Precision: 0.9901\n",
      "Recall   : 0.9903\n",
      "F1 Score : 0.9902\n",
      "Confusion Matrix:\n",
      "[[ 976    0    0    1    0    0    2    0    1    0]\n",
      " [   0 1129    0    2    0    0    2    1    1    0]\n",
      " [   1    0 1026    1    1    0    0    3    0    0]\n",
      " [   1    0    2 1002    0    4    0    0    1    0]\n",
      " [   0    0    0    0  974    0    1    0    2    5]\n",
      " [   2    0    0    3    0  884    3    0    0    0]\n",
      " [   3    1    0    0    1    1  952    0    0    0]\n",
      " [   1    2    3    0    0    1    0 1017    2    2]\n",
      " [   4    0    1    1    0    2    1    1  963    1]\n",
      " [   2    1    0    5    4    6    0    4    7  980]]\n"
     ]
    }
   ],
   "source": [
    "# 평가 모드 전환\n",
    "model.eval()\n",
    "all_preds = []\n",
    "all_labels = []\n",
    "\n",
    "with torch.no_grad():\n",
    "    for features, targets in test_loader:  # 테스트 데이터를 미니배치 단위로 불러옴 \n",
    "        outputs = model(features) # 순전파\n",
    "        preds = torch.argmax(outputs, dim=1)  # softmax 출력 중 최대 확률을 갖는 클래스로 예측 \n",
    "        all_preds.extend(preds.cpu().numpy())\n",
    "        all_labels.extend(targets.cpu().numpy())\n",
    "\n",
    "# 평가 지표 출력\n",
    "acc = accuracy_score(all_labels, all_preds)\n",
    "prec = precision_score(all_labels, all_preds, average='macro')\n",
    "rec = recall_score(all_labels, all_preds, average='macro')\n",
    "f1 = f1_score(all_labels, all_preds, average='macro')\n",
    "cm = confusion_matrix(all_labels, all_preds)\n",
    "\n",
    "print(\"\\n=== Classification Report ===\")\n",
    "print(f\"Accuracy : {acc:.4f}\")\n",
    "print(f\"Precision: {prec:.4f}\")\n",
    "print(f\"Recall   : {rec:.4f}\")\n",
    "print(f\"F1 Score : {f1:.4f}\")\n",
    "print(\"Confusion Matrix:\")\n",
    "print(cm)"
   ]
  },
  {
   "cell_type": "code",
   "execution_count": null,
   "id": "59082b06-3f4a-4ddf-96a5-34b10ef08716",
   "metadata": {},
   "outputs": [],
   "source": []
  }
 ],
 "metadata": {
  "kernelspec": {
   "display_name": "Python 3 (ipykernel)",
   "language": "python",
   "name": "python3"
  },
  "language_info": {
   "codemirror_mode": {
    "name": "ipython",
    "version": 3
   },
   "file_extension": ".py",
   "mimetype": "text/x-python",
   "name": "python",
   "nbconvert_exporter": "python",
   "pygments_lexer": "ipython3",
   "version": "3.10.16"
  }
 },
 "nbformat": 4,
 "nbformat_minor": 5
}
