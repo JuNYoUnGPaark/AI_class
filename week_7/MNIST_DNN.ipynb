{
 "cells": [
  {
   "cell_type": "markdown",
   "id": "34c23bcb-e1a1-408c-a844-76cdd0ffaf62",
   "metadata": {},
   "source": [
    "### Import Library"
   ]
  },
  {
   "cell_type": "code",
   "execution_count": 1,
   "id": "2f356d84-7fa1-42e3-b8e6-09968a19e781",
   "metadata": {},
   "outputs": [],
   "source": [
    "import pandas as pd\n",
    "import numpy as np\n",
    "import matplotlib.pyplot as plt\n",
    "\n",
    "from sklearn.preprocessing import StandardScaler\n",
    "from sklearn.metrics import accuracy_score, precision_score, recall_score, f1_score, roc_auc_score, confusion_matrix, ConfusionMatrixDisplay\n",
    "from sklearn.model_selection import train_test_split\n",
    "\n",
    "import torch\n",
    "import torch.nn as nn\n",
    "import torch.nn.functional as F\n",
    "from torchvision import datasets, transforms\n",
    "import torch.optim as optim\n",
    "from torch.utils.data import DataLoader, Dataset, TensorDataset, random_split"
   ]
  },
  {
   "cell_type": "markdown",
   "id": "3b8839f5-7f46-4745-b6a5-439ce4582eb1",
   "metadata": {},
   "source": [
    "### Data Load, DataLoader"
   ]
  },
  {
   "cell_type": "code",
   "execution_count": 2,
   "id": "ca58ae8c-d00a-4f64-a9e5-d11f9ac08844",
   "metadata": {
    "scrolled": true
   },
   "outputs": [],
   "source": [
    "# Transform 정의 (이미지 -> tensor)\n",
    "transform = transforms.ToTensor()  # [0,1] 범위의 float tensor로 변환\n",
    "\n",
    "# MNIST 데이터셋 불러오기\n",
    "train = datasets.MNIST(root='./data', train=True, download=True, transform=transform)\n",
    "test_dataset = datasets.MNIST(root='./data', train=False, download=True, transform=transform)\n",
    "\n",
    "# Train, Val 데이터 나누기 (train_dataset에서)\n",
    "train_size = int(0.8 * len(train)) # 80% 학습\n",
    "val_size = len(train) - train_size # 20% 검증\n",
    "\n",
    "train_dataset, val_dataset = random_split(train, [train_size, val_size])\n",
    "\n",
    "# DataLoader 연결\n",
    "train_loader = DataLoader(train_dataset, batch_size=64, shuffle=True)\n",
    "val_loader = DataLoader(val_dataset, batch_size=64, shuffle=False)\n",
    "test_loader = DataLoader(test_dataset, batch_size=64, shuffle=False)"
   ]
  },
  {
   "cell_type": "markdown",
   "id": "91b3274d-c909-4bc9-aba6-3f8299e77a32",
   "metadata": {},
   "source": [
    "### DNN Model Create"
   ]
  },
  {
   "cell_type": "code",
   "execution_count": 3,
   "id": "5102dcfd-be08-4c0b-bca0-b67a3e1f99f7",
   "metadata": {},
   "outputs": [],
   "source": [
    "class DNN(nn.Module):\n",
    "    def __init__(self):\n",
    "        super(DNN, self).__init__()\n",
    "        self.fc1 = nn.Linear(28*28, 128)\n",
    "        self.fc2 = nn.Linear(128, 64)\n",
    "        self.fc3 = nn.Linear(64, 10)\n",
    "\n",
    "    def forward(self, x):\n",
    "        x = x.view(-1, 28*28)  # Flatten (batch_size, 28*28)\n",
    "        x = F.relu(self.fc1(x))\n",
    "        x = F.relu(self.fc2(x))\n",
    "        x = self.fc3(x)\n",
    "        return x\n",
    "\n",
    "model = DNN()"
   ]
  },
  {
   "cell_type": "markdown",
   "id": "8bcce4bf-351f-4c87-9a3e-6408420c40da",
   "metadata": {},
   "source": [
    "### Loss Function & Optimizer"
   ]
  },
  {
   "cell_type": "code",
   "execution_count": 4,
   "id": "02ae30dc-2e1e-4bd0-9c5b-46b7672d20e4",
   "metadata": {},
   "outputs": [],
   "source": [
    "criterion = nn.CrossEntropyLoss()\n",
    "optimizer = optim.Adam(model.parameters(), lr=0.001)"
   ]
  },
  {
   "cell_type": "markdown",
   "id": "52d3dca5-8772-42eb-bcd5-4ddb0b325d68",
   "metadata": {},
   "source": [
    "### Train Model"
   ]
  },
  {
   "cell_type": "code",
   "execution_count": 5,
   "id": "ba6bf1b1-03a9-445c-92f5-6f68b28657ee",
   "metadata": {},
   "outputs": [
    {
     "name": "stdout",
     "output_type": "stream",
     "text": [
      "Epoch 1/10 - Train Loss: 0.3814, Val Loss: 0.2582\n",
      "Epoch 2/10 - Train Loss: 0.1624, Val Loss: 0.1827\n",
      "Epoch 3/10 - Train Loss: 0.1131, Val Loss: 0.1467\n",
      "Epoch 4/10 - Train Loss: 0.0886, Val Loss: 0.1288\n",
      "Epoch 5/10 - Train Loss: 0.0688, Val Loss: 0.1164\n",
      "Epoch 6/10 - Train Loss: 0.0558, Val Loss: 0.1111\n",
      "Epoch 7/10 - Train Loss: 0.0430, Val Loss: 0.1360\n",
      "Epoch 8/10 - Train Loss: 0.0368, Val Loss: 0.1064\n",
      "Epoch 9/10 - Train Loss: 0.0299, Val Loss: 0.1153\n",
      "Epoch 10/10 - Train Loss: 0.0257, Val Loss: 0.1104\n"
     ]
    }
   ],
   "source": [
    "num_epochs = 10\n",
    "train_losses = []\n",
    "val_losses = []\n",
    "\n",
    "for epoch in range(num_epochs):\n",
    "    # 학습 모드 전환\n",
    "    model.train()\n",
    "    train_loss_epoch = 0.0\n",
    "\n",
    "    for features, targets in train_loader:  # 학습 데이터를 batch_size 단위로 불러오기 \n",
    "        outputs = model(features) # 순전파\n",
    "        loss = criterion(outputs, targets) # 손실 계산\n",
    "\n",
    "        optimizer.zero_grad() # 기울기 초기화\n",
    "        loss.backward() # 역전파\n",
    "        optimizer.step() # 파라미터 업데이트\n",
    "\n",
    "        train_loss_epoch += loss.item() # 손실값 누적\n",
    "\n",
    "    avg_train_loss = train_loss_epoch / len(train_loader) # epoch당 평균 학습 손실 계산\n",
    "    train_losses.append(avg_train_loss)\n",
    "\n",
    "# ======================================================================================================\n",
    "    \n",
    "    # 평가 모드 전환 (Dropout, BatchNorm 등을 비활성화)\n",
    "    model.eval()\n",
    "    val_loss_epoch = 0.0\n",
    "    \n",
    "    with torch.no_grad():\n",
    "        for features, targets in val_loader:  # 검증 데이터를 batch_size 단위로 불러오기\n",
    "            outputs = model(features)  # 순전파\n",
    "            loss = criterion(outputs, targets) # 손실계산\n",
    "            \n",
    "            val_loss_epoch += loss.item() # 손실값 누적\n",
    "            \n",
    "    avg_val_loss = val_loss_epoch / len(test_loader) # 평균 검증 손실 계산\n",
    "    val_losses.append(avg_val_loss)\n",
    "\n",
    "    print(f\"Epoch {epoch+1}/{num_epochs} - Train Loss: {avg_train_loss:.4f}, Val Loss: {avg_val_loss:.4f}\")    "
   ]
  },
  {
   "cell_type": "code",
   "execution_count": 6,
   "id": "63c9f6a2-29e6-4b86-a547-09ccfc4418bf",
   "metadata": {},
   "outputs": [
    {
     "data": {
      "image/png": "[encoded data removed]",
      "text/plain": [
       "<Figure size 800x600 with 1 Axes>"
      ]
     },
     "metadata": {},
     "output_type": "display_data"
    }
   ],
   "source": [
    "plt.figure(figsize=(8,6))\n",
    "plt.plot(range(1, num_epochs+1), train_losses, label='Training Loss')\n",
    "plt.plot(range(1, num_epochs+1), val_losses, label='Validation Loss')\n",
    "plt.xlabel('Epoch')\n",
    "plt.ylabel('Loss')\n",
    "plt.title('Training and Validation Loss')\n",
    "plt.legend()\n",
    "plt.grid(True)\n",
    "plt.show()"
   ]
  },
  {
   "cell_type": "markdown",
   "id": "52da7c17-5fba-4c57-8594-815529850076",
   "metadata": {},
   "source": [
    "### Evaluation & Test"
   ]
  },
  {
   "cell_type": "code",
   "execution_count": 7,
   "id": "59d8452f-ac44-455c-964c-8d6d15149439",
   "metadata": {},
   "outputs": [
    {
     "name": "stdout",
     "output_type": "stream",
     "text": [
      "\n",
      "=== Classification Report ===\n",
      "Accuracy : 0.9755\n",
      "Precision: 0.9755\n",
      "Recall   : 0.9753\n",
      "F1 Score : 0.9754\n",
      "Confusion Matrix:\n",
      "[[ 973    0    0    0    1    0    1    1    4    0]\n",
      " [   0 1121    3    4    0    0    2    0    5    0]\n",
      " [   7    0 1003    1    3    0    2    7    9    0]\n",
      " [   0    1    8  979    0    6    1    3    9    3]\n",
      " [   0    1    4    0  959    1    5    1    1   10]\n",
      " [   2    0    0   10    2  861    5    2    8    2]\n",
      " [   6    2    1    1    4    2  938    1    3    0]\n",
      " [   1    8   12    4    1    0    0  992    1    9]\n",
      " [   3    1    2    3    2    3    2    3  951    4]\n",
      " [   3    4    0    2   13    0    0    2    7  978]]\n"
     ]
    }
   ],
   "source": [
    "# 평가 모드 전환\n",
    "model.eval()\n",
    "all_preds = []\n",
    "all_labels = []\n",
    "\n",
    "with torch.no_grad():\n",
    "    for features, targets in test_loader:  # 테스트 데이터를 미니배치 단위로 불러옴 \n",
    "        outputs = model(features) # 순전파\n",
    "        preds = torch.argmax(outputs, dim=1)  # softmax 출력 중 최대 확률을 갖는 클래스로 예측 \n",
    "        all_preds.extend(preds.cpu().numpy())\n",
    "        all_labels.extend(targets.cpu().numpy())\n",
    "\n",
    "# 평가 지표 출력\n",
    "acc = accuracy_score(all_labels, all_preds)\n",
    "prec = precision_score(all_labels, all_preds, average='macro')\n",
    "rec = recall_score(all_labels, all_preds, average='macro')\n",
    "f1 = f1_score(all_labels, all_preds, average='macro')\n",
    "cm = confusion_matrix(all_labels, all_preds)\n",
    "\n",
    "print(\"\\n=== Classification Report ===\")\n",
    "print(f\"Accuracy : {acc:.4f}\")\n",
    "print(f\"Precision: {prec:.4f}\")\n",
    "print(f\"Recall   : {rec:.4f}\")\n",
    "print(f\"F1 Score : {f1:.4f}\")\n",
    "print(\"Confusion Matrix:\")\n",
    "print(cm)"
   ]
  },
  {
   "cell_type": "code",
   "execution_count": null,
   "id": "91018997-fd46-431c-8fd7-2dbe5ca51e49",
   "metadata": {},
   "outputs": [],
   "source": []
  }
 ],
 "metadata": {
  "kernelspec": {
   "display_name": "Python 3 (ipykernel)",
   "language": "python",
   "name": "python3"
  },
  "language_info": {
   "codemirror_mode": {
    "name": "ipython",
    "version": 3
   },
   "file_extension": ".py",
   "mimetype": "text/x-python",
   "name": "python",
   "nbconvert_exporter": "python",
   "pygments_lexer": "ipython3",
   "version": "3.10.16"
  }
 },
 "nbformat": 4,
 "nbformat_minor": 5
}
