{
 "cells": [
  {
   "cell_type": "markdown",
   "id": "57b5e748-e3dd-46aa-82c3-90866e36d7ca",
   "metadata": {},
   "source": [
    "## 라이브러리 불러오기"
   ]
  },
  {
   "cell_type": "code",
   "execution_count": 19,
   "id": "57240377-e226-4ca3-ba09-2d823126efea",
   "metadata": {},
   "outputs": [],
   "source": [
    "import pandas as pd\n",
    "import numpy as np\n",
    "import matplotlib.pyplot as plt\n",
    "\n",
    "from sklearn.preprocessing import StandardScaler\n",
    "from sklearn.metrics import accuracy_score, precision_score, recall_score, f1_score, roc_auc_score, confusion_matrix, ConfusionMatrixDisplay\n",
    "from sklearn.model_selection import train_test_split\n",
    "\n",
    "import torch\n",
    "import torch.nn as nn\n",
    "import torch.optim as optim\n",
    "from torch.utils.data import DataLoader, Dataset, TensorDataset"
   ]
  },
  {
   "cell_type": "markdown",
   "id": "b1df406b-4ed6-4d4d-9fef-d9f9c8cd4f98",
   "metadata": {},
   "source": [
    "## 데이터 불러오기"
   ]
  },
  {
   "cell_type": "code",
   "execution_count": 2,
   "id": "49307397-9c99-42fa-92f6-e153e2ca7c6e",
   "metadata": {},
   "outputs": [
    {
     "data": {
      "text/html": [
       "<div>\n",
       "<style scoped>\n",
       "    .dataframe tbody tr th:only-of-type {\n",
       "        vertical-align: middle;\n",
       "    }\n",
       "\n",
       "    .dataframe tbody tr th {\n",
       "        vertical-align: top;\n",
       "    }\n",
       "\n",
       "    .dataframe thead th {\n",
       "        text-align: right;\n",
       "    }\n",
       "</style>\n",
       "<table border=\"1\" class=\"dataframe\">\n",
       "  <thead>\n",
       "    <tr style=\"text-align: right;\">\n",
       "      <th></th>\n",
       "      <th>Pregnancies</th>\n",
       "      <th>Glucose</th>\n",
       "      <th>BloodPressure</th>\n",
       "      <th>SkinThickness</th>\n",
       "      <th>Insulin</th>\n",
       "      <th>BMI</th>\n",
       "      <th>DiabetesPedigreeFunction</th>\n",
       "      <th>Age</th>\n",
       "      <th>Outcome</th>\n",
       "    </tr>\n",
       "  </thead>\n",
       "  <tbody>\n",
       "    <tr>\n",
       "      <th>0</th>\n",
       "      <td>6</td>\n",
       "      <td>148</td>\n",
       "      <td>72</td>\n",
       "      <td>35</td>\n",
       "      <td>0</td>\n",
       "      <td>33.6</td>\n",
       "      <td>0.627</td>\n",
       "      <td>50</td>\n",
       "      <td>1</td>\n",
       "    </tr>\n",
       "    <tr>\n",
       "      <th>1</th>\n",
       "      <td>1</td>\n",
       "      <td>85</td>\n",
       "      <td>66</td>\n",
       "      <td>29</td>\n",
       "      <td>0</td>\n",
       "      <td>26.6</td>\n",
       "      <td>0.351</td>\n",
       "      <td>31</td>\n",
       "      <td>0</td>\n",
       "    </tr>\n",
       "    <tr>\n",
       "      <th>2</th>\n",
       "      <td>8</td>\n",
       "      <td>183</td>\n",
       "      <td>64</td>\n",
       "      <td>0</td>\n",
       "      <td>0</td>\n",
       "      <td>23.3</td>\n",
       "      <td>0.672</td>\n",
       "      <td>32</td>\n",
       "      <td>1</td>\n",
       "    </tr>\n",
       "    <tr>\n",
       "      <th>3</th>\n",
       "      <td>1</td>\n",
       "      <td>89</td>\n",
       "      <td>66</td>\n",
       "      <td>23</td>\n",
       "      <td>94</td>\n",
       "      <td>28.1</td>\n",
       "      <td>0.167</td>\n",
       "      <td>21</td>\n",
       "      <td>0</td>\n",
       "    </tr>\n",
       "    <tr>\n",
       "      <th>4</th>\n",
       "      <td>0</td>\n",
       "      <td>137</td>\n",
       "      <td>40</td>\n",
       "      <td>35</td>\n",
       "      <td>168</td>\n",
       "      <td>43.1</td>\n",
       "      <td>2.288</td>\n",
       "      <td>33</td>\n",
       "      <td>1</td>\n",
       "    </tr>\n",
       "  </tbody>\n",
       "</table>\n",
       "</div>"
      ],
      "text/plain": [
       "   Pregnancies  Glucose  BloodPressure  SkinThickness  Insulin   BMI  \\\n",
       "0            6      148             72             35        0  33.6   \n",
       "1            1       85             66             29        0  26.6   \n",
       "2            8      183             64              0        0  23.3   \n",
       "3            1       89             66             23       94  28.1   \n",
       "4            0      137             40             35      168  43.1   \n",
       "\n",
       "   DiabetesPedigreeFunction  Age  Outcome  \n",
       "0                     0.627   50        1  \n",
       "1                     0.351   31        0  \n",
       "2                     0.672   32        1  \n",
       "3                     0.167   21        0  \n",
       "4                     2.288   33        1  "
      ]
     },
     "execution_count": 2,
     "metadata": {},
     "output_type": "execute_result"
    }
   ],
   "source": [
    "data = pd.read_csv(\"C://Users/sampa/ai_class/data_files/diabetes.csv\")\n",
    "data.head()"
   ]
  },
  {
   "cell_type": "code",
   "execution_count": 3,
   "id": "c790ba53-7dc0-4512-be59-5e1ef29abc5a",
   "metadata": {},
   "outputs": [
    {
     "data": {
      "text/plain": [
       "Index(['Pregnancies', 'Glucose', 'BloodPressure', 'SkinThickness', 'Insulin',\n",
       "       'BMI', 'DiabetesPedigreeFunction', 'Age', 'Outcome'],\n",
       "      dtype='object')"
      ]
     },
     "execution_count": 3,
     "metadata": {},
     "output_type": "execute_result"
    }
   ],
   "source": [
    "data.columns"
   ]
  },
  {
   "cell_type": "markdown",
   "id": "eaa10e2e-3bfc-49bf-a490-a7c2ba62a403",
   "metadata": {},
   "source": [
    "## 데이터 나누기"
   ]
  },
  {
   "cell_type": "code",
   "execution_count": 4,
   "id": "64963450-62de-46d7-99d2-8bee026d15ac",
   "metadata": {},
   "outputs": [],
   "source": [
    "X = data.drop(columns=[\"Outcome\"])\n",
    "y = data[\"Outcome\"]"
   ]
  },
  {
   "cell_type": "code",
   "execution_count": 5,
   "id": "a38afd68-e4b5-4d10-a866-137750fb148d",
   "metadata": {},
   "outputs": [
    {
     "data": {
      "text/html": [
       "<div>\n",
       "<style scoped>\n",
       "    .dataframe tbody tr th:only-of-type {\n",
       "        vertical-align: middle;\n",
       "    }\n",
       "\n",
       "    .dataframe tbody tr th {\n",
       "        vertical-align: top;\n",
       "    }\n",
       "\n",
       "    .dataframe thead th {\n",
       "        text-align: right;\n",
       "    }\n",
       "</style>\n",
       "<table border=\"1\" class=\"dataframe\">\n",
       "  <thead>\n",
       "    <tr style=\"text-align: right;\">\n",
       "      <th></th>\n",
       "      <th>Pregnancies</th>\n",
       "      <th>Glucose</th>\n",
       "      <th>BloodPressure</th>\n",
       "      <th>SkinThickness</th>\n",
       "      <th>Insulin</th>\n",
       "      <th>BMI</th>\n",
       "      <th>DiabetesPedigreeFunction</th>\n",
       "      <th>Age</th>\n",
       "    </tr>\n",
       "  </thead>\n",
       "  <tbody>\n",
       "    <tr>\n",
       "      <th>0</th>\n",
       "      <td>6</td>\n",
       "      <td>148</td>\n",
       "      <td>72</td>\n",
       "      <td>35</td>\n",
       "      <td>0</td>\n",
       "      <td>33.6</td>\n",
       "      <td>0.627</td>\n",
       "      <td>50</td>\n",
       "    </tr>\n",
       "    <tr>\n",
       "      <th>1</th>\n",
       "      <td>1</td>\n",
       "      <td>85</td>\n",
       "      <td>66</td>\n",
       "      <td>29</td>\n",
       "      <td>0</td>\n",
       "      <td>26.6</td>\n",
       "      <td>0.351</td>\n",
       "      <td>31</td>\n",
       "    </tr>\n",
       "    <tr>\n",
       "      <th>2</th>\n",
       "      <td>8</td>\n",
       "      <td>183</td>\n",
       "      <td>64</td>\n",
       "      <td>0</td>\n",
       "      <td>0</td>\n",
       "      <td>23.3</td>\n",
       "      <td>0.672</td>\n",
       "      <td>32</td>\n",
       "    </tr>\n",
       "    <tr>\n",
       "      <th>3</th>\n",
       "      <td>1</td>\n",
       "      <td>89</td>\n",
       "      <td>66</td>\n",
       "      <td>23</td>\n",
       "      <td>94</td>\n",
       "      <td>28.1</td>\n",
       "      <td>0.167</td>\n",
       "      <td>21</td>\n",
       "    </tr>\n",
       "    <tr>\n",
       "      <th>4</th>\n",
       "      <td>0</td>\n",
       "      <td>137</td>\n",
       "      <td>40</td>\n",
       "      <td>35</td>\n",
       "      <td>168</td>\n",
       "      <td>43.1</td>\n",
       "      <td>2.288</td>\n",
       "      <td>33</td>\n",
       "    </tr>\n",
       "  </tbody>\n",
       "</table>\n",
       "</div>"
      ],
      "text/plain": [
       "   Pregnancies  Glucose  BloodPressure  SkinThickness  Insulin   BMI  \\\n",
       "0            6      148             72             35        0  33.6   \n",
       "1            1       85             66             29        0  26.6   \n",
       "2            8      183             64              0        0  23.3   \n",
       "3            1       89             66             23       94  28.1   \n",
       "4            0      137             40             35      168  43.1   \n",
       "\n",
       "   DiabetesPedigreeFunction  Age  \n",
       "0                     0.627   50  \n",
       "1                     0.351   31  \n",
       "2                     0.672   32  \n",
       "3                     0.167   21  \n",
       "4                     2.288   33  "
      ]
     },
     "execution_count": 5,
     "metadata": {},
     "output_type": "execute_result"
    }
   ],
   "source": [
    "X.head()"
   ]
  },
  {
   "cell_type": "code",
   "execution_count": 6,
   "id": "bd238351-a069-458b-85ce-026166e1951c",
   "metadata": {},
   "outputs": [
    {
     "data": {
      "text/plain": [
       "0    1\n",
       "1    0\n",
       "2    1\n",
       "3    0\n",
       "4    1\n",
       "Name: Outcome, dtype: int64"
      ]
     },
     "execution_count": 6,
     "metadata": {},
     "output_type": "execute_result"
    }
   ],
   "source": [
    "y.head()"
   ]
  },
  {
   "cell_type": "markdown",
   "id": "b4b20450-7163-4a29-8461-31eafc2ae3e4",
   "metadata": {},
   "source": [
    "## 정규화"
   ]
  },
  {
   "cell_type": "code",
   "execution_count": 7,
   "id": "39ec3b34-acf3-4789-a3af-8e9d3b97f0cb",
   "metadata": {},
   "outputs": [],
   "source": [
    "scaler = StandardScaler()\n",
    "X = scaler.fit_transform(X)"
   ]
  },
  {
   "cell_type": "markdown",
   "id": "66d8e5ad-59b2-45f6-8b8a-bd4117cfb54f",
   "metadata": {},
   "source": [
    "## 학습, 테스트 데이터 나누기"
   ]
  },
  {
   "cell_type": "code",
   "execution_count": 8,
   "id": "20b957e6-75a9-44d3-b883-cc33f81d41cb",
   "metadata": {},
   "outputs": [
    {
     "data": {
      "text/plain": [
       "((614, 8), (154, 8), (614,), (154,))"
      ]
     },
     "execution_count": 8,
     "metadata": {},
     "output_type": "execute_result"
    }
   ],
   "source": [
    "X_train, X_test, y_train, y_test = train_test_split(X, y, test_size=0.2, random_state=42)\n",
    "\n",
    "X_train.shape, X_test.shape, y_train.shape, y_test.shape"
   ]
  },
  {
   "cell_type": "markdown",
   "id": "6e6d6e1a-1644-450f-ba35-cd64c2ea007e",
   "metadata": {},
   "source": [
    "## PyTorch Tensor로 변환\n",
    "- 회귀용: `float32` + `(N, 1)` shape\n",
    "- 분류용: `long`\n",
    "\n",
    "#### *[변환 오류]*\n",
    "- X_test는 잘 변환되고 y_test는 안되는 이유?\n",
    "  - X_test는 위에서 StandardScaler()를 통해서 np array가 됨\n",
    "  - y_test는 계속 Pandas Series 상태\n",
    "- `.to_numpy()`를 해서 넘겨주자"
   ]
  },
  {
   "cell_type": "code",
   "execution_count": 9,
   "id": "650b6b7c-fd64-4f18-8cc4-dfc66110b063",
   "metadata": {},
   "outputs": [],
   "source": [
    "X_train = torch.tensor(X_train, dtype=torch.float32)\n",
    "X_test = torch.tensor(X_test, dtype=torch.float32)\n",
    "\n",
    "y_train = torch.tensor(y_train, dtype=torch.long) \n",
    "y_test = torch.tensor(y_test.to_numpy(), dtype=torch.long) "
   ]
  },
  {
   "cell_type": "markdown",
   "id": "dcf9f112-a4dc-4afb-8c6a-574ac78c4f4c",
   "metadata": {},
   "source": [
    "## 데이터로더 정의"
   ]
  },
  {
   "cell_type": "code",
   "execution_count": 10,
   "id": "4c8c0e2e-c252-487f-85e9-103a5b98d0f7",
   "metadata": {},
   "outputs": [
    {
     "data": {
      "text/plain": [
       "(torch.Size([614, 8]),\n",
       " torch.Size([154, 8]),\n",
       " torch.Size([614]),\n",
       " torch.Size([154]))"
      ]
     },
     "execution_count": 10,
     "metadata": {},
     "output_type": "execute_result"
    }
   ],
   "source": [
    "batch_size = 4\n",
    "train_set = TensorDataset(X_train, y_train)\n",
    "train_loader = DataLoader(train_set, batch_size=batch_size, shuffle=True)\n",
    "\n",
    "test_set = TensorDataset(X_test, y_test)\n",
    "test_loader = DataLoader(test_set, batch_size=batch_size, shuffle=False)\n",
    "\n",
    "X_train.shape, X_test.shape, y_train.shape, y_test.shape"
   ]
  },
  {
   "cell_type": "markdown",
   "id": "4417d94a-efa9-457b-8251-93d8cd64f0a2",
   "metadata": {},
   "source": [
    "## 모델 정의"
   ]
  },
  {
   "cell_type": "code",
   "execution_count": 11,
   "id": "07f41111-33d3-4e74-a8c9-8ce4d99a9023",
   "metadata": {},
   "outputs": [],
   "source": [
    "input_dim = X_train.shape[1]  # feature 개수\n",
    "hidden_dim = 64  # 은닉층 뉴런 수\n",
    "output_dim = 2  # 클래스 분류 \n",
    "\n",
    "class Model(nn.Module):\n",
    "    def __init__(self, input_dim, hidden_dim, output_dim):\n",
    "        super(Model, self).__init__()\n",
    "        self.model = nn.Sequential(\n",
    "                nn.Linear(input_dim, hidden_dim),\n",
    "                nn.ReLU(),\n",
    "                nn.Linear(hidden_dim, output_dim)\n",
    "            )\n",
    "        \n",
    "    def forward(self, x):\n",
    "        return self.model(x)\n",
    "        \n",
    "model = Model(input_dim=input_dim, hidden_dim=hidden_dim, output_dim=output_dim)"
   ]
  },
  {
   "cell_type": "markdown",
   "id": "00402dcd-7cfa-4498-9b54-28b13b4d1090",
   "metadata": {},
   "source": [
    "## 손실함수 및 옵티마이저 정의"
   ]
  },
  {
   "cell_type": "code",
   "execution_count": 12,
   "id": "ea3a2c58-d247-4b28-acdc-2236ab4f749a",
   "metadata": {},
   "outputs": [],
   "source": [
    "criterion = nn.CrossEntropyLoss()\n",
    "optimizer = optim.Adam(model.parameters(), lr=0.001)"
   ]
  },
  {
   "cell_type": "markdown",
   "id": "cb7b83e6-df60-4b97-9f96-0d4d384fec45",
   "metadata": {},
   "source": [
    "## 모델 학습"
   ]
  },
  {
   "cell_type": "code",
   "execution_count": 13,
   "id": "039593ff-29f1-4eca-86ca-4751eb2a75d1",
   "metadata": {
    "scrolled": true
   },
   "outputs": [
    {
     "name": "stdout",
     "output_type": "stream",
     "text": [
      "Epoch 1/50 - Train Loss: 0.5747, Val Loss: 0.5298\n",
      "Epoch 2/50 - Train Loss: 0.4802, Val Loss: 0.5111\n",
      "Epoch 3/50 - Train Loss: 0.4611, Val Loss: 0.5098\n",
      "Epoch 4/50 - Train Loss: 0.4462, Val Loss: 0.5131\n",
      "Epoch 5/50 - Train Loss: 0.4433, Val Loss: 0.5133\n",
      "Epoch 6/50 - Train Loss: 0.4369, Val Loss: 0.5186\n",
      "Epoch 7/50 - Train Loss: 0.4362, Val Loss: 0.5174\n",
      "Epoch 8/50 - Train Loss: 0.4327, Val Loss: 0.5200\n",
      "Epoch 9/50 - Train Loss: 0.4268, Val Loss: 0.5207\n",
      "Epoch 10/50 - Train Loss: 0.4264, Val Loss: 0.5213\n",
      "Epoch 11/50 - Train Loss: 0.4246, Val Loss: 0.5267\n",
      "Epoch 12/50 - Train Loss: 0.4201, Val Loss: 0.5241\n",
      "Epoch 13/50 - Train Loss: 0.4213, Val Loss: 0.5314\n",
      "Epoch 14/50 - Train Loss: 0.4170, Val Loss: 0.5209\n",
      "Epoch 15/50 - Train Loss: 0.4168, Val Loss: 0.5272\n",
      "Epoch 16/50 - Train Loss: 0.4105, Val Loss: 0.5328\n",
      "Epoch 17/50 - Train Loss: 0.4119, Val Loss: 0.5316\n",
      "Epoch 18/50 - Train Loss: 0.4088, Val Loss: 0.5308\n",
      "Epoch 19/50 - Train Loss: 0.4094, Val Loss: 0.5297\n",
      "Epoch 20/50 - Train Loss: 0.4062, Val Loss: 0.5361\n",
      "Epoch 21/50 - Train Loss: 0.4020, Val Loss: 0.5308\n",
      "Epoch 22/50 - Train Loss: 0.4033, Val Loss: 0.5352\n",
      "Epoch 23/50 - Train Loss: 0.3992, Val Loss: 0.5320\n",
      "Epoch 24/50 - Train Loss: 0.3986, Val Loss: 0.5348\n",
      "Epoch 25/50 - Train Loss: 0.3948, Val Loss: 0.5369\n",
      "Epoch 26/50 - Train Loss: 0.3960, Val Loss: 0.5364\n",
      "Epoch 27/50 - Train Loss: 0.3931, Val Loss: 0.5381\n",
      "Epoch 28/50 - Train Loss: 0.3913, Val Loss: 0.5397\n",
      "Epoch 29/50 - Train Loss: 0.3886, Val Loss: 0.5391\n",
      "Epoch 30/50 - Train Loss: 0.3864, Val Loss: 0.5528\n",
      "Epoch 31/50 - Train Loss: 0.3876, Val Loss: 0.5477\n",
      "Epoch 32/50 - Train Loss: 0.3853, Val Loss: 0.5437\n",
      "Epoch 33/50 - Train Loss: 0.3893, Val Loss: 0.5389\n",
      "Epoch 34/50 - Train Loss: 0.3827, Val Loss: 0.5503\n",
      "Epoch 35/50 - Train Loss: 0.3811, Val Loss: 0.5530\n",
      "Epoch 36/50 - Train Loss: 0.3786, Val Loss: 0.5561\n",
      "Epoch 37/50 - Train Loss: 0.3813, Val Loss: 0.5574\n",
      "Epoch 38/50 - Train Loss: 0.3767, Val Loss: 0.5521\n",
      "Epoch 39/50 - Train Loss: 0.3741, Val Loss: 0.5537\n",
      "Epoch 40/50 - Train Loss: 0.3717, Val Loss: 0.5511\n",
      "Epoch 41/50 - Train Loss: 0.3736, Val Loss: 0.5501\n",
      "Epoch 42/50 - Train Loss: 0.3706, Val Loss: 0.5585\n",
      "Epoch 43/50 - Train Loss: 0.3678, Val Loss: 0.5551\n",
      "Epoch 44/50 - Train Loss: 0.3671, Val Loss: 0.5633\n",
      "Epoch 45/50 - Train Loss: 0.3668, Val Loss: 0.5656\n",
      "Epoch 46/50 - Train Loss: 0.3685, Val Loss: 0.5623\n",
      "Epoch 47/50 - Train Loss: 0.3661, Val Loss: 0.5677\n",
      "Epoch 48/50 - Train Loss: 0.3634, Val Loss: 0.5641\n",
      "Epoch 49/50 - Train Loss: 0.3621, Val Loss: 0.5654\n",
      "Epoch 50/50 - Train Loss: 0.3571, Val Loss: 0.5666\n"
     ]
    }
   ],
   "source": [
    "num_epochs = 50\n",
    "train_losses = []\n",
    "val_losses = []\n",
    "\n",
    "for epoch in range(num_epochs):\n",
    "    # 학습 모드 전환\n",
    "    model.train()\n",
    "    train_loss_epoch = 0.0\n",
    "\n",
    "    for features, targets in train_loader:\n",
    "        outputs = model(features) # 순전파\n",
    "        loss = criterion(outputs, targets) # 손실 계산\n",
    "\n",
    "        optimizer.zero_grad()  # 기울기 초기화\n",
    "        loss.backward()  # 역전파\n",
    "        optimizer.step()  # 파라미터 업데이트\n",
    "\n",
    "        train_loss_epoch += loss.item()  # 손실 누적\n",
    "\n",
    "    avg_train_loss = train_loss_epoch / len(train_loader)\n",
    "    train_losses.append(avg_train_loss)\n",
    "\n",
    "    # 평가 모드 전환\n",
    "    model.eval()\n",
    "    val_loss_epoch = 0.0\n",
    "    with torch.no_grad():\n",
    "        for features, targets in test_loader:\n",
    "            outputs = model(features)\n",
    "            loss = criterion(outputs, targets)\n",
    "            val_loss_epoch += loss.item()\n",
    "    avg_val_loss = val_loss_epoch / len(test_loader)\n",
    "    val_losses.append(avg_val_loss)\n",
    "\n",
    "    print(f\"Epoch {epoch+1}/{num_epochs} - Train Loss: {avg_train_loss:.4f}, Val Loss: {avg_val_loss:.4f}\")"
   ]
  },
  {
   "cell_type": "code",
   "execution_count": 14,
   "id": "32f5b0a2-29e1-45a3-bcdb-4b5c7c339e20",
   "metadata": {},
   "outputs": [
    {
     "data": {
      "image/png": "[encoded data removed]",
      "text/plain": [
       "<Figure size 800x600 with 1 Axes>"
      ]
     },
     "metadata": {},
     "output_type": "display_data"
    }
   ],
   "source": [
    "plt.figure(figsize=(8,6))\n",
    "plt.plot(range(1, num_epochs+1), train_losses, label='Training Loss')\n",
    "plt.plot(range(1, num_epochs+1), val_losses, label='Validation Loss')\n",
    "plt.xlabel('Epoch')\n",
    "plt.ylabel('Loss')\n",
    "plt.title('Training and Validation Loss')\n",
    "plt.legend()\n",
    "plt.grid(True)\n",
    "plt.show()"
   ]
  },
  {
   "cell_type": "markdown",
   "id": "8089934f-025a-4ab5-934b-328ccb953e4b",
   "metadata": {},
   "source": [
    "## 평가 및 추론"
   ]
  },
  {
   "cell_type": "code",
   "execution_count": 20,
   "id": "d9d32eae-264a-4345-be28-75f86067e209",
   "metadata": {},
   "outputs": [
    {
     "name": "stdout",
     "output_type": "stream",
     "text": [
      "\n",
      "=== Classification Report ===\n",
      "Accuracy : 0.7468\n",
      "Precision: 0.6538\n",
      "Recall   : 0.6182\n",
      "F1 Score : 0.6355\n",
      "Confusion Matrix:\n",
      "[[81 18]\n",
      " [21 34]]\n"
     ]
    }
   ],
   "source": [
    "model.eval()\n",
    "all_preds = []\n",
    "all_labels = []\n",
    "\n",
    "with torch.no_grad():\n",
    "    for features, targets in test_loader:\n",
    "        outputs = model(features)\n",
    "        preds = torch.argmax(outputs, dim=1)\n",
    "        all_preds.extend(preds.cpu().numpy())\n",
    "        all_labels.extend(targets.cpu().numpy())\n",
    "\n",
    "# 10. 평가 지표 출력\n",
    "acc = accuracy_score(all_labels, all_preds)\n",
    "prec = precision_score(all_labels, all_preds)\n",
    "rec = recall_score(all_labels, all_preds)\n",
    "f1 = f1_score(all_labels, all_preds)\n",
    "cm = confusion_matrix(all_labels, all_preds)\n",
    "\n",
    "print(\"\\n=== Classification Report ===\")\n",
    "print(f\"Accuracy : {acc:.4f}\")\n",
    "print(f\"Precision: {prec:.4f}\")\n",
    "print(f\"Recall   : {rec:.4f}\")\n",
    "print(f\"F1 Score : {f1:.4f}\")\n",
    "print(\"Confusion Matrix:\")\n",
    "print(cm)"
   ]
  },
  {
   "cell_type": "code",
   "execution_count": null,
   "id": "8fe0d70d-8629-4476-9491-b84a1655362b",
   "metadata": {},
   "outputs": [],
   "source": []
  }
 ],
 "metadata": {
  "kernelspec": {
   "display_name": "Python 3 (ipykernel)",
   "language": "python",
   "name": "python3"
  },
  "language_info": {
   "codemirror_mode": {
    "name": "ipython",
    "version": 3
   },
   "file_extension": ".py",
   "mimetype": "text/x-python",
   "name": "python",
   "nbconvert_exporter": "python",
   "pygments_lexer": "ipython3",
   "version": "3.10.16"
  }
 },
 "nbformat": 4,
 "nbformat_minor": 5
}
