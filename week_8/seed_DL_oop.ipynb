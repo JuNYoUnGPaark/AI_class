{
 "cells": [
  {
   "cell_type": "code",
   "execution_count": 1,
   "id": "72e47255-77de-4f1b-8b5a-32722ad28a7c",
   "metadata": {},
   "outputs": [
    {
     "data": {
      "text/html": [
       "<div>\n",
       "<style scoped>\n",
       "    .dataframe tbody tr th:only-of-type {\n",
       "        vertical-align: middle;\n",
       "    }\n",
       "\n",
       "    .dataframe tbody tr th {\n",
       "        vertical-align: top;\n",
       "    }\n",
       "\n",
       "    .dataframe thead th {\n",
       "        text-align: right;\n",
       "    }\n",
       "</style>\n",
       "<table border=\"1\" class=\"dataframe\">\n",
       "  <thead>\n",
       "    <tr style=\"text-align: right;\">\n",
       "      <th></th>\n",
       "      <th>A</th>\n",
       "      <th>P</th>\n",
       "      <th>C</th>\n",
       "      <th>LK</th>\n",
       "      <th>WK</th>\n",
       "      <th>A_Coef</th>\n",
       "      <th>LKG</th>\n",
       "      <th>target</th>\n",
       "    </tr>\n",
       "  </thead>\n",
       "  <tbody>\n",
       "    <tr>\n",
       "      <th>0</th>\n",
       "      <td>15.26</td>\n",
       "      <td>14.84</td>\n",
       "      <td>0.8710</td>\n",
       "      <td>5.763</td>\n",
       "      <td>3.312</td>\n",
       "      <td>2.221</td>\n",
       "      <td>5.220</td>\n",
       "      <td>0</td>\n",
       "    </tr>\n",
       "    <tr>\n",
       "      <th>1</th>\n",
       "      <td>14.88</td>\n",
       "      <td>14.57</td>\n",
       "      <td>0.8811</td>\n",
       "      <td>5.554</td>\n",
       "      <td>3.333</td>\n",
       "      <td>1.018</td>\n",
       "      <td>4.956</td>\n",
       "      <td>0</td>\n",
       "    </tr>\n",
       "    <tr>\n",
       "      <th>2</th>\n",
       "      <td>14.29</td>\n",
       "      <td>14.09</td>\n",
       "      <td>0.9050</td>\n",
       "      <td>5.291</td>\n",
       "      <td>3.337</td>\n",
       "      <td>2.699</td>\n",
       "      <td>4.825</td>\n",
       "      <td>0</td>\n",
       "    </tr>\n",
       "    <tr>\n",
       "      <th>3</th>\n",
       "      <td>13.84</td>\n",
       "      <td>13.94</td>\n",
       "      <td>0.8955</td>\n",
       "      <td>5.324</td>\n",
       "      <td>3.379</td>\n",
       "      <td>2.259</td>\n",
       "      <td>4.805</td>\n",
       "      <td>0</td>\n",
       "    </tr>\n",
       "    <tr>\n",
       "      <th>4</th>\n",
       "      <td>16.14</td>\n",
       "      <td>14.99</td>\n",
       "      <td>0.9034</td>\n",
       "      <td>5.658</td>\n",
       "      <td>3.562</td>\n",
       "      <td>1.355</td>\n",
       "      <td>5.175</td>\n",
       "      <td>0</td>\n",
       "    </tr>\n",
       "  </tbody>\n",
       "</table>\n",
       "</div>"
      ],
      "text/plain": [
       "       A      P       C     LK     WK  A_Coef    LKG  target\n",
       "0  15.26  14.84  0.8710  5.763  3.312   2.221  5.220       0\n",
       "1  14.88  14.57  0.8811  5.554  3.333   1.018  4.956       0\n",
       "2  14.29  14.09  0.9050  5.291  3.337   2.699  4.825       0\n",
       "3  13.84  13.94  0.8955  5.324  3.379   2.259  4.805       0\n",
       "4  16.14  14.99  0.9034  5.658  3.562   1.355  5.175       0"
      ]
     },
     "execution_count": 1,
     "metadata": {},
     "output_type": "execute_result"
    }
   ],
   "source": [
    "import pandas as pd\n",
    "file_path = \"C://Users/sampa/ai_class/data_files/Seed_Data.csv\"\n",
    "\n",
    "df = pd.read_csv(file_path)\n",
    "df.head()"
   ]
  },
  {
   "cell_type": "code",
   "execution_count": 2,
   "id": "0be50088-577a-4ebe-b2c8-5741840e30f8",
   "metadata": {},
   "outputs": [
    {
     "data": {
      "text/plain": [
       "A         0\n",
       "P         0\n",
       "C         0\n",
       "LK        0\n",
       "WK        0\n",
       "A_Coef    0\n",
       "LKG       0\n",
       "target    0\n",
       "dtype: int64"
      ]
     },
     "execution_count": 2,
     "metadata": {},
     "output_type": "execute_result"
    }
   ],
   "source": [
    "df.isna().sum()"
   ]
  },
  {
   "cell_type": "code",
   "execution_count": 3,
   "id": "425db811-2279-46c1-aae2-2854594b1627",
   "metadata": {},
   "outputs": [
    {
     "name": "stdout",
     "output_type": "stream",
     "text": [
      "<class 'pandas.core.frame.DataFrame'>\n",
      "RangeIndex: 210 entries, 0 to 209\n",
      "Data columns (total 8 columns):\n",
      " #   Column  Non-Null Count  Dtype  \n",
      "---  ------  --------------  -----  \n",
      " 0   A       210 non-null    float64\n",
      " 1   P       210 non-null    float64\n",
      " 2   C       210 non-null    float64\n",
      " 3   LK      210 non-null    float64\n",
      " 4   WK      210 non-null    float64\n",
      " 5   A_Coef  210 non-null    float64\n",
      " 6   LKG     210 non-null    float64\n",
      " 7   target  210 non-null    int64  \n",
      "dtypes: float64(7), int64(1)\n",
      "memory usage: 13.2 KB\n"
     ]
    }
   ],
   "source": [
    "df.info()"
   ]
  },
  {
   "cell_type": "code",
   "execution_count": 4,
   "id": "1ef14287-16d7-43a0-a5e0-fec53f87a659",
   "metadata": {},
   "outputs": [
    {
     "data": {
      "text/plain": [
       "0    70\n",
       "1    70\n",
       "2    70\n",
       "Name: target, dtype: int64"
      ]
     },
     "execution_count": 4,
     "metadata": {},
     "output_type": "execute_result"
    }
   ],
   "source": [
    "df['target'].value_counts()"
   ]
  },
  {
   "cell_type": "code",
   "execution_count": 5,
   "id": "f0b73f1d-3574-4754-932f-c6f52f08b138",
   "metadata": {},
   "outputs": [
    {
     "name": "stdout",
     "output_type": "stream",
     "text": [
      "(210, 7)\n",
      "(210,)\n"
     ]
    }
   ],
   "source": [
    "X = df.drop(columns=['target'])\n",
    "y = df['target']\n",
    "\n",
    "print(X.shape)\n",
    "print(y.shape)"
   ]
  },
  {
   "cell_type": "code",
   "execution_count": 6,
   "id": "33fae800-5f1d-4875-8df6-8790dfc1ed0f",
   "metadata": {},
   "outputs": [
    {
     "name": "stdout",
     "output_type": "stream",
     "text": [
      "WARNING:tensorflow:From C:\\Users\\sampa\\anaconda3\\envs\\AI\\lib\\site-packages\\keras\\src\\losses.py:2976: The name tf.losses.sparse_softmax_cross_entropy is deprecated. Please use tf.compat.v1.losses.sparse_softmax_cross_entropy instead.\n",
      "\n"
     ]
    }
   ],
   "source": [
    "from tensorflow.keras.utils import to_categorical\n",
    "\n",
    "y = to_categorical(y, num_classes=3)"
   ]
  },
  {
   "cell_type": "code",
   "execution_count": 7,
   "id": "bd05c1d7-a700-4bdc-88a4-5a37e3ad9d77",
   "metadata": {},
   "outputs": [
    {
     "name": "stdout",
     "output_type": "stream",
     "text": [
      "훈련 데이터 크기: (168, 7)\n",
      "테스트 데이터 크기: (42, 7)\n"
     ]
    }
   ],
   "source": [
    "from sklearn.model_selection import train_test_split\n",
    "\n",
    "X_train, X_test, y_train, y_test = train_test_split(X, y, test_size=0.2, stratify=y, random_state=42)\n",
    "\n",
    "print(\"훈련 데이터 크기:\", X_train.shape)\n",
    "print(\"테스트 데이터 크기:\", X_test.shape)"
   ]
  },
  {
   "cell_type": "code",
   "execution_count": 8,
   "id": "f2b7f0d9-f762-4ae1-9670-f05fea07cb2b",
   "metadata": {},
   "outputs": [
    {
     "name": "stdout",
     "output_type": "stream",
     "text": [
      "최종 훈련 데이터 크기: (134, 7)\n",
      "검증 데이터 크기: (34, 7)\n",
      "테스트 데이터 크기: (42, 7)\n"
     ]
    }
   ],
   "source": [
    "X_train, X_val, y_train, y_val = train_test_split(X_train, y_train, test_size=0.2, stratify=y_train, random_state=42)\n",
    "\n",
    "print(\"최종 훈련 데이터 크기:\", X_train.shape)\n",
    "print(\"검증 데이터 크기:\", X_val.shape)\n",
    "print(\"테스트 데이터 크기:\", X_test.shape)"
   ]
  },
  {
   "cell_type": "code",
   "execution_count": 9,
   "id": "bc275833-0dfa-49a1-b8d7-189659a40717",
   "metadata": {},
   "outputs": [],
   "source": [
    "from sklearn.preprocessing import StandardScaler\n",
    "\n",
    "scaler = StandardScaler()\n",
    "X_train = scaler.fit_transform(X_train)  # 학습 데이터 기준으로 스케일링\n",
    "X_val = scaler.transform(X_val)  # 검증 데이터 변환\n",
    "X_test = scaler.transform(X_test)  # 테스트 데이터 변환"
   ]
  },
  {
   "cell_type": "code",
   "execution_count": 10,
   "id": "ffe2c9fd-a87e-477a-bafb-9c1dba54390c",
   "metadata": {},
   "outputs": [
    {
     "name": "stdout",
     "output_type": "stream",
     "text": [
      "WARNING:tensorflow:From C:\\Users\\sampa\\anaconda3\\envs\\AI\\lib\\site-packages\\keras\\src\\backend.py:873: The name tf.get_default_graph is deprecated. Please use tf.compat.v1.get_default_graph instead.\n",
      "\n",
      "WARNING:tensorflow:From C:\\Users\\sampa\\anaconda3\\envs\\AI\\lib\\site-packages\\keras\\src\\engine\\base_layer_utils.py:189: The name tf.placeholder is deprecated. Please use tf.compat.v1.placeholder instead.\n",
      "\n"
     ]
    }
   ],
   "source": [
    "import tensorflow as tf\n",
    "from tensorflow.keras.models import Model\n",
    "from tensorflow.keras.layers import Dense, Input\n",
    "\n",
    "class Model(Model):\n",
    "    def __init__(self, num_classes):\n",
    "        super(Model, self).__init__()\n",
    "        self.num_classes = num_classes\n",
    "\n",
    "        self.dense1 = Dense(32, activation='relu')\n",
    "        self.dense2 = Dense(16, activation='relu')\n",
    "        self.prediction = Dense(3, activation='softmax')\n",
    "\n",
    "    def call(self, inputs):\n",
    "        x = self.dense1(inputs)\n",
    "        x = self.dense2(x)\n",
    "        return self.prediction(x)\n",
    "\n",
    "model = Model(num_classes=3)\n",
    "model.build(input_shape=(None, 7))"
   ]
  },
  {
   "cell_type": "code",
   "execution_count": 12,
   "id": "d7aa3de5-5480-4e9d-818a-c8c8a033b4f4",
   "metadata": {},
   "outputs": [
    {
     "name": "stdout",
     "output_type": "stream",
     "text": [
      "Model: \"model\"\n",
      "_________________________________________________________________\n",
      " Layer (type)                Output Shape              Param #   \n",
      "=================================================================\n",
      " dense (Dense)               multiple                  256       \n",
      "                                                                 \n",
      " dense_1 (Dense)             multiple                  528       \n",
      "                                                                 \n",
      " dense_2 (Dense)             multiple                  51        \n",
      "                                                                 \n",
      "=================================================================\n",
      "Total params: 835 (3.26 KB)\n",
      "Trainable params: 835 (3.26 KB)\n",
      "Non-trainable params: 0 (0.00 Byte)\n",
      "_________________________________________________________________\n"
     ]
    }
   ],
   "source": [
    "model.compile(loss='categorical_crossentropy', optimizer='adam', metrics=['accuracy'])\n",
    "model.summary()"
   ]
  },
  {
   "cell_type": "code",
   "execution_count": 13,
   "id": "82dd6ff7-6f73-4753-b5e3-be99102f061d",
   "metadata": {
    "scrolled": true
   },
   "outputs": [
    {
     "name": "stdout",
     "output_type": "stream",
     "text": [
      "Epoch 1/150\n",
      "WARNING:tensorflow:From C:\\Users\\sampa\\anaconda3\\envs\\AI\\lib\\site-packages\\keras\\src\\utils\\tf_utils.py:492: The name tf.ragged.RaggedTensorValue is deprecated. Please use tf.compat.v1.ragged.RaggedTensorValue instead.\n",
      "\n",
      "9/9 [==============================] - 1s 29ms/step - loss: 0.9765 - accuracy: 0.4776 - val_loss: 0.9244 - val_accuracy: 0.5294\n",
      "Epoch 2/150\n",
      "9/9 [==============================] - 0s 7ms/step - loss: 0.8567 - accuracy: 0.6716 - val_loss: 0.8183 - val_accuracy: 0.7941\n",
      "Epoch 3/150\n",
      "9/9 [==============================] - 0s 7ms/step - loss: 0.7512 - accuracy: 0.8507 - val_loss: 0.7255 - val_accuracy: 0.8235\n",
      "Epoch 4/150\n",
      "9/9 [==============================] - 0s 7ms/step - loss: 0.6614 - accuracy: 0.8582 - val_loss: 0.6475 - val_accuracy: 0.8235\n",
      "Epoch 5/150\n",
      "9/9 [==============================] - 0s 7ms/step - loss: 0.5868 - accuracy: 0.8657 - val_loss: 0.5823 - val_accuracy: 0.8235\n",
      "Epoch 6/150\n",
      "9/9 [==============================] - 0s 7ms/step - loss: 0.5241 - accuracy: 0.8657 - val_loss: 0.5265 - val_accuracy: 0.8529\n",
      "Epoch 7/150\n",
      "9/9 [==============================] - 0s 7ms/step - loss: 0.4714 - accuracy: 0.8731 - val_loss: 0.4824 - val_accuracy: 0.8529\n",
      "Epoch 8/150\n",
      "9/9 [==============================] - 0s 7ms/step - loss: 0.4289 - accuracy: 0.8731 - val_loss: 0.4456 - val_accuracy: 0.8529\n",
      "Epoch 9/150\n",
      "9/9 [==============================] - 0s 7ms/step - loss: 0.3934 - accuracy: 0.8806 - val_loss: 0.4148 - val_accuracy: 0.8824\n",
      "Epoch 10/150\n",
      "9/9 [==============================] - 0s 7ms/step - loss: 0.3639 - accuracy: 0.8881 - val_loss: 0.3889 - val_accuracy: 0.8824\n",
      "Epoch 11/150\n",
      "9/9 [==============================] - 0s 7ms/step - loss: 0.3374 - accuracy: 0.8955 - val_loss: 0.3661 - val_accuracy: 0.8824\n",
      "Epoch 12/150\n",
      "9/9 [==============================] - 0s 7ms/step - loss: 0.3172 - accuracy: 0.8955 - val_loss: 0.3448 - val_accuracy: 0.8824\n",
      "Epoch 13/150\n",
      "9/9 [==============================] - 0s 7ms/step - loss: 0.2984 - accuracy: 0.8955 - val_loss: 0.3283 - val_accuracy: 0.8824\n",
      "Epoch 14/150\n",
      "9/9 [==============================] - 0s 7ms/step - loss: 0.2833 - accuracy: 0.8955 - val_loss: 0.3151 - val_accuracy: 0.8824\n",
      "Epoch 15/150\n",
      "9/9 [==============================] - 0s 7ms/step - loss: 0.2712 - accuracy: 0.9104 - val_loss: 0.3023 - val_accuracy: 0.8824\n",
      "Epoch 16/150\n",
      "9/9 [==============================] - 0s 7ms/step - loss: 0.2597 - accuracy: 0.9104 - val_loss: 0.2910 - val_accuracy: 0.8824\n",
      "Epoch 17/150\n",
      "9/9 [==============================] - 0s 8ms/step - loss: 0.2497 - accuracy: 0.9179 - val_loss: 0.2814 - val_accuracy: 0.8824\n",
      "Epoch 18/150\n",
      "9/9 [==============================] - 0s 7ms/step - loss: 0.2421 - accuracy: 0.9104 - val_loss: 0.2744 - val_accuracy: 0.8824\n",
      "Epoch 19/150\n",
      "9/9 [==============================] - 0s 8ms/step - loss: 0.2335 - accuracy: 0.9179 - val_loss: 0.2693 - val_accuracy: 0.8824\n",
      "Epoch 20/150\n",
      "9/9 [==============================] - 0s 7ms/step - loss: 0.2267 - accuracy: 0.9254 - val_loss: 0.2650 - val_accuracy: 0.8824\n",
      "Epoch 21/150\n",
      "9/9 [==============================] - 0s 7ms/step - loss: 0.2209 - accuracy: 0.9328 - val_loss: 0.2612 - val_accuracy: 0.8824\n",
      "Epoch 22/150\n",
      "9/9 [==============================] - 0s 6ms/step - loss: 0.2150 - accuracy: 0.9328 - val_loss: 0.2530 - val_accuracy: 0.8824\n",
      "Epoch 23/150\n",
      "9/9 [==============================] - 0s 7ms/step - loss: 0.2112 - accuracy: 0.9403 - val_loss: 0.2413 - val_accuracy: 0.8824\n",
      "Epoch 24/150\n",
      "9/9 [==============================] - 0s 7ms/step - loss: 0.2052 - accuracy: 0.9403 - val_loss: 0.2376 - val_accuracy: 0.8824\n",
      "Epoch 25/150\n",
      "9/9 [==============================] - 0s 6ms/step - loss: 0.2010 - accuracy: 0.9403 - val_loss: 0.2342 - val_accuracy: 0.8824\n",
      "Epoch 26/150\n",
      "9/9 [==============================] - 0s 7ms/step - loss: 0.1964 - accuracy: 0.9403 - val_loss: 0.2338 - val_accuracy: 0.8824\n",
      "Epoch 27/150\n",
      "9/9 [==============================] - 0s 6ms/step - loss: 0.1944 - accuracy: 0.9403 - val_loss: 0.2328 - val_accuracy: 0.9118\n",
      "Epoch 28/150\n",
      "9/9 [==============================] - 0s 7ms/step - loss: 0.1900 - accuracy: 0.9403 - val_loss: 0.2241 - val_accuracy: 0.9118\n",
      "Epoch 29/150\n",
      "9/9 [==============================] - 0s 7ms/step - loss: 0.1844 - accuracy: 0.9328 - val_loss: 0.2200 - val_accuracy: 0.9118\n",
      "Epoch 30/150\n",
      "9/9 [==============================] - 0s 7ms/step - loss: 0.1809 - accuracy: 0.9328 - val_loss: 0.2178 - val_accuracy: 0.9118\n",
      "Epoch 31/150\n",
      "9/9 [==============================] - 0s 7ms/step - loss: 0.1774 - accuracy: 0.9403 - val_loss: 0.2156 - val_accuracy: 0.9118\n",
      "Epoch 32/150\n",
      "9/9 [==============================] - 0s 7ms/step - loss: 0.1747 - accuracy: 0.9403 - val_loss: 0.2152 - val_accuracy: 0.9118\n",
      "Epoch 33/150\n",
      "9/9 [==============================] - 0s 7ms/step - loss: 0.1707 - accuracy: 0.9403 - val_loss: 0.2118 - val_accuracy: 0.9118\n",
      "Epoch 34/150\n",
      "9/9 [==============================] - 0s 7ms/step - loss: 0.1683 - accuracy: 0.9403 - val_loss: 0.2069 - val_accuracy: 0.9118\n",
      "Epoch 35/150\n",
      "9/9 [==============================] - 0s 7ms/step - loss: 0.1647 - accuracy: 0.9403 - val_loss: 0.2046 - val_accuracy: 0.9118\n",
      "Epoch 36/150\n",
      "9/9 [==============================] - 0s 7ms/step - loss: 0.1627 - accuracy: 0.9403 - val_loss: 0.2038 - val_accuracy: 0.9118\n",
      "Epoch 37/150\n",
      "9/9 [==============================] - 0s 7ms/step - loss: 0.1604 - accuracy: 0.9403 - val_loss: 0.1999 - val_accuracy: 0.9118\n",
      "Epoch 38/150\n",
      "9/9 [==============================] - 0s 7ms/step - loss: 0.1561 - accuracy: 0.9403 - val_loss: 0.1944 - val_accuracy: 0.9118\n",
      "Epoch 39/150\n",
      "9/9 [==============================] - 0s 7ms/step - loss: 0.1534 - accuracy: 0.9403 - val_loss: 0.1909 - val_accuracy: 0.9118\n",
      "Epoch 40/150\n",
      "9/9 [==============================] - 0s 7ms/step - loss: 0.1505 - accuracy: 0.9403 - val_loss: 0.1893 - val_accuracy: 0.9118\n",
      "Epoch 41/150\n",
      "9/9 [==============================] - 0s 7ms/step - loss: 0.1475 - accuracy: 0.9403 - val_loss: 0.1859 - val_accuracy: 0.9118\n",
      "Epoch 42/150\n",
      "9/9 [==============================] - 0s 7ms/step - loss: 0.1447 - accuracy: 0.9403 - val_loss: 0.1832 - val_accuracy: 0.9118\n",
      "Epoch 43/150\n",
      "9/9 [==============================] - 0s 7ms/step - loss: 0.1418 - accuracy: 0.9403 - val_loss: 0.1839 - val_accuracy: 0.9118\n",
      "Epoch 44/150\n",
      "9/9 [==============================] - 0s 7ms/step - loss: 0.1404 - accuracy: 0.9403 - val_loss: 0.1771 - val_accuracy: 0.9118\n",
      "Epoch 45/150\n",
      "9/9 [==============================] - 0s 7ms/step - loss: 0.1385 - accuracy: 0.9328 - val_loss: 0.1732 - val_accuracy: 0.9118\n",
      "Epoch 46/150\n",
      "9/9 [==============================] - 0s 7ms/step - loss: 0.1350 - accuracy: 0.9478 - val_loss: 0.1724 - val_accuracy: 0.9118\n",
      "Epoch 47/150\n",
      "9/9 [==============================] - 0s 6ms/step - loss: 0.1328 - accuracy: 0.9478 - val_loss: 0.1712 - val_accuracy: 0.9118\n",
      "Epoch 48/150\n",
      "9/9 [==============================] - 0s 8ms/step - loss: 0.1316 - accuracy: 0.9552 - val_loss: 0.1685 - val_accuracy: 0.9118\n",
      "Epoch 49/150\n",
      "9/9 [==============================] - 0s 7ms/step - loss: 0.1285 - accuracy: 0.9552 - val_loss: 0.1652 - val_accuracy: 0.9118\n",
      "Epoch 50/150\n",
      "9/9 [==============================] - 0s 7ms/step - loss: 0.1302 - accuracy: 0.9478 - val_loss: 0.1637 - val_accuracy: 0.9118\n",
      "Epoch 51/150\n",
      "9/9 [==============================] - 0s 8ms/step - loss: 0.1277 - accuracy: 0.9552 - val_loss: 0.1532 - val_accuracy: 0.9118\n",
      "Epoch 52/150\n",
      "9/9 [==============================] - 0s 7ms/step - loss: 0.1250 - accuracy: 0.9478 - val_loss: 0.1523 - val_accuracy: 0.9118\n",
      "Epoch 53/150\n",
      "9/9 [==============================] - 0s 7ms/step - loss: 0.1208 - accuracy: 0.9627 - val_loss: 0.1555 - val_accuracy: 0.9118\n",
      "Epoch 54/150\n",
      "9/9 [==============================] - 0s 6ms/step - loss: 0.1210 - accuracy: 0.9627 - val_loss: 0.1567 - val_accuracy: 0.9118\n",
      "Epoch 55/150\n",
      "9/9 [==============================] - 0s 6ms/step - loss: 0.1165 - accuracy: 0.9627 - val_loss: 0.1519 - val_accuracy: 0.9118\n",
      "Epoch 56/150\n",
      "9/9 [==============================] - 0s 7ms/step - loss: 0.1146 - accuracy: 0.9627 - val_loss: 0.1493 - val_accuracy: 0.9118\n",
      "Epoch 57/150\n",
      "9/9 [==============================] - 0s 7ms/step - loss: 0.1120 - accuracy: 0.9627 - val_loss: 0.1487 - val_accuracy: 0.9118\n",
      "Epoch 58/150\n",
      "9/9 [==============================] - 0s 7ms/step - loss: 0.1131 - accuracy: 0.9627 - val_loss: 0.1460 - val_accuracy: 0.9118\n",
      "Epoch 59/150\n",
      "9/9 [==============================] - 0s 7ms/step - loss: 0.1086 - accuracy: 0.9627 - val_loss: 0.1462 - val_accuracy: 0.9118\n",
      "Epoch 60/150\n",
      "9/9 [==============================] - 0s 7ms/step - loss: 0.1075 - accuracy: 0.9478 - val_loss: 0.1408 - val_accuracy: 0.9118\n",
      "Epoch 61/150\n",
      "9/9 [==============================] - 0s 7ms/step - loss: 0.1063 - accuracy: 0.9552 - val_loss: 0.1356 - val_accuracy: 0.9412\n",
      "Epoch 62/150\n",
      "9/9 [==============================] - 0s 7ms/step - loss: 0.1024 - accuracy: 0.9701 - val_loss: 0.1325 - val_accuracy: 0.9412\n",
      "Epoch 63/150\n",
      "9/9 [==============================] - 0s 6ms/step - loss: 0.1023 - accuracy: 0.9552 - val_loss: 0.1338 - val_accuracy: 0.9412\n",
      "Epoch 64/150\n",
      "9/9 [==============================] - 0s 7ms/step - loss: 0.1033 - accuracy: 0.9627 - val_loss: 0.1270 - val_accuracy: 0.9412\n",
      "Epoch 65/150\n",
      "9/9 [==============================] - 0s 7ms/step - loss: 0.0979 - accuracy: 0.9627 - val_loss: 0.1282 - val_accuracy: 0.9412\n",
      "Epoch 66/150\n",
      "9/9 [==============================] - 0s 7ms/step - loss: 0.0968 - accuracy: 0.9552 - val_loss: 0.1297 - val_accuracy: 0.9412\n",
      "Epoch 67/150\n",
      "9/9 [==============================] - 0s 7ms/step - loss: 0.0953 - accuracy: 0.9552 - val_loss: 0.1216 - val_accuracy: 0.9412\n",
      "Epoch 68/150\n",
      "9/9 [==============================] - 0s 7ms/step - loss: 0.0942 - accuracy: 0.9627 - val_loss: 0.1222 - val_accuracy: 0.9412\n",
      "Epoch 69/150\n",
      "9/9 [==============================] - 0s 8ms/step - loss: 0.0925 - accuracy: 0.9627 - val_loss: 0.1224 - val_accuracy: 0.9412\n",
      "Epoch 70/150\n",
      "9/9 [==============================] - 0s 6ms/step - loss: 0.0915 - accuracy: 0.9552 - val_loss: 0.1230 - val_accuracy: 0.9412\n",
      "Epoch 71/150\n",
      "9/9 [==============================] - 0s 7ms/step - loss: 0.0905 - accuracy: 0.9552 - val_loss: 0.1222 - val_accuracy: 0.9412\n",
      "Epoch 72/150\n",
      "9/9 [==============================] - 0s 7ms/step - loss: 0.0882 - accuracy: 0.9552 - val_loss: 0.1202 - val_accuracy: 0.9412\n",
      "Epoch 73/150\n",
      "9/9 [==============================] - 0s 7ms/step - loss: 0.0877 - accuracy: 0.9701 - val_loss: 0.1174 - val_accuracy: 0.9706\n",
      "Epoch 74/150\n",
      "9/9 [==============================] - 0s 7ms/step - loss: 0.0875 - accuracy: 0.9701 - val_loss: 0.1199 - val_accuracy: 0.9412\n",
      "Epoch 75/150\n",
      "9/9 [==============================] - 0s 7ms/step - loss: 0.0847 - accuracy: 0.9776 - val_loss: 0.1170 - val_accuracy: 0.9412\n",
      "Epoch 76/150\n",
      "9/9 [==============================] - 0s 7ms/step - loss: 0.0833 - accuracy: 0.9701 - val_loss: 0.1167 - val_accuracy: 0.9412\n",
      "Epoch 77/150\n",
      "9/9 [==============================] - 0s 7ms/step - loss: 0.0816 - accuracy: 0.9627 - val_loss: 0.1184 - val_accuracy: 0.9412\n",
      "Epoch 78/150\n",
      "9/9 [==============================] - 0s 7ms/step - loss: 0.0813 - accuracy: 0.9627 - val_loss: 0.1195 - val_accuracy: 0.9412\n",
      "Epoch 79/150\n",
      "9/9 [==============================] - 0s 6ms/step - loss: 0.0806 - accuracy: 0.9701 - val_loss: 0.1171 - val_accuracy: 0.9412\n",
      "Epoch 80/150\n",
      "9/9 [==============================] - 0s 7ms/step - loss: 0.0789 - accuracy: 0.9701 - val_loss: 0.1149 - val_accuracy: 0.9412\n",
      "Epoch 81/150\n",
      "9/9 [==============================] - 0s 7ms/step - loss: 0.0781 - accuracy: 0.9701 - val_loss: 0.1128 - val_accuracy: 0.9706\n",
      "Epoch 82/150\n",
      "9/9 [==============================] - 0s 7ms/step - loss: 0.0777 - accuracy: 0.9701 - val_loss: 0.1099 - val_accuracy: 0.9706\n",
      "Epoch 83/150\n",
      "9/9 [==============================] - 0s 7ms/step - loss: 0.0770 - accuracy: 0.9701 - val_loss: 0.1103 - val_accuracy: 0.9706\n",
      "Epoch 84/150\n",
      "9/9 [==============================] - 0s 6ms/step - loss: 0.0752 - accuracy: 0.9701 - val_loss: 0.1098 - val_accuracy: 0.9706\n",
      "Epoch 85/150\n",
      "9/9 [==============================] - 0s 7ms/step - loss: 0.0736 - accuracy: 0.9851 - val_loss: 0.1078 - val_accuracy: 0.9706\n",
      "Epoch 86/150\n",
      "9/9 [==============================] - 0s 7ms/step - loss: 0.0718 - accuracy: 0.9776 - val_loss: 0.1065 - val_accuracy: 0.9706\n",
      "Epoch 87/150\n",
      "9/9 [==============================] - 0s 7ms/step - loss: 0.0748 - accuracy: 0.9925 - val_loss: 0.1047 - val_accuracy: 0.9706\n",
      "Epoch 88/150\n",
      "9/9 [==============================] - 0s 7ms/step - loss: 0.0726 - accuracy: 0.9925 - val_loss: 0.1062 - val_accuracy: 0.9706\n",
      "Epoch 89/150\n",
      "9/9 [==============================] - 0s 5ms/step - loss: 0.0695 - accuracy: 0.9776 - val_loss: 0.1079 - val_accuracy: 0.9706\n",
      "Epoch 90/150\n",
      "9/9 [==============================] - 0s 7ms/step - loss: 0.0693 - accuracy: 0.9925 - val_loss: 0.1052 - val_accuracy: 0.9706\n",
      "Epoch 91/150\n",
      "9/9 [==============================] - 0s 7ms/step - loss: 0.0669 - accuracy: 0.9925 - val_loss: 0.1053 - val_accuracy: 0.9706\n",
      "Epoch 92/150\n",
      "9/9 [==============================] - 0s 6ms/step - loss: 0.0684 - accuracy: 0.9701 - val_loss: 0.1080 - val_accuracy: 0.9706\n",
      "Epoch 93/150\n",
      "9/9 [==============================] - 0s 6ms/step - loss: 0.0658 - accuracy: 0.9851 - val_loss: 0.1044 - val_accuracy: 0.9706\n",
      "Epoch 94/150\n",
      "9/9 [==============================] - 0s 7ms/step - loss: 0.0661 - accuracy: 0.9776 - val_loss: 0.1063 - val_accuracy: 0.9706\n",
      "Epoch 95/150\n",
      "9/9 [==============================] - 0s 7ms/step - loss: 0.0635 - accuracy: 0.9925 - val_loss: 0.1038 - val_accuracy: 0.9706\n",
      "Epoch 96/150\n",
      "9/9 [==============================] - 0s 6ms/step - loss: 0.0629 - accuracy: 0.9925 - val_loss: 0.1044 - val_accuracy: 0.9706\n",
      "Epoch 97/150\n",
      "9/9 [==============================] - 0s 7ms/step - loss: 0.0635 - accuracy: 0.9851 - val_loss: 0.1049 - val_accuracy: 0.9412\n",
      "Epoch 98/150\n",
      "9/9 [==============================] - 0s 7ms/step - loss: 0.0628 - accuracy: 0.9851 - val_loss: 0.1057 - val_accuracy: 0.9706\n",
      "Epoch 99/150\n",
      "9/9 [==============================] - 0s 7ms/step - loss: 0.0610 - accuracy: 0.9925 - val_loss: 0.1061 - val_accuracy: 0.9706\n",
      "Epoch 100/150\n",
      "9/9 [==============================] - 0s 7ms/step - loss: 0.0602 - accuracy: 0.9851 - val_loss: 0.1092 - val_accuracy: 0.9412\n",
      "Epoch 101/150\n",
      "9/9 [==============================] - 0s 7ms/step - loss: 0.0596 - accuracy: 0.9851 - val_loss: 0.1075 - val_accuracy: 0.9706\n",
      "Epoch 102/150\n",
      "9/9 [==============================] - 0s 6ms/step - loss: 0.0598 - accuracy: 0.9925 - val_loss: 0.1054 - val_accuracy: 0.9706\n",
      "Epoch 103/150\n",
      "9/9 [==============================] - 0s 7ms/step - loss: 0.0573 - accuracy: 0.9925 - val_loss: 0.1107 - val_accuracy: 0.9412\n",
      "Epoch 104/150\n",
      "9/9 [==============================] - 0s 7ms/step - loss: 0.0601 - accuracy: 0.9851 - val_loss: 0.1048 - val_accuracy: 0.9706\n",
      "Epoch 105/150\n",
      "9/9 [==============================] - 0s 7ms/step - loss: 0.0588 - accuracy: 0.9851 - val_loss: 0.1011 - val_accuracy: 0.9706\n",
      "Epoch 106/150\n",
      "9/9 [==============================] - 0s 7ms/step - loss: 0.0563 - accuracy: 0.9851 - val_loss: 0.1019 - val_accuracy: 0.9706\n",
      "Epoch 107/150\n",
      "9/9 [==============================] - 0s 7ms/step - loss: 0.0551 - accuracy: 0.9925 - val_loss: 0.1012 - val_accuracy: 0.9706\n",
      "Epoch 108/150\n",
      "9/9 [==============================] - 0s 8ms/step - loss: 0.0560 - accuracy: 0.9925 - val_loss: 0.0974 - val_accuracy: 0.9706\n",
      "Epoch 109/150\n",
      "9/9 [==============================] - 0s 8ms/step - loss: 0.0546 - accuracy: 0.9925 - val_loss: 0.0992 - val_accuracy: 0.9706\n",
      "Epoch 110/150\n",
      "9/9 [==============================] - 0s 7ms/step - loss: 0.0533 - accuracy: 0.9925 - val_loss: 0.1026 - val_accuracy: 0.9706\n",
      "Epoch 111/150\n",
      "9/9 [==============================] - 0s 8ms/step - loss: 0.0540 - accuracy: 0.9851 - val_loss: 0.1057 - val_accuracy: 0.9706\n",
      "Epoch 112/150\n",
      "9/9 [==============================] - 0s 8ms/step - loss: 0.0550 - accuracy: 0.9851 - val_loss: 0.1016 - val_accuracy: 0.9706\n",
      "Epoch 113/150\n",
      "9/9 [==============================] - 0s 7ms/step - loss: 0.0519 - accuracy: 0.9925 - val_loss: 0.1023 - val_accuracy: 0.9706\n",
      "Epoch 114/150\n",
      "9/9 [==============================] - 0s 7ms/step - loss: 0.0508 - accuracy: 0.9925 - val_loss: 0.1016 - val_accuracy: 0.9706\n",
      "Epoch 115/150\n",
      "9/9 [==============================] - 0s 8ms/step - loss: 0.0504 - accuracy: 0.9925 - val_loss: 0.1002 - val_accuracy: 0.9706\n",
      "Epoch 116/150\n",
      "9/9 [==============================] - 0s 9ms/step - loss: 0.0502 - accuracy: 0.9851 - val_loss: 0.1029 - val_accuracy: 0.9706\n",
      "Epoch 117/150\n",
      "9/9 [==============================] - 0s 9ms/step - loss: 0.0505 - accuracy: 0.9851 - val_loss: 0.1039 - val_accuracy: 0.9706\n",
      "Epoch 118/150\n",
      "9/9 [==============================] - 0s 8ms/step - loss: 0.0484 - accuracy: 0.9851 - val_loss: 0.1061 - val_accuracy: 0.9706\n",
      "Epoch 119/150\n",
      "9/9 [==============================] - 0s 7ms/step - loss: 0.0500 - accuracy: 0.9851 - val_loss: 0.1037 - val_accuracy: 0.9706\n",
      "Epoch 120/150\n",
      "9/9 [==============================] - 0s 6ms/step - loss: 0.0488 - accuracy: 0.9851 - val_loss: 0.1021 - val_accuracy: 0.9706\n",
      "Epoch 121/150\n",
      "9/9 [==============================] - 0s 7ms/step - loss: 0.0471 - accuracy: 0.9851 - val_loss: 0.0986 - val_accuracy: 0.9706\n",
      "Epoch 122/150\n",
      "9/9 [==============================] - 0s 8ms/step - loss: 0.0466 - accuracy: 0.9851 - val_loss: 0.0977 - val_accuracy: 0.9706\n",
      "Epoch 123/150\n",
      "9/9 [==============================] - 0s 7ms/step - loss: 0.0465 - accuracy: 0.9925 - val_loss: 0.0959 - val_accuracy: 0.9706\n",
      "Epoch 124/150\n",
      "9/9 [==============================] - 0s 7ms/step - loss: 0.0464 - accuracy: 0.9925 - val_loss: 0.0978 - val_accuracy: 0.9706\n",
      "Epoch 125/150\n",
      "9/9 [==============================] - 0s 7ms/step - loss: 0.0464 - accuracy: 0.9925 - val_loss: 0.0978 - val_accuracy: 0.9706\n",
      "Epoch 126/150\n",
      "9/9 [==============================] - 0s 7ms/step - loss: 0.0446 - accuracy: 0.9925 - val_loss: 0.0973 - val_accuracy: 0.9706\n",
      "Epoch 127/150\n",
      "9/9 [==============================] - 0s 6ms/step - loss: 0.0441 - accuracy: 0.9925 - val_loss: 0.0961 - val_accuracy: 0.9706\n",
      "Epoch 128/150\n",
      "9/9 [==============================] - 0s 12ms/step - loss: 0.0437 - accuracy: 0.9925 - val_loss: 0.0947 - val_accuracy: 0.9706\n",
      "Epoch 129/150\n",
      "9/9 [==============================] - 0s 8ms/step - loss: 0.0442 - accuracy: 0.9925 - val_loss: 0.0958 - val_accuracy: 0.9706\n",
      "Epoch 130/150\n",
      "9/9 [==============================] - 0s 8ms/step - loss: 0.0425 - accuracy: 0.9925 - val_loss: 0.0963 - val_accuracy: 0.9706\n",
      "Epoch 131/150\n",
      "9/9 [==============================] - 0s 7ms/step - loss: 0.0427 - accuracy: 0.9851 - val_loss: 0.0972 - val_accuracy: 0.9706\n",
      "Epoch 132/150\n",
      "9/9 [==============================] - 0s 7ms/step - loss: 0.0418 - accuracy: 0.9925 - val_loss: 0.0952 - val_accuracy: 0.9706\n",
      "Epoch 133/150\n",
      "9/9 [==============================] - 0s 8ms/step - loss: 0.0418 - accuracy: 0.9925 - val_loss: 0.0950 - val_accuracy: 0.9706\n",
      "Epoch 134/150\n",
      "9/9 [==============================] - 0s 7ms/step - loss: 0.0418 - accuracy: 0.9925 - val_loss: 0.0927 - val_accuracy: 0.9706\n",
      "Epoch 135/150\n",
      "9/9 [==============================] - 0s 7ms/step - loss: 0.0402 - accuracy: 0.9925 - val_loss: 0.0967 - val_accuracy: 0.9706\n",
      "Epoch 136/150\n",
      "9/9 [==============================] - 0s 7ms/step - loss: 0.0406 - accuracy: 0.9851 - val_loss: 0.0970 - val_accuracy: 0.9706\n",
      "Epoch 137/150\n",
      "9/9 [==============================] - 0s 7ms/step - loss: 0.0397 - accuracy: 0.9851 - val_loss: 0.0952 - val_accuracy: 0.9706\n",
      "Epoch 138/150\n",
      "9/9 [==============================] - 0s 7ms/step - loss: 0.0401 - accuracy: 0.9925 - val_loss: 0.0944 - val_accuracy: 0.9706\n",
      "Epoch 139/150\n",
      "9/9 [==============================] - 0s 6ms/step - loss: 0.0400 - accuracy: 0.9925 - val_loss: 0.0948 - val_accuracy: 0.9706\n",
      "Epoch 140/150\n",
      "9/9 [==============================] - 0s 6ms/step - loss: 0.0390 - accuracy: 0.9925 - val_loss: 0.0964 - val_accuracy: 0.9706\n",
      "Epoch 141/150\n",
      "9/9 [==============================] - 0s 7ms/step - loss: 0.0381 - accuracy: 0.9851 - val_loss: 0.0998 - val_accuracy: 0.9706\n",
      "Epoch 142/150\n",
      "9/9 [==============================] - 0s 7ms/step - loss: 0.0424 - accuracy: 0.9925 - val_loss: 0.0981 - val_accuracy: 0.9706\n",
      "Epoch 143/150\n",
      "9/9 [==============================] - 0s 8ms/step - loss: 0.0385 - accuracy: 0.9925 - val_loss: 0.0916 - val_accuracy: 0.9706\n",
      "Epoch 144/150\n",
      "9/9 [==============================] - 0s 8ms/step - loss: 0.0384 - accuracy: 0.9925 - val_loss: 0.0938 - val_accuracy: 0.9706\n",
      "Epoch 145/150\n",
      "9/9 [==============================] - 0s 6ms/step - loss: 0.0370 - accuracy: 0.9925 - val_loss: 0.0949 - val_accuracy: 0.9706\n",
      "Epoch 146/150\n",
      "9/9 [==============================] - 0s 7ms/step - loss: 0.0358 - accuracy: 0.9925 - val_loss: 0.0968 - val_accuracy: 0.9706\n",
      "Epoch 147/150\n",
      "9/9 [==============================] - 0s 7ms/step - loss: 0.0361 - accuracy: 0.9925 - val_loss: 0.0957 - val_accuracy: 0.9706\n",
      "Epoch 148/150\n",
      "9/9 [==============================] - 0s 7ms/step - loss: 0.0357 - accuracy: 0.9925 - val_loss: 0.0942 - val_accuracy: 0.9706\n",
      "Epoch 149/150\n",
      "9/9 [==============================] - 0s 7ms/step - loss: 0.0355 - accuracy: 0.9925 - val_loss: 0.0960 - val_accuracy: 0.9706\n",
      "Epoch 150/150\n",
      "9/9 [==============================] - 0s 6ms/step - loss: 0.0353 - accuracy: 0.9925 - val_loss: 0.0925 - val_accuracy: 0.9706\n"
     ]
    }
   ],
   "source": [
    "history = model.fit(X_train, y_train, epochs=150, batch_size=16, validation_data=(X_val, y_val))"
   ]
  },
  {
   "cell_type": "code",
   "execution_count": 14,
   "id": "bd6975ab-148e-49c1-952b-14ca4d38917d",
   "metadata": {},
   "outputs": [
    {
     "data": {
      "image/png": "[encoded data removed]",
      "text/plain": [
       "<Figure size 640x480 with 1 Axes>"
      ]
     },
     "metadata": {},
     "output_type": "display_data"
    }
   ],
   "source": [
    "import matplotlib.pyplot as plt\n",
    "\n",
    "# 훈련 과정 시각화\n",
    "plt.plot(history.history['accuracy'], label='Train Accuracy')\n",
    "plt.plot(history.history['val_accuracy'], label='Validation Accuracy')\n",
    "plt.xlabel('Epoch')\n",
    "plt.ylabel('Accuracy')\n",
    "plt.legend()\n",
    "plt.show()"
   ]
  },
  {
   "cell_type": "code",
   "execution_count": 15,
   "id": "7add3a5d-cb09-456f-8626-b16b0048bf52",
   "metadata": {},
   "outputs": [
    {
     "data": {
      "image/png": "[encoded data removed]",
      "text/plain": [
       "<Figure size 640x480 with 1 Axes>"
      ]
     },
     "metadata": {},
     "output_type": "display_data"
    }
   ],
   "source": [
    "# 훈련 과정 시각화\n",
    "plt.plot(history.history['loss'], label='Train loss')\n",
    "plt.plot(history.history['val_loss'], label='Validation Loss')\n",
    "plt.xlabel('Epoch')\n",
    "plt.ylabel('Loss')\n",
    "plt.legend()\n",
    "plt.show()"
   ]
  },
  {
   "cell_type": "code",
   "execution_count": 16,
   "id": "94f6a704-4254-4235-a1cf-3424f30f432d",
   "metadata": {},
   "outputs": [
    {
     "name": "stdout",
     "output_type": "stream",
     "text": [
      "2/2 [==============================] - 0s 7ms/step - loss: 0.0894 - accuracy: 0.9762\n"
     ]
    },
    {
     "data": {
      "text/plain": [
       "[0.0894453302025795, 0.976190447807312]"
      ]
     },
     "execution_count": 16,
     "metadata": {},
     "output_type": "execute_result"
    }
   ],
   "source": [
    "model.evaluate(X_test, y_test)"
   ]
  },
  {
   "cell_type": "code",
   "execution_count": null,
   "id": "bbc55f2f-75a7-4ace-abda-8f474191179a",
   "metadata": {},
   "outputs": [],
   "source": []
  }
 ],
 "metadata": {
  "kernelspec": {
   "display_name": "Python 3 (ipykernel)",
   "language": "python",
   "name": "python3"
  },
  "language_info": {
   "codemirror_mode": {
    "name": "ipython",
    "version": 3
   },
   "file_extension": ".py",
   "mimetype": "text/x-python",
   "name": "python",
   "nbconvert_exporter": "python",
   "pygments_lexer": "ipython3",
   "version": "3.10.16"
  }
 },
 "nbformat": 4,
 "nbformat_minor": 5
}
