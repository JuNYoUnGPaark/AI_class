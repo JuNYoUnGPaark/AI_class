{
 "cells": [
  {
   "cell_type": "code",
   "execution_count": 1,
   "id": "883c58cc-9c00-4883-b96d-9e983d9c6499",
   "metadata": {},
   "outputs": [
    {
     "data": {
      "text/html": [
       "<div>\n",
       "<style scoped>\n",
       "    .dataframe tbody tr th:only-of-type {\n",
       "        vertical-align: middle;\n",
       "    }\n",
       "\n",
       "    .dataframe tbody tr th {\n",
       "        vertical-align: top;\n",
       "    }\n",
       "\n",
       "    .dataframe thead th {\n",
       "        text-align: right;\n",
       "    }\n",
       "</style>\n",
       "<table border=\"1\" class=\"dataframe\">\n",
       "  <thead>\n",
       "    <tr style=\"text-align: right;\">\n",
       "      <th></th>\n",
       "      <th>A</th>\n",
       "      <th>P</th>\n",
       "      <th>C</th>\n",
       "      <th>LK</th>\n",
       "      <th>WK</th>\n",
       "      <th>A_Coef</th>\n",
       "      <th>LKG</th>\n",
       "      <th>target</th>\n",
       "    </tr>\n",
       "  </thead>\n",
       "  <tbody>\n",
       "    <tr>\n",
       "      <th>0</th>\n",
       "      <td>15.26</td>\n",
       "      <td>14.84</td>\n",
       "      <td>0.8710</td>\n",
       "      <td>5.763</td>\n",
       "      <td>3.312</td>\n",
       "      <td>2.221</td>\n",
       "      <td>5.220</td>\n",
       "      <td>0</td>\n",
       "    </tr>\n",
       "    <tr>\n",
       "      <th>1</th>\n",
       "      <td>14.88</td>\n",
       "      <td>14.57</td>\n",
       "      <td>0.8811</td>\n",
       "      <td>5.554</td>\n",
       "      <td>3.333</td>\n",
       "      <td>1.018</td>\n",
       "      <td>4.956</td>\n",
       "      <td>0</td>\n",
       "    </tr>\n",
       "    <tr>\n",
       "      <th>2</th>\n",
       "      <td>14.29</td>\n",
       "      <td>14.09</td>\n",
       "      <td>0.9050</td>\n",
       "      <td>5.291</td>\n",
       "      <td>3.337</td>\n",
       "      <td>2.699</td>\n",
       "      <td>4.825</td>\n",
       "      <td>0</td>\n",
       "    </tr>\n",
       "    <tr>\n",
       "      <th>3</th>\n",
       "      <td>13.84</td>\n",
       "      <td>13.94</td>\n",
       "      <td>0.8955</td>\n",
       "      <td>5.324</td>\n",
       "      <td>3.379</td>\n",
       "      <td>2.259</td>\n",
       "      <td>4.805</td>\n",
       "      <td>0</td>\n",
       "    </tr>\n",
       "    <tr>\n",
       "      <th>4</th>\n",
       "      <td>16.14</td>\n",
       "      <td>14.99</td>\n",
       "      <td>0.9034</td>\n",
       "      <td>5.658</td>\n",
       "      <td>3.562</td>\n",
       "      <td>1.355</td>\n",
       "      <td>5.175</td>\n",
       "      <td>0</td>\n",
       "    </tr>\n",
       "  </tbody>\n",
       "</table>\n",
       "</div>"
      ],
      "text/plain": [
       "       A      P       C     LK     WK  A_Coef    LKG  target\n",
       "0  15.26  14.84  0.8710  5.763  3.312   2.221  5.220       0\n",
       "1  14.88  14.57  0.8811  5.554  3.333   1.018  4.956       0\n",
       "2  14.29  14.09  0.9050  5.291  3.337   2.699  4.825       0\n",
       "3  13.84  13.94  0.8955  5.324  3.379   2.259  4.805       0\n",
       "4  16.14  14.99  0.9034  5.658  3.562   1.355  5.175       0"
      ]
     },
     "execution_count": 1,
     "metadata": {},
     "output_type": "execute_result"
    }
   ],
   "source": [
    "import pandas as pd\n",
    "file_path = \"C://Users/sampa/ai_class/data_files/Seed_Data.csv\"\n",
    "\n",
    "df = pd.read_csv(file_path)\n",
    "df.head()"
   ]
  },
  {
   "cell_type": "code",
   "execution_count": 2,
   "id": "c20c749d-dbd5-40a9-906e-34e10781d3a0",
   "metadata": {},
   "outputs": [
    {
     "data": {
      "text/plain": [
       "A         0\n",
       "P         0\n",
       "C         0\n",
       "LK        0\n",
       "WK        0\n",
       "A_Coef    0\n",
       "LKG       0\n",
       "target    0\n",
       "dtype: int64"
      ]
     },
     "execution_count": 2,
     "metadata": {},
     "output_type": "execute_result"
    }
   ],
   "source": [
    "df.isna().sum()"
   ]
  },
  {
   "cell_type": "code",
   "execution_count": 3,
   "id": "eed3d893-f528-4545-9032-931dff6b6227",
   "metadata": {},
   "outputs": [
    {
     "name": "stdout",
     "output_type": "stream",
     "text": [
      "<class 'pandas.core.frame.DataFrame'>\n",
      "RangeIndex: 210 entries, 0 to 209\n",
      "Data columns (total 8 columns):\n",
      " #   Column  Non-Null Count  Dtype  \n",
      "---  ------  --------------  -----  \n",
      " 0   A       210 non-null    float64\n",
      " 1   P       210 non-null    float64\n",
      " 2   C       210 non-null    float64\n",
      " 3   LK      210 non-null    float64\n",
      " 4   WK      210 non-null    float64\n",
      " 5   A_Coef  210 non-null    float64\n",
      " 6   LKG     210 non-null    float64\n",
      " 7   target  210 non-null    int64  \n",
      "dtypes: float64(7), int64(1)\n",
      "memory usage: 13.2 KB\n"
     ]
    }
   ],
   "source": [
    "df.info()"
   ]
  },
  {
   "cell_type": "code",
   "execution_count": 4,
   "id": "eaf4702b-61b4-4f7c-b940-232e3594d8bc",
   "metadata": {},
   "outputs": [
    {
     "data": {
      "text/plain": [
       "0    70\n",
       "1    70\n",
       "2    70\n",
       "Name: target, dtype: int64"
      ]
     },
     "execution_count": 4,
     "metadata": {},
     "output_type": "execute_result"
    }
   ],
   "source": [
    "df['target'].value_counts()"
   ]
  },
  {
   "cell_type": "code",
   "execution_count": 5,
   "id": "6277db03-bb02-4da5-aa19-db909597a11a",
   "metadata": {},
   "outputs": [
    {
     "name": "stdout",
     "output_type": "stream",
     "text": [
      "(210, 7)\n",
      "(210,)\n"
     ]
    }
   ],
   "source": [
    "X = df.drop(columns=['target'])\n",
    "y = df['target']\n",
    "\n",
    "print(X.shape)\n",
    "print(y.shape)"
   ]
  },
  {
   "cell_type": "code",
   "execution_count": 6,
   "id": "8ec747c0-517f-418f-baf3-aca9b43a5e08",
   "metadata": {},
   "outputs": [
    {
     "name": "stdout",
     "output_type": "stream",
     "text": [
      "WARNING:tensorflow:From C:\\Users\\sampa\\anaconda3\\envs\\AI\\lib\\site-packages\\keras\\src\\losses.py:2976: The name tf.losses.sparse_softmax_cross_entropy is deprecated. Please use tf.compat.v1.losses.sparse_softmax_cross_entropy instead.\n",
      "\n"
     ]
    }
   ],
   "source": [
    "from tensorflow.keras.utils import to_categorical\n",
    "\n",
    "y = to_categorical(y, num_classes=3)"
   ]
  },
  {
   "cell_type": "code",
   "execution_count": 7,
   "id": "6a944de2-5efc-4915-94af-5073fba02aa7",
   "metadata": {},
   "outputs": [
    {
     "name": "stdout",
     "output_type": "stream",
     "text": [
      "훈련 데이터 크기: (168, 7)\n",
      "테스트 데이터 크기: (42, 7)\n"
     ]
    }
   ],
   "source": [
    "from sklearn.model_selection import train_test_split\n",
    "\n",
    "X_train, X_test, y_train, y_test = train_test_split(X, y, test_size=0.2, stratify=y, random_state=42)\n",
    "\n",
    "print(\"훈련 데이터 크기:\", X_train.shape)\n",
    "print(\"테스트 데이터 크기:\", X_test.shape)"
   ]
  },
  {
   "cell_type": "code",
   "execution_count": 8,
   "id": "b9c458cd-dc2b-42b4-8d61-301424fa3f1c",
   "metadata": {},
   "outputs": [
    {
     "name": "stdout",
     "output_type": "stream",
     "text": [
      "최종 훈련 데이터 크기: (134, 7)\n",
      "검증 데이터 크기: (34, 7)\n",
      "테스트 데이터 크기: (42, 7)\n"
     ]
    }
   ],
   "source": [
    "X_train, X_val, y_train, y_val = train_test_split(X_train, y_train, test_size=0.2, stratify=y_train, random_state=42)\n",
    "\n",
    "print(\"최종 훈련 데이터 크기:\", X_train.shape)\n",
    "print(\"검증 데이터 크기:\", X_val.shape)\n",
    "print(\"테스트 데이터 크기:\", X_test.shape)"
   ]
  },
  {
   "cell_type": "code",
   "execution_count": 9,
   "id": "8c4239d3-99f4-4406-a869-e8522c8a0934",
   "metadata": {},
   "outputs": [],
   "source": [
    "from sklearn.preprocessing import StandardScaler\n",
    "\n",
    "scaler = StandardScaler()\n",
    "X_train = scaler.fit_transform(X_train)  # 학습 데이터 기준으로 스케일링\n",
    "X_val = scaler.transform(X_val)  # 검증 데이터 변환\n",
    "X_test = scaler.transform(X_test)  # 테스트 데이터 변환"
   ]
  },
  {
   "cell_type": "code",
   "execution_count": 10,
   "id": "b3fbd641-f948-4287-942b-a09047242823",
   "metadata": {},
   "outputs": [
    {
     "name": "stdout",
     "output_type": "stream",
     "text": [
      "WARNING:tensorflow:From C:\\Users\\sampa\\anaconda3\\envs\\AI\\lib\\site-packages\\keras\\src\\backend.py:873: The name tf.get_default_graph is deprecated. Please use tf.compat.v1.get_default_graph instead.\n",
      "\n"
     ]
    }
   ],
   "source": [
    "import tensorflow as tf\n",
    "\n",
    "model = tf.keras.models.Sequential()\n",
    "model.add(tf.keras.layers.Dense(32, activation='relu', input_shape=(7, )))\n",
    "model.add(tf.keras.layers.Dense(16, activation='relu'))\n",
    "model.add(tf.keras.layers.Dense(3, activation='softmax'))"
   ]
  },
  {
   "cell_type": "code",
   "execution_count": 11,
   "id": "7fcc45e6-4426-434f-aa77-6571b9e0a0ff",
   "metadata": {},
   "outputs": [
    {
     "name": "stdout",
     "output_type": "stream",
     "text": [
      "WARNING:tensorflow:From C:\\Users\\sampa\\anaconda3\\envs\\AI\\lib\\site-packages\\keras\\src\\optimizers\\__init__.py:309: The name tf.train.Optimizer is deprecated. Please use tf.compat.v1.train.Optimizer instead.\n",
      "\n",
      "Model: \"sequential\"\n",
      "_________________________________________________________________\n",
      " Layer (type)                Output Shape              Param #   \n",
      "=================================================================\n",
      " dense (Dense)               (None, 32)                256       \n",
      "                                                                 \n",
      " dense_1 (Dense)             (None, 16)                528       \n",
      "                                                                 \n",
      " dense_2 (Dense)             (None, 3)                 51        \n",
      "                                                                 \n",
      "=================================================================\n",
      "Total params: 835 (3.26 KB)\n",
      "Trainable params: 835 (3.26 KB)\n",
      "Non-trainable params: 0 (0.00 Byte)\n",
      "_________________________________________________________________\n"
     ]
    }
   ],
   "source": [
    "model.compile(loss='categorical_crossentropy', optimizer='adam', metrics=['accuracy'])\n",
    "model.summary()"
   ]
  },
  {
   "cell_type": "code",
   "execution_count": 12,
   "id": "5681c925-0d68-4412-acaf-984934413c58",
   "metadata": {
    "scrolled": true
   },
   "outputs": [
    {
     "name": "stdout",
     "output_type": "stream",
     "text": [
      "Epoch 1/150\n",
      "WARNING:tensorflow:From C:\\Users\\sampa\\anaconda3\\envs\\AI\\lib\\site-packages\\keras\\src\\utils\\tf_utils.py:492: The name tf.ragged.RaggedTensorValue is deprecated. Please use tf.compat.v1.ragged.RaggedTensorValue instead.\n",
      "\n",
      "WARNING:tensorflow:From C:\\Users\\sampa\\anaconda3\\envs\\AI\\lib\\site-packages\\keras\\src\\engine\\base_layer_utils.py:384: The name tf.executing_eagerly_outside_functions is deprecated. Please use tf.compat.v1.executing_eagerly_outside_functions instead.\n",
      "\n",
      "9/9 [==============================] - 1s 29ms/step - loss: 1.0635 - accuracy: 0.5672 - val_loss: 0.9708 - val_accuracy: 0.6471\n",
      "Epoch 2/150\n",
      "9/9 [==============================] - 0s 7ms/step - loss: 0.9430 - accuracy: 0.6716 - val_loss: 0.8635 - val_accuracy: 0.6471\n",
      "Epoch 3/150\n",
      "9/9 [==============================] - 0s 7ms/step - loss: 0.8495 - accuracy: 0.6642 - val_loss: 0.7780 - val_accuracy: 0.6471\n",
      "Epoch 4/150\n",
      "9/9 [==============================] - 0s 7ms/step - loss: 0.7736 - accuracy: 0.6716 - val_loss: 0.7091 - val_accuracy: 0.6471\n",
      "Epoch 5/150\n",
      "9/9 [==============================] - 0s 7ms/step - loss: 0.7086 - accuracy: 0.7313 - val_loss: 0.6486 - val_accuracy: 0.6765\n",
      "Epoch 6/150\n",
      "9/9 [==============================] - 0s 7ms/step - loss: 0.6529 - accuracy: 0.7687 - val_loss: 0.5958 - val_accuracy: 0.7353\n",
      "Epoch 7/150\n",
      "9/9 [==============================] - 0s 7ms/step - loss: 0.6039 - accuracy: 0.7836 - val_loss: 0.5493 - val_accuracy: 0.7647\n",
      "Epoch 8/150\n",
      "9/9 [==============================] - 0s 7ms/step - loss: 0.5585 - accuracy: 0.7985 - val_loss: 0.5087 - val_accuracy: 0.7647\n",
      "Epoch 9/150\n",
      "9/9 [==============================] - 0s 7ms/step - loss: 0.5190 - accuracy: 0.8134 - val_loss: 0.4705 - val_accuracy: 0.7941\n",
      "Epoch 10/150\n",
      "9/9 [==============================] - 0s 7ms/step - loss: 0.4820 - accuracy: 0.8433 - val_loss: 0.4322 - val_accuracy: 0.8235\n",
      "Epoch 11/150\n",
      "9/9 [==============================] - 0s 7ms/step - loss: 0.4446 - accuracy: 0.8507 - val_loss: 0.3966 - val_accuracy: 0.8824\n",
      "Epoch 12/150\n",
      "9/9 [==============================] - 0s 7ms/step - loss: 0.4110 - accuracy: 0.8582 - val_loss: 0.3643 - val_accuracy: 0.8824\n",
      "Epoch 13/150\n",
      "9/9 [==============================] - 0s 7ms/step - loss: 0.3805 - accuracy: 0.8731 - val_loss: 0.3343 - val_accuracy: 0.8824\n",
      "Epoch 14/150\n",
      "9/9 [==============================] - 0s 7ms/step - loss: 0.3545 - accuracy: 0.8955 - val_loss: 0.3071 - val_accuracy: 0.9118\n",
      "Epoch 15/150\n",
      "9/9 [==============================] - 0s 7ms/step - loss: 0.3304 - accuracy: 0.9030 - val_loss: 0.2850 - val_accuracy: 0.9118\n",
      "Epoch 16/150\n",
      "9/9 [==============================] - 0s 7ms/step - loss: 0.3113 - accuracy: 0.9030 - val_loss: 0.2649 - val_accuracy: 0.9118\n",
      "Epoch 17/150\n",
      "9/9 [==============================] - 0s 7ms/step - loss: 0.2947 - accuracy: 0.9030 - val_loss: 0.2514 - val_accuracy: 0.9118\n",
      "Epoch 18/150\n",
      "9/9 [==============================] - 0s 6ms/step - loss: 0.2798 - accuracy: 0.9104 - val_loss: 0.2386 - val_accuracy: 0.9118\n",
      "Epoch 19/150\n",
      "9/9 [==============================] - 0s 6ms/step - loss: 0.2693 - accuracy: 0.9104 - val_loss: 0.2282 - val_accuracy: 0.9118\n",
      "Epoch 20/150\n",
      "9/9 [==============================] - 0s 7ms/step - loss: 0.2594 - accuracy: 0.9030 - val_loss: 0.2185 - val_accuracy: 0.9118\n",
      "Epoch 21/150\n",
      "9/9 [==============================] - 0s 7ms/step - loss: 0.2507 - accuracy: 0.9104 - val_loss: 0.2119 - val_accuracy: 0.9118\n",
      "Epoch 22/150\n",
      "9/9 [==============================] - 0s 7ms/step - loss: 0.2439 - accuracy: 0.9104 - val_loss: 0.2060 - val_accuracy: 0.8824\n",
      "Epoch 23/150\n",
      "9/9 [==============================] - 0s 7ms/step - loss: 0.2364 - accuracy: 0.9104 - val_loss: 0.2002 - val_accuracy: 0.8824\n",
      "Epoch 24/150\n",
      "9/9 [==============================] - 0s 6ms/step - loss: 0.2321 - accuracy: 0.9254 - val_loss: 0.1934 - val_accuracy: 0.9118\n",
      "Epoch 25/150\n",
      "9/9 [==============================] - 0s 6ms/step - loss: 0.2260 - accuracy: 0.9254 - val_loss: 0.1901 - val_accuracy: 0.8824\n",
      "Epoch 26/150\n",
      "9/9 [==============================] - 0s 6ms/step - loss: 0.2190 - accuracy: 0.9254 - val_loss: 0.1889 - val_accuracy: 0.8824\n",
      "Epoch 27/150\n",
      "9/9 [==============================] - 0s 7ms/step - loss: 0.2147 - accuracy: 0.9254 - val_loss: 0.1852 - val_accuracy: 0.8824\n",
      "Epoch 28/150\n",
      "9/9 [==============================] - 0s 7ms/step - loss: 0.2111 - accuracy: 0.9254 - val_loss: 0.1809 - val_accuracy: 0.8824\n",
      "Epoch 29/150\n",
      "9/9 [==============================] - 0s 6ms/step - loss: 0.2063 - accuracy: 0.9254 - val_loss: 0.1782 - val_accuracy: 0.8824\n",
      "Epoch 30/150\n",
      "9/9 [==============================] - 0s 7ms/step - loss: 0.2024 - accuracy: 0.9254 - val_loss: 0.1753 - val_accuracy: 0.8824\n",
      "Epoch 31/150\n",
      "9/9 [==============================] - 0s 7ms/step - loss: 0.1984 - accuracy: 0.9254 - val_loss: 0.1735 - val_accuracy: 0.8824\n",
      "Epoch 32/150\n",
      "9/9 [==============================] - 0s 7ms/step - loss: 0.1967 - accuracy: 0.9328 - val_loss: 0.1691 - val_accuracy: 0.9118\n",
      "Epoch 33/150\n",
      "9/9 [==============================] - 0s 6ms/step - loss: 0.1930 - accuracy: 0.9328 - val_loss: 0.1660 - val_accuracy: 0.9118\n",
      "Epoch 34/150\n",
      "9/9 [==============================] - 0s 7ms/step - loss: 0.1897 - accuracy: 0.9328 - val_loss: 0.1615 - val_accuracy: 0.9412\n",
      "Epoch 35/150\n",
      "9/9 [==============================] - 0s 6ms/step - loss: 0.1854 - accuracy: 0.9328 - val_loss: 0.1610 - val_accuracy: 0.9412\n",
      "Epoch 36/150\n",
      "9/9 [==============================] - 0s 6ms/step - loss: 0.1823 - accuracy: 0.9328 - val_loss: 0.1590 - val_accuracy: 0.9412\n",
      "Epoch 37/150\n",
      "9/9 [==============================] - 0s 7ms/step - loss: 0.1803 - accuracy: 0.9328 - val_loss: 0.1572 - val_accuracy: 0.9412\n",
      "Epoch 38/150\n",
      "9/9 [==============================] - 0s 7ms/step - loss: 0.1791 - accuracy: 0.9254 - val_loss: 0.1614 - val_accuracy: 0.9118\n",
      "Epoch 39/150\n",
      "9/9 [==============================] - 0s 7ms/step - loss: 0.1739 - accuracy: 0.9254 - val_loss: 0.1582 - val_accuracy: 0.9118\n",
      "Epoch 40/150\n",
      "9/9 [==============================] - 0s 7ms/step - loss: 0.1709 - accuracy: 0.9328 - val_loss: 0.1511 - val_accuracy: 0.9412\n",
      "Epoch 41/150\n",
      "9/9 [==============================] - 0s 7ms/step - loss: 0.1709 - accuracy: 0.9254 - val_loss: 0.1465 - val_accuracy: 0.9412\n",
      "Epoch 42/150\n",
      "9/9 [==============================] - 0s 7ms/step - loss: 0.1669 - accuracy: 0.9328 - val_loss: 0.1487 - val_accuracy: 0.9412\n",
      "Epoch 43/150\n",
      "9/9 [==============================] - 0s 6ms/step - loss: 0.1637 - accuracy: 0.9328 - val_loss: 0.1477 - val_accuracy: 0.9412\n",
      "Epoch 44/150\n",
      "9/9 [==============================] - 0s 6ms/step - loss: 0.1611 - accuracy: 0.9328 - val_loss: 0.1456 - val_accuracy: 0.9412\n",
      "Epoch 45/150\n",
      "9/9 [==============================] - 0s 6ms/step - loss: 0.1595 - accuracy: 0.9328 - val_loss: 0.1442 - val_accuracy: 0.9412\n",
      "Epoch 46/150\n",
      "9/9 [==============================] - 0s 6ms/step - loss: 0.1569 - accuracy: 0.9328 - val_loss: 0.1419 - val_accuracy: 0.9412\n",
      "Epoch 47/150\n",
      "9/9 [==============================] - 0s 7ms/step - loss: 0.1564 - accuracy: 0.9254 - val_loss: 0.1400 - val_accuracy: 0.9412\n",
      "Epoch 48/150\n",
      "9/9 [==============================] - 0s 6ms/step - loss: 0.1529 - accuracy: 0.9254 - val_loss: 0.1383 - val_accuracy: 0.9412\n",
      "Epoch 49/150\n",
      "9/9 [==============================] - 0s 7ms/step - loss: 0.1515 - accuracy: 0.9254 - val_loss: 0.1398 - val_accuracy: 0.9412\n",
      "Epoch 50/150\n",
      "9/9 [==============================] - 0s 7ms/step - loss: 0.1485 - accuracy: 0.9328 - val_loss: 0.1381 - val_accuracy: 0.9412\n",
      "Epoch 51/150\n",
      "9/9 [==============================] - 0s 7ms/step - loss: 0.1471 - accuracy: 0.9328 - val_loss: 0.1361 - val_accuracy: 0.9412\n",
      "Epoch 52/150\n",
      "9/9 [==============================] - 0s 7ms/step - loss: 0.1441 - accuracy: 0.9328 - val_loss: 0.1344 - val_accuracy: 0.9412\n",
      "Epoch 53/150\n",
      "9/9 [==============================] - 0s 6ms/step - loss: 0.1428 - accuracy: 0.9254 - val_loss: 0.1326 - val_accuracy: 0.9412\n",
      "Epoch 54/150\n",
      "9/9 [==============================] - 0s 7ms/step - loss: 0.1405 - accuracy: 0.9254 - val_loss: 0.1322 - val_accuracy: 0.9412\n",
      "Epoch 55/150\n",
      "9/9 [==============================] - 0s 7ms/step - loss: 0.1388 - accuracy: 0.9254 - val_loss: 0.1288 - val_accuracy: 0.9412\n",
      "Epoch 56/150\n",
      "9/9 [==============================] - 0s 7ms/step - loss: 0.1381 - accuracy: 0.9328 - val_loss: 0.1286 - val_accuracy: 0.9412\n",
      "Epoch 57/150\n",
      "9/9 [==============================] - 0s 6ms/step - loss: 0.1359 - accuracy: 0.9328 - val_loss: 0.1283 - val_accuracy: 0.9412\n",
      "Epoch 58/150\n",
      "9/9 [==============================] - 0s 7ms/step - loss: 0.1337 - accuracy: 0.9328 - val_loss: 0.1295 - val_accuracy: 0.9412\n",
      "Epoch 59/150\n",
      "9/9 [==============================] - 0s 6ms/step - loss: 0.1335 - accuracy: 0.9328 - val_loss: 0.1277 - val_accuracy: 0.9412\n",
      "Epoch 60/150\n",
      "9/9 [==============================] - 0s 8ms/step - loss: 0.1309 - accuracy: 0.9478 - val_loss: 0.1244 - val_accuracy: 0.9412\n",
      "Epoch 61/150\n",
      "9/9 [==============================] - 0s 7ms/step - loss: 0.1280 - accuracy: 0.9328 - val_loss: 0.1227 - val_accuracy: 0.9412\n",
      "Epoch 62/150\n",
      "9/9 [==============================] - 0s 7ms/step - loss: 0.1265 - accuracy: 0.9403 - val_loss: 0.1214 - val_accuracy: 0.9412\n",
      "Epoch 63/150\n",
      "9/9 [==============================] - 0s 7ms/step - loss: 0.1250 - accuracy: 0.9403 - val_loss: 0.1213 - val_accuracy: 0.9412\n",
      "Epoch 64/150\n",
      "9/9 [==============================] - 0s 7ms/step - loss: 0.1230 - accuracy: 0.9403 - val_loss: 0.1195 - val_accuracy: 0.9412\n",
      "Epoch 65/150\n",
      "9/9 [==============================] - 0s 6ms/step - loss: 0.1222 - accuracy: 0.9403 - val_loss: 0.1182 - val_accuracy: 0.9412\n",
      "Epoch 66/150\n",
      "9/9 [==============================] - 0s 7ms/step - loss: 0.1236 - accuracy: 0.9403 - val_loss: 0.1196 - val_accuracy: 0.9412\n",
      "Epoch 67/150\n",
      "9/9 [==============================] - 0s 6ms/step - loss: 0.1189 - accuracy: 0.9403 - val_loss: 0.1154 - val_accuracy: 0.9412\n",
      "Epoch 68/150\n",
      "9/9 [==============================] - 0s 7ms/step - loss: 0.1179 - accuracy: 0.9478 - val_loss: 0.1125 - val_accuracy: 0.9412\n",
      "Epoch 69/150\n",
      "9/9 [==============================] - 0s 7ms/step - loss: 0.1149 - accuracy: 0.9478 - val_loss: 0.1123 - val_accuracy: 0.9412\n",
      "Epoch 70/150\n",
      "9/9 [==============================] - 0s 6ms/step - loss: 0.1136 - accuracy: 0.9478 - val_loss: 0.1099 - val_accuracy: 0.9412\n",
      "Epoch 71/150\n",
      "9/9 [==============================] - 0s 9ms/step - loss: 0.1115 - accuracy: 0.9627 - val_loss: 0.1089 - val_accuracy: 0.9412\n",
      "Epoch 72/150\n",
      "9/9 [==============================] - 0s 8ms/step - loss: 0.1122 - accuracy: 0.9552 - val_loss: 0.1101 - val_accuracy: 0.9412\n",
      "Epoch 73/150\n",
      "9/9 [==============================] - 0s 6ms/step - loss: 0.1127 - accuracy: 0.9552 - val_loss: 0.1055 - val_accuracy: 0.9412\n",
      "Epoch 74/150\n",
      "9/9 [==============================] - 0s 6ms/step - loss: 0.1082 - accuracy: 0.9701 - val_loss: 0.1050 - val_accuracy: 0.9706\n",
      "Epoch 75/150\n",
      "9/9 [==============================] - 0s 6ms/step - loss: 0.1055 - accuracy: 0.9627 - val_loss: 0.1055 - val_accuracy: 0.9412\n",
      "Epoch 76/150\n",
      "9/9 [==============================] - 0s 7ms/step - loss: 0.1049 - accuracy: 0.9627 - val_loss: 0.1069 - val_accuracy: 0.9412\n",
      "Epoch 77/150\n",
      "9/9 [==============================] - 0s 6ms/step - loss: 0.1041 - accuracy: 0.9627 - val_loss: 0.1058 - val_accuracy: 0.9412\n",
      "Epoch 78/150\n",
      "9/9 [==============================] - 0s 6ms/step - loss: 0.1020 - accuracy: 0.9627 - val_loss: 0.1032 - val_accuracy: 0.9412\n",
      "Epoch 79/150\n",
      "9/9 [==============================] - 0s 7ms/step - loss: 0.1023 - accuracy: 0.9627 - val_loss: 0.0983 - val_accuracy: 0.9706\n",
      "Epoch 80/150\n",
      "9/9 [==============================] - 0s 6ms/step - loss: 0.0998 - accuracy: 0.9701 - val_loss: 0.0975 - val_accuracy: 0.9706\n",
      "Epoch 81/150\n",
      "9/9 [==============================] - 0s 7ms/step - loss: 0.0977 - accuracy: 0.9851 - val_loss: 0.0984 - val_accuracy: 0.9412\n",
      "Epoch 82/150\n",
      "9/9 [==============================] - 0s 6ms/step - loss: 0.0963 - accuracy: 0.9701 - val_loss: 0.0949 - val_accuracy: 0.9706\n",
      "Epoch 83/150\n",
      "9/9 [==============================] - 0s 7ms/step - loss: 0.0970 - accuracy: 0.9701 - val_loss: 0.0951 - val_accuracy: 0.9706\n",
      "Epoch 84/150\n",
      "9/9 [==============================] - 0s 7ms/step - loss: 0.0956 - accuracy: 0.9851 - val_loss: 0.0943 - val_accuracy: 0.9412\n",
      "Epoch 85/150\n",
      "9/9 [==============================] - 0s 7ms/step - loss: 0.0954 - accuracy: 0.9627 - val_loss: 0.0909 - val_accuracy: 0.9706\n",
      "Epoch 86/150\n",
      "9/9 [==============================] - 0s 7ms/step - loss: 0.0943 - accuracy: 0.9851 - val_loss: 0.0913 - val_accuracy: 0.9706\n",
      "Epoch 87/150\n",
      "9/9 [==============================] - 0s 6ms/step - loss: 0.0937 - accuracy: 0.9627 - val_loss: 0.0938 - val_accuracy: 0.9412\n",
      "Epoch 88/150\n",
      "9/9 [==============================] - 0s 7ms/step - loss: 0.0900 - accuracy: 0.9776 - val_loss: 0.0893 - val_accuracy: 0.9706\n",
      "Epoch 89/150\n",
      "9/9 [==============================] - 0s 7ms/step - loss: 0.0881 - accuracy: 0.9851 - val_loss: 0.0889 - val_accuracy: 0.9706\n",
      "Epoch 90/150\n",
      "9/9 [==============================] - 0s 7ms/step - loss: 0.0866 - accuracy: 0.9851 - val_loss: 0.0854 - val_accuracy: 0.9706\n",
      "Epoch 91/150\n",
      "9/9 [==============================] - 0s 6ms/step - loss: 0.0865 - accuracy: 0.9851 - val_loss: 0.0859 - val_accuracy: 0.9706\n",
      "Epoch 92/150\n",
      "9/9 [==============================] - 0s 7ms/step - loss: 0.0844 - accuracy: 0.9851 - val_loss: 0.0855 - val_accuracy: 0.9706\n",
      "Epoch 93/150\n",
      "9/9 [==============================] - 0s 6ms/step - loss: 0.0826 - accuracy: 0.9851 - val_loss: 0.0849 - val_accuracy: 0.9706\n",
      "Epoch 94/150\n",
      "9/9 [==============================] - 0s 6ms/step - loss: 0.0809 - accuracy: 0.9851 - val_loss: 0.0845 - val_accuracy: 0.9706\n",
      "Epoch 95/150\n",
      "9/9 [==============================] - 0s 6ms/step - loss: 0.0801 - accuracy: 0.9851 - val_loss: 0.0844 - val_accuracy: 0.9706\n",
      "Epoch 96/150\n",
      "9/9 [==============================] - 0s 6ms/step - loss: 0.0799 - accuracy: 0.9851 - val_loss: 0.0813 - val_accuracy: 0.9706\n",
      "Epoch 97/150\n",
      "9/9 [==============================] - 0s 6ms/step - loss: 0.0777 - accuracy: 0.9851 - val_loss: 0.0817 - val_accuracy: 0.9706\n",
      "Epoch 98/150\n",
      "9/9 [==============================] - 0s 7ms/step - loss: 0.0768 - accuracy: 0.9776 - val_loss: 0.0809 - val_accuracy: 0.9706\n",
      "Epoch 99/150\n",
      "9/9 [==============================] - 0s 6ms/step - loss: 0.0754 - accuracy: 0.9851 - val_loss: 0.0783 - val_accuracy: 0.9706\n",
      "Epoch 100/150\n",
      "9/9 [==============================] - 0s 8ms/step - loss: 0.0746 - accuracy: 0.9851 - val_loss: 0.0776 - val_accuracy: 0.9706\n",
      "Epoch 101/150\n",
      "9/9 [==============================] - 0s 7ms/step - loss: 0.0734 - accuracy: 0.9851 - val_loss: 0.0761 - val_accuracy: 0.9706\n",
      "Epoch 102/150\n",
      "9/9 [==============================] - 0s 7ms/step - loss: 0.0723 - accuracy: 0.9851 - val_loss: 0.0755 - val_accuracy: 0.9706\n",
      "Epoch 103/150\n",
      "9/9 [==============================] - 0s 7ms/step - loss: 0.0725 - accuracy: 0.9851 - val_loss: 0.0742 - val_accuracy: 1.0000\n",
      "Epoch 104/150\n",
      "9/9 [==============================] - 0s 7ms/step - loss: 0.0705 - accuracy: 0.9851 - val_loss: 0.0739 - val_accuracy: 1.0000\n",
      "Epoch 105/150\n",
      "9/9 [==============================] - 0s 7ms/step - loss: 0.0703 - accuracy: 0.9851 - val_loss: 0.0722 - val_accuracy: 1.0000\n",
      "Epoch 106/150\n",
      "9/9 [==============================] - 0s 7ms/step - loss: 0.0701 - accuracy: 0.9851 - val_loss: 0.0695 - val_accuracy: 1.0000\n",
      "Epoch 107/150\n",
      "9/9 [==============================] - 0s 6ms/step - loss: 0.0690 - accuracy: 0.9925 - val_loss: 0.0699 - val_accuracy: 1.0000\n",
      "Epoch 108/150\n",
      "9/9 [==============================] - 0s 6ms/step - loss: 0.0674 - accuracy: 0.9776 - val_loss: 0.0723 - val_accuracy: 1.0000\n",
      "Epoch 109/150\n",
      "9/9 [==============================] - 0s 7ms/step - loss: 0.0669 - accuracy: 0.9851 - val_loss: 0.0698 - val_accuracy: 1.0000\n",
      "Epoch 110/150\n",
      "9/9 [==============================] - 0s 6ms/step - loss: 0.0653 - accuracy: 0.9851 - val_loss: 0.0684 - val_accuracy: 1.0000\n",
      "Epoch 111/150\n",
      "9/9 [==============================] - 0s 7ms/step - loss: 0.0650 - accuracy: 0.9925 - val_loss: 0.0686 - val_accuracy: 1.0000\n",
      "Epoch 112/150\n",
      "9/9 [==============================] - 0s 6ms/step - loss: 0.0635 - accuracy: 0.9925 - val_loss: 0.0674 - val_accuracy: 1.0000\n",
      "Epoch 113/150\n",
      "9/9 [==============================] - 0s 6ms/step - loss: 0.0640 - accuracy: 0.9776 - val_loss: 0.0684 - val_accuracy: 1.0000\n",
      "Epoch 114/150\n",
      "9/9 [==============================] - 0s 6ms/step - loss: 0.0622 - accuracy: 0.9851 - val_loss: 0.0652 - val_accuracy: 1.0000\n",
      "Epoch 115/150\n",
      "9/9 [==============================] - 0s 7ms/step - loss: 0.0620 - accuracy: 0.9925 - val_loss: 0.0657 - val_accuracy: 1.0000\n",
      "Epoch 116/150\n",
      "9/9 [==============================] - 0s 7ms/step - loss: 0.0617 - accuracy: 0.9925 - val_loss: 0.0682 - val_accuracy: 1.0000\n",
      "Epoch 117/150\n",
      "9/9 [==============================] - 0s 7ms/step - loss: 0.0592 - accuracy: 0.9851 - val_loss: 0.0652 - val_accuracy: 1.0000\n",
      "Epoch 118/150\n",
      "9/9 [==============================] - 0s 7ms/step - loss: 0.0590 - accuracy: 0.9925 - val_loss: 0.0633 - val_accuracy: 1.0000\n",
      "Epoch 119/150\n",
      "9/9 [==============================] - 0s 7ms/step - loss: 0.0582 - accuracy: 0.9925 - val_loss: 0.0635 - val_accuracy: 1.0000\n",
      "Epoch 120/150\n",
      "9/9 [==============================] - 0s 6ms/step - loss: 0.0579 - accuracy: 0.9925 - val_loss: 0.0638 - val_accuracy: 1.0000\n",
      "Epoch 121/150\n",
      "9/9 [==============================] - 0s 6ms/step - loss: 0.0565 - accuracy: 0.9925 - val_loss: 0.0641 - val_accuracy: 1.0000\n",
      "Epoch 122/150\n",
      "9/9 [==============================] - 0s 10ms/step - loss: 0.0560 - accuracy: 0.9925 - val_loss: 0.0623 - val_accuracy: 1.0000\n",
      "Epoch 123/150\n",
      "9/9 [==============================] - 0s 7ms/step - loss: 0.0574 - accuracy: 0.9851 - val_loss: 0.0623 - val_accuracy: 1.0000\n",
      "Epoch 124/150\n",
      "9/9 [==============================] - 0s 6ms/step - loss: 0.0548 - accuracy: 0.9925 - val_loss: 0.0625 - val_accuracy: 1.0000\n",
      "Epoch 125/150\n",
      "9/9 [==============================] - 0s 7ms/step - loss: 0.0549 - accuracy: 0.9925 - val_loss: 0.0611 - val_accuracy: 1.0000\n",
      "Epoch 126/150\n",
      "9/9 [==============================] - 0s 7ms/step - loss: 0.0553 - accuracy: 0.9925 - val_loss: 0.0646 - val_accuracy: 1.0000\n",
      "Epoch 127/150\n",
      "9/9 [==============================] - 0s 7ms/step - loss: 0.0535 - accuracy: 0.9925 - val_loss: 0.0624 - val_accuracy: 1.0000\n",
      "Epoch 128/150\n",
      "9/9 [==============================] - 0s 7ms/step - loss: 0.0520 - accuracy: 0.9925 - val_loss: 0.0610 - val_accuracy: 1.0000\n",
      "Epoch 129/150\n",
      "9/9 [==============================] - 0s 6ms/step - loss: 0.0525 - accuracy: 0.9925 - val_loss: 0.0599 - val_accuracy: 1.0000\n",
      "Epoch 130/150\n",
      "9/9 [==============================] - 0s 7ms/step - loss: 0.0513 - accuracy: 0.9925 - val_loss: 0.0595 - val_accuracy: 1.0000\n",
      "Epoch 131/150\n",
      "9/9 [==============================] - 0s 8ms/step - loss: 0.0511 - accuracy: 0.9925 - val_loss: 0.0603 - val_accuracy: 1.0000\n",
      "Epoch 132/150\n",
      "9/9 [==============================] - 0s 7ms/step - loss: 0.0539 - accuracy: 0.9925 - val_loss: 0.0568 - val_accuracy: 1.0000\n",
      "Epoch 133/150\n",
      "9/9 [==============================] - 0s 6ms/step - loss: 0.0537 - accuracy: 0.9925 - val_loss: 0.0598 - val_accuracy: 1.0000\n",
      "Epoch 134/150\n",
      "9/9 [==============================] - 0s 6ms/step - loss: 0.0503 - accuracy: 0.9851 - val_loss: 0.0570 - val_accuracy: 1.0000\n",
      "Epoch 135/150\n",
      "9/9 [==============================] - 0s 7ms/step - loss: 0.0481 - accuracy: 0.9925 - val_loss: 0.0559 - val_accuracy: 1.0000\n",
      "Epoch 136/150\n",
      "9/9 [==============================] - 0s 6ms/step - loss: 0.0473 - accuracy: 0.9925 - val_loss: 0.0579 - val_accuracy: 1.0000\n",
      "Epoch 137/150\n",
      "9/9 [==============================] - 0s 6ms/step - loss: 0.0470 - accuracy: 0.9925 - val_loss: 0.0573 - val_accuracy: 1.0000\n",
      "Epoch 138/150\n",
      "9/9 [==============================] - 0s 7ms/step - loss: 0.0472 - accuracy: 0.9925 - val_loss: 0.0565 - val_accuracy: 1.0000\n",
      "Epoch 139/150\n",
      "9/9 [==============================] - 0s 7ms/step - loss: 0.0462 - accuracy: 0.9925 - val_loss: 0.0559 - val_accuracy: 1.0000\n",
      "Epoch 140/150\n",
      "9/9 [==============================] - 0s 7ms/step - loss: 0.0457 - accuracy: 0.9925 - val_loss: 0.0586 - val_accuracy: 1.0000\n",
      "Epoch 141/150\n",
      "9/9 [==============================] - 0s 6ms/step - loss: 0.0448 - accuracy: 0.9925 - val_loss: 0.0567 - val_accuracy: 1.0000\n",
      "Epoch 142/150\n",
      "9/9 [==============================] - 0s 6ms/step - loss: 0.0437 - accuracy: 0.9925 - val_loss: 0.0578 - val_accuracy: 1.0000\n",
      "Epoch 143/150\n",
      "9/9 [==============================] - 0s 6ms/step - loss: 0.0438 - accuracy: 0.9851 - val_loss: 0.0571 - val_accuracy: 1.0000\n",
      "Epoch 144/150\n",
      "9/9 [==============================] - 0s 7ms/step - loss: 0.0439 - accuracy: 0.9851 - val_loss: 0.0552 - val_accuracy: 1.0000\n",
      "Epoch 145/150\n",
      "9/9 [==============================] - 0s 7ms/step - loss: 0.0424 - accuracy: 0.9925 - val_loss: 0.0514 - val_accuracy: 1.0000\n",
      "Epoch 146/150\n",
      "9/9 [==============================] - 0s 6ms/step - loss: 0.0429 - accuracy: 0.9925 - val_loss: 0.0516 - val_accuracy: 1.0000\n",
      "Epoch 147/150\n",
      "9/9 [==============================] - 0s 7ms/step - loss: 0.0412 - accuracy: 0.9925 - val_loss: 0.0494 - val_accuracy: 1.0000\n",
      "Epoch 148/150\n",
      "9/9 [==============================] - 0s 7ms/step - loss: 0.0413 - accuracy: 0.9925 - val_loss: 0.0486 - val_accuracy: 1.0000\n",
      "Epoch 149/150\n",
      "9/9 [==============================] - 0s 6ms/step - loss: 0.0409 - accuracy: 0.9925 - val_loss: 0.0508 - val_accuracy: 1.0000\n",
      "Epoch 150/150\n",
      "9/9 [==============================] - 0s 6ms/step - loss: 0.0405 - accuracy: 0.9925 - val_loss: 0.0499 - val_accuracy: 1.0000\n"
     ]
    }
   ],
   "source": [
    "history = model.fit(X_train, y_train, epochs=150, batch_size=16, validation_data=(X_val, y_val))"
   ]
  },
  {
   "cell_type": "code",
   "execution_count": 13,
   "id": "6d9a570a-f1bc-4a67-8a37-30d6f9dc8880",
   "metadata": {},
   "outputs": [
    {
     "data": {
      "image/png": "[encoded data removed]",
      "text/plain": [
       "<Figure size 640x480 with 1 Axes>"
      ]
     },
     "metadata": {},
     "output_type": "display_data"
    }
   ],
   "source": [
    "import matplotlib.pyplot as plt\n",
    "\n",
    "plt.plot(history.history['accuracy'], label='Train Accuracy')\n",
    "plt.plot(history.history['val_accuracy'], label='Validation Accuracy')\n",
    "plt.xlabel('Epoch')\n",
    "plt.ylabel('Accuracy')\n",
    "plt.legend()\n",
    "plt.show()"
   ]
  },
  {
   "cell_type": "code",
   "execution_count": 14,
   "id": "eb69f7ac-8ba5-4cce-89ee-c1899ed86035",
   "metadata": {},
   "outputs": [
    {
     "data": {
      "image/png": "[encoded data removed]",
      "text/plain": [
       "<Figure size 640x480 with 1 Axes>"
      ]
     },
     "metadata": {},
     "output_type": "display_data"
    }
   ],
   "source": [
    "plt.plot(history.history['loss'], label='Train loss')\n",
    "plt.plot(history.history['val_loss'], label='Validation Loss')\n",
    "plt.xlabel('Epoch')\n",
    "plt.ylabel('Loss')\n",
    "plt.legend()\n",
    "plt.show()"
   ]
  },
  {
   "cell_type": "code",
   "execution_count": 20,
   "id": "ba71fe46-8eb7-4eb0-9b74-c3ce0e6c6125",
   "metadata": {},
   "outputs": [
    {
     "name": "stdout",
     "output_type": "stream",
     "text": [
      "2/2 [==============================] - 0s 6ms/step - loss: 0.0856 - accuracy: 0.9762\n"
     ]
    },
    {
     "data": {
      "text/plain": [
       "[0.08555547147989273, 0.976190447807312]"
      ]
     },
     "execution_count": 20,
     "metadata": {},
     "output_type": "execute_result"
    }
   ],
   "source": [
    "model.evaluate(X_test, y_test)"
   ]
  },
  {
   "cell_type": "code",
   "execution_count": null,
   "id": "e625d031-68e3-4ff3-822c-bc6240336c3a",
   "metadata": {},
   "outputs": [],
   "source": []
  }
 ],
 "metadata": {
  "kernelspec": {
   "display_name": "Python 3 (ipykernel)",
   "language": "python",
   "name": "python3"
  },
  "language_info": {
   "codemirror_mode": {
    "name": "ipython",
    "version": 3
   },
   "file_extension": ".py",
   "mimetype": "text/x-python",
   "name": "python",
   "nbconvert_exporter": "python",
   "pygments_lexer": "ipython3",
   "version": "3.10.16"
  }
 },
 "nbformat": 4,
 "nbformat_minor": 5
}
