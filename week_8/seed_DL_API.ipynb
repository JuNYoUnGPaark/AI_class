{
 "cells": [
  {
   "cell_type": "code",
   "execution_count": 1,
   "id": "ec74e7d1-f639-4400-8419-568518083e03",
   "metadata": {},
   "outputs": [
    {
     "data": {
      "text/html": [
       "<div>\n",
       "<style scoped>\n",
       "    .dataframe tbody tr th:only-of-type {\n",
       "        vertical-align: middle;\n",
       "    }\n",
       "\n",
       "    .dataframe tbody tr th {\n",
       "        vertical-align: top;\n",
       "    }\n",
       "\n",
       "    .dataframe thead th {\n",
       "        text-align: right;\n",
       "    }\n",
       "</style>\n",
       "<table border=\"1\" class=\"dataframe\">\n",
       "  <thead>\n",
       "    <tr style=\"text-align: right;\">\n",
       "      <th></th>\n",
       "      <th>A</th>\n",
       "      <th>P</th>\n",
       "      <th>C</th>\n",
       "      <th>LK</th>\n",
       "      <th>WK</th>\n",
       "      <th>A_Coef</th>\n",
       "      <th>LKG</th>\n",
       "      <th>target</th>\n",
       "    </tr>\n",
       "  </thead>\n",
       "  <tbody>\n",
       "    <tr>\n",
       "      <th>0</th>\n",
       "      <td>15.26</td>\n",
       "      <td>14.84</td>\n",
       "      <td>0.8710</td>\n",
       "      <td>5.763</td>\n",
       "      <td>3.312</td>\n",
       "      <td>2.221</td>\n",
       "      <td>5.220</td>\n",
       "      <td>0</td>\n",
       "    </tr>\n",
       "    <tr>\n",
       "      <th>1</th>\n",
       "      <td>14.88</td>\n",
       "      <td>14.57</td>\n",
       "      <td>0.8811</td>\n",
       "      <td>5.554</td>\n",
       "      <td>3.333</td>\n",
       "      <td>1.018</td>\n",
       "      <td>4.956</td>\n",
       "      <td>0</td>\n",
       "    </tr>\n",
       "    <tr>\n",
       "      <th>2</th>\n",
       "      <td>14.29</td>\n",
       "      <td>14.09</td>\n",
       "      <td>0.9050</td>\n",
       "      <td>5.291</td>\n",
       "      <td>3.337</td>\n",
       "      <td>2.699</td>\n",
       "      <td>4.825</td>\n",
       "      <td>0</td>\n",
       "    </tr>\n",
       "    <tr>\n",
       "      <th>3</th>\n",
       "      <td>13.84</td>\n",
       "      <td>13.94</td>\n",
       "      <td>0.8955</td>\n",
       "      <td>5.324</td>\n",
       "      <td>3.379</td>\n",
       "      <td>2.259</td>\n",
       "      <td>4.805</td>\n",
       "      <td>0</td>\n",
       "    </tr>\n",
       "    <tr>\n",
       "      <th>4</th>\n",
       "      <td>16.14</td>\n",
       "      <td>14.99</td>\n",
       "      <td>0.9034</td>\n",
       "      <td>5.658</td>\n",
       "      <td>3.562</td>\n",
       "      <td>1.355</td>\n",
       "      <td>5.175</td>\n",
       "      <td>0</td>\n",
       "    </tr>\n",
       "  </tbody>\n",
       "</table>\n",
       "</div>"
      ],
      "text/plain": [
       "       A      P       C     LK     WK  A_Coef    LKG  target\n",
       "0  15.26  14.84  0.8710  5.763  3.312   2.221  5.220       0\n",
       "1  14.88  14.57  0.8811  5.554  3.333   1.018  4.956       0\n",
       "2  14.29  14.09  0.9050  5.291  3.337   2.699  4.825       0\n",
       "3  13.84  13.94  0.8955  5.324  3.379   2.259  4.805       0\n",
       "4  16.14  14.99  0.9034  5.658  3.562   1.355  5.175       0"
      ]
     },
     "execution_count": 1,
     "metadata": {},
     "output_type": "execute_result"
    }
   ],
   "source": [
    "import pandas as pd\n",
    "file_path = \"C://Users/sampa/ai_class/data_files/Seed_Data.csv\"\n",
    "\n",
    "df = pd.read_csv(file_path)\n",
    "df.head()"
   ]
  },
  {
   "cell_type": "code",
   "execution_count": 2,
   "id": "3bc28391-2077-4117-bdcb-027c5fa7463a",
   "metadata": {},
   "outputs": [
    {
     "data": {
      "text/plain": [
       "A         0\n",
       "P         0\n",
       "C         0\n",
       "LK        0\n",
       "WK        0\n",
       "A_Coef    0\n",
       "LKG       0\n",
       "target    0\n",
       "dtype: int64"
      ]
     },
     "execution_count": 2,
     "metadata": {},
     "output_type": "execute_result"
    }
   ],
   "source": [
    "df.isna().sum()"
   ]
  },
  {
   "cell_type": "code",
   "execution_count": 3,
   "id": "2d08bc4f-4155-4ab9-90d1-8e6be722f1f6",
   "metadata": {},
   "outputs": [
    {
     "name": "stdout",
     "output_type": "stream",
     "text": [
      "<class 'pandas.core.frame.DataFrame'>\n",
      "RangeIndex: 210 entries, 0 to 209\n",
      "Data columns (total 8 columns):\n",
      " #   Column  Non-Null Count  Dtype  \n",
      "---  ------  --------------  -----  \n",
      " 0   A       210 non-null    float64\n",
      " 1   P       210 non-null    float64\n",
      " 2   C       210 non-null    float64\n",
      " 3   LK      210 non-null    float64\n",
      " 4   WK      210 non-null    float64\n",
      " 5   A_Coef  210 non-null    float64\n",
      " 6   LKG     210 non-null    float64\n",
      " 7   target  210 non-null    int64  \n",
      "dtypes: float64(7), int64(1)\n",
      "memory usage: 13.2 KB\n"
     ]
    }
   ],
   "source": [
    "df.info()"
   ]
  },
  {
   "cell_type": "code",
   "execution_count": 4,
   "id": "8151c8cc-3e40-4390-960a-9eaff35c9a4a",
   "metadata": {},
   "outputs": [
    {
     "data": {
      "text/plain": [
       "0    70\n",
       "1    70\n",
       "2    70\n",
       "Name: target, dtype: int64"
      ]
     },
     "execution_count": 4,
     "metadata": {},
     "output_type": "execute_result"
    }
   ],
   "source": [
    "df['target'].value_counts()"
   ]
  },
  {
   "cell_type": "code",
   "execution_count": 5,
   "id": "f4e891f1-1b23-4667-bab2-c4b96f1998b7",
   "metadata": {},
   "outputs": [
    {
     "name": "stdout",
     "output_type": "stream",
     "text": [
      "(210, 7)\n",
      "(210,)\n"
     ]
    }
   ],
   "source": [
    "X = df.drop(columns=['target'])\n",
    "y = df['target']\n",
    "\n",
    "print(X.shape)\n",
    "print(y.shape)"
   ]
  },
  {
   "cell_type": "code",
   "execution_count": 6,
   "id": "fd4e159a-c855-4840-99cd-114709cbfe5f",
   "metadata": {},
   "outputs": [
    {
     "name": "stdout",
     "output_type": "stream",
     "text": [
      "WARNING:tensorflow:From C:\\Users\\sampa\\anaconda3\\envs\\AI\\lib\\site-packages\\keras\\src\\losses.py:2976: The name tf.losses.sparse_softmax_cross_entropy is deprecated. Please use tf.compat.v1.losses.sparse_softmax_cross_entropy instead.\n",
      "\n"
     ]
    }
   ],
   "source": [
    "from tensorflow.keras.utils import to_categorical\n",
    "\n",
    "y = to_categorical(y, num_classes=3)"
   ]
  },
  {
   "cell_type": "code",
   "execution_count": 7,
   "id": "f0775637-b6e1-4883-8d5b-dbf1e66499ba",
   "metadata": {},
   "outputs": [
    {
     "name": "stdout",
     "output_type": "stream",
     "text": [
      "훈련 데이터 크기: (168, 7)\n",
      "테스트 데이터 크기: (42, 7)\n"
     ]
    }
   ],
   "source": [
    "from sklearn.model_selection import train_test_split\n",
    "\n",
    "X_train, X_test, y_train, y_test = train_test_split(X, y, test_size=0.2, stratify=y, random_state=42)\n",
    "\n",
    "print(\"훈련 데이터 크기:\", X_train.shape)\n",
    "print(\"테스트 데이터 크기:\", X_test.shape)"
   ]
  },
  {
   "cell_type": "code",
   "execution_count": 8,
   "id": "d8cc3ea0-d57e-49b0-a059-59e32983385a",
   "metadata": {},
   "outputs": [
    {
     "name": "stdout",
     "output_type": "stream",
     "text": [
      "최종 훈련 데이터 크기: (134, 7)\n",
      "검증 데이터 크기: (34, 7)\n",
      "테스트 데이터 크기: (42, 7)\n"
     ]
    }
   ],
   "source": [
    "X_train, X_val, y_train, y_val = train_test_split(X_train, y_train, test_size=0.2, stratify=y_train, random_state=42)\n",
    "\n",
    "print(\"최종 훈련 데이터 크기:\", X_train.shape)\n",
    "print(\"검증 데이터 크기:\", X_val.shape)\n",
    "print(\"테스트 데이터 크기:\", X_test.shape)"
   ]
  },
  {
   "cell_type": "code",
   "execution_count": 9,
   "id": "6b1e1fde-a5d3-49ee-b6e4-6265505abc2c",
   "metadata": {},
   "outputs": [],
   "source": [
    "from sklearn.preprocessing import StandardScaler\n",
    "\n",
    "scaler = StandardScaler()\n",
    "X_train = scaler.fit_transform(X_train)  # 학습 데이터 기준으로 스케일링\n",
    "X_val = scaler.transform(X_val)  # 검증 데이터 변환\n",
    "X_test = scaler.transform(X_test)  # 테스트 데이터 변환"
   ]
  },
  {
   "cell_type": "code",
   "execution_count": 10,
   "id": "2644ca39-21af-4556-83e5-57dfb2d4620a",
   "metadata": {},
   "outputs": [
    {
     "name": "stdout",
     "output_type": "stream",
     "text": [
      "WARNING:tensorflow:From C:\\Users\\sampa\\anaconda3\\envs\\AI\\lib\\site-packages\\keras\\src\\backend.py:1398: The name tf.executing_eagerly_outside_functions is deprecated. Please use tf.compat.v1.executing_eagerly_outside_functions instead.\n",
      "\n"
     ]
    }
   ],
   "source": [
    "import tensorflow as tf\n",
    "from tensorflow.keras.layers import Input, Dense\n",
    "from tensorflow.keras.models import Model\n",
    "\n",
    "inputs = Input(shape=(7, ))\n",
    "x = Dense(32, activation='relu')(inputs)\n",
    "x = Dense(16, activation='relu')(x)\n",
    "prediction = Dense(3, activation='softmax')(x)\n",
    "\n",
    "model = Model(inputs=inputs, outputs=prediction)"
   ]
  },
  {
   "cell_type": "code",
   "execution_count": 14,
   "id": "d7707963-9b96-4b4d-bb81-59af30ff25c8",
   "metadata": {},
   "outputs": [
    {
     "name": "stdout",
     "output_type": "stream",
     "text": [
      "Model: \"model\"\n",
      "_________________________________________________________________\n",
      " Layer (type)                Output Shape              Param #   \n",
      "=================================================================\n",
      " input_1 (InputLayer)        [(None, 7)]               0         \n",
      "                                                                 \n",
      " dense (Dense)               (None, 32)                256       \n",
      "                                                                 \n",
      " dense_1 (Dense)             (None, 16)                528       \n",
      "                                                                 \n",
      " dense_2 (Dense)             (None, 3)                 51        \n",
      "                                                                 \n",
      "=================================================================\n",
      "Total params: 835 (3.26 KB)\n",
      "Trainable params: 835 (3.26 KB)\n",
      "Non-trainable params: 0 (0.00 Byte)\n",
      "_________________________________________________________________\n"
     ]
    }
   ],
   "source": [
    "model.compile(loss='categorical_crossentropy', optimizer='adam', metrics=['accuracy'])\n",
    "model.summary()"
   ]
  },
  {
   "cell_type": "code",
   "execution_count": 15,
   "id": "6c314d65-ea73-4b40-bc70-e76ac76c3b6b",
   "metadata": {
    "scrolled": true
   },
   "outputs": [
    {
     "name": "stdout",
     "output_type": "stream",
     "text": [
      "Epoch 1/150\n",
      "9/9 [==============================] - 1s 29ms/step - loss: 1.2184 - accuracy: 0.3358 - val_loss: 1.1651 - val_accuracy: 0.4412\n",
      "Epoch 2/150\n",
      "9/9 [==============================] - 0s 7ms/step - loss: 1.1001 - accuracy: 0.4478 - val_loss: 1.0587 - val_accuracy: 0.5882\n",
      "Epoch 3/150\n",
      "9/9 [==============================] - 0s 7ms/step - loss: 1.0089 - accuracy: 0.5224 - val_loss: 0.9726 - val_accuracy: 0.5882\n",
      "Epoch 4/150\n",
      "9/9 [==============================] - 0s 7ms/step - loss: 0.9290 - accuracy: 0.5672 - val_loss: 0.8999 - val_accuracy: 0.5882\n",
      "Epoch 5/150\n",
      "9/9 [==============================] - 0s 7ms/step - loss: 0.8618 - accuracy: 0.6716 - val_loss: 0.8316 - val_accuracy: 0.7059\n",
      "Epoch 6/150\n",
      "9/9 [==============================] - 0s 7ms/step - loss: 0.7974 - accuracy: 0.8507 - val_loss: 0.7656 - val_accuracy: 0.8529\n",
      "Epoch 7/150\n",
      "9/9 [==============================] - 0s 7ms/step - loss: 0.7357 - accuracy: 0.8955 - val_loss: 0.6999 - val_accuracy: 0.8529\n",
      "Epoch 8/150\n",
      "9/9 [==============================] - 0s 7ms/step - loss: 0.6774 - accuracy: 0.9030 - val_loss: 0.6355 - val_accuracy: 0.8824\n",
      "Epoch 9/150\n",
      "9/9 [==============================] - 0s 7ms/step - loss: 0.6177 - accuracy: 0.9104 - val_loss: 0.5753 - val_accuracy: 0.8824\n",
      "Epoch 10/150\n",
      "9/9 [==============================] - 0s 7ms/step - loss: 0.5634 - accuracy: 0.9030 - val_loss: 0.5161 - val_accuracy: 0.8824\n",
      "Epoch 11/150\n",
      "9/9 [==============================] - 0s 7ms/step - loss: 0.5067 - accuracy: 0.9104 - val_loss: 0.4635 - val_accuracy: 0.8824\n",
      "Epoch 12/150\n",
      "9/9 [==============================] - 0s 7ms/step - loss: 0.4583 - accuracy: 0.9104 - val_loss: 0.4186 - val_accuracy: 0.8824\n",
      "Epoch 13/150\n",
      "9/9 [==============================] - 0s 6ms/step - loss: 0.4144 - accuracy: 0.9104 - val_loss: 0.3821 - val_accuracy: 0.8824\n",
      "Epoch 14/150\n",
      "9/9 [==============================] - 0s 6ms/step - loss: 0.3780 - accuracy: 0.9104 - val_loss: 0.3500 - val_accuracy: 0.8824\n",
      "Epoch 15/150\n",
      "9/9 [==============================] - 0s 7ms/step - loss: 0.3483 - accuracy: 0.9030 - val_loss: 0.3272 - val_accuracy: 0.8824\n",
      "Epoch 16/150\n",
      "9/9 [==============================] - 0s 7ms/step - loss: 0.3249 - accuracy: 0.8955 - val_loss: 0.3090 - val_accuracy: 0.8824\n",
      "Epoch 17/150\n",
      "9/9 [==============================] - 0s 7ms/step - loss: 0.3054 - accuracy: 0.8955 - val_loss: 0.2964 - val_accuracy: 0.8824\n",
      "Epoch 18/150\n",
      "9/9 [==============================] - 0s 7ms/step - loss: 0.2911 - accuracy: 0.8955 - val_loss: 0.2845 - val_accuracy: 0.8824\n",
      "Epoch 19/150\n",
      "9/9 [==============================] - 0s 7ms/step - loss: 0.2778 - accuracy: 0.8955 - val_loss: 0.2780 - val_accuracy: 0.8824\n",
      "Epoch 20/150\n",
      "9/9 [==============================] - 0s 7ms/step - loss: 0.2676 - accuracy: 0.8955 - val_loss: 0.2681 - val_accuracy: 0.8824\n",
      "Epoch 21/150\n",
      "9/9 [==============================] - 0s 7ms/step - loss: 0.2574 - accuracy: 0.8955 - val_loss: 0.2597 - val_accuracy: 0.8824\n",
      "Epoch 22/150\n",
      "9/9 [==============================] - 0s 7ms/step - loss: 0.2494 - accuracy: 0.9030 - val_loss: 0.2515 - val_accuracy: 0.8824\n",
      "Epoch 23/150\n",
      "9/9 [==============================] - 0s 7ms/step - loss: 0.2433 - accuracy: 0.9030 - val_loss: 0.2472 - val_accuracy: 0.8824\n",
      "Epoch 24/150\n",
      "9/9 [==============================] - 0s 7ms/step - loss: 0.2364 - accuracy: 0.9030 - val_loss: 0.2429 - val_accuracy: 0.8824\n",
      "Epoch 25/150\n",
      "9/9 [==============================] - 0s 8ms/step - loss: 0.2319 - accuracy: 0.8955 - val_loss: 0.2406 - val_accuracy: 0.8824\n",
      "Epoch 26/150\n",
      "9/9 [==============================] - 0s 7ms/step - loss: 0.2236 - accuracy: 0.8955 - val_loss: 0.2319 - val_accuracy: 0.8824\n",
      "Epoch 27/150\n",
      "9/9 [==============================] - 0s 7ms/step - loss: 0.2196 - accuracy: 0.9104 - val_loss: 0.2285 - val_accuracy: 0.8824\n",
      "Epoch 28/150\n",
      "9/9 [==============================] - 0s 7ms/step - loss: 0.2147 - accuracy: 0.9104 - val_loss: 0.2268 - val_accuracy: 0.8824\n",
      "Epoch 29/150\n",
      "9/9 [==============================] - 0s 7ms/step - loss: 0.2098 - accuracy: 0.9104 - val_loss: 0.2238 - val_accuracy: 0.8824\n",
      "Epoch 30/150\n",
      "9/9 [==============================] - 0s 7ms/step - loss: 0.2054 - accuracy: 0.9104 - val_loss: 0.2212 - val_accuracy: 0.8824\n",
      "Epoch 31/150\n",
      "9/9 [==============================] - 0s 7ms/step - loss: 0.2018 - accuracy: 0.9104 - val_loss: 0.2195 - val_accuracy: 0.8824\n",
      "Epoch 32/150\n",
      "9/9 [==============================] - 0s 6ms/step - loss: 0.1980 - accuracy: 0.9030 - val_loss: 0.2144 - val_accuracy: 0.8824\n",
      "Epoch 33/150\n",
      "9/9 [==============================] - 0s 6ms/step - loss: 0.1949 - accuracy: 0.9030 - val_loss: 0.2102 - val_accuracy: 0.8824\n",
      "Epoch 34/150\n",
      "9/9 [==============================] - 0s 7ms/step - loss: 0.1924 - accuracy: 0.9030 - val_loss: 0.2071 - val_accuracy: 0.8824\n",
      "Epoch 35/150\n",
      "9/9 [==============================] - 0s 6ms/step - loss: 0.1885 - accuracy: 0.9030 - val_loss: 0.2091 - val_accuracy: 0.8824\n",
      "Epoch 36/150\n",
      "9/9 [==============================] - 0s 7ms/step - loss: 0.1859 - accuracy: 0.9030 - val_loss: 0.2064 - val_accuracy: 0.8824\n",
      "Epoch 37/150\n",
      "9/9 [==============================] - 0s 6ms/step - loss: 0.1822 - accuracy: 0.9030 - val_loss: 0.2017 - val_accuracy: 0.8824\n",
      "Epoch 38/150\n",
      "9/9 [==============================] - 0s 7ms/step - loss: 0.1792 - accuracy: 0.9030 - val_loss: 0.1995 - val_accuracy: 0.8824\n",
      "Epoch 39/150\n",
      "9/9 [==============================] - 0s 6ms/step - loss: 0.1766 - accuracy: 0.9104 - val_loss: 0.1963 - val_accuracy: 0.8824\n",
      "Epoch 40/150\n",
      "9/9 [==============================] - 0s 6ms/step - loss: 0.1753 - accuracy: 0.9179 - val_loss: 0.1919 - val_accuracy: 0.8824\n",
      "Epoch 41/150\n",
      "9/9 [==============================] - 0s 7ms/step - loss: 0.1724 - accuracy: 0.9254 - val_loss: 0.1901 - val_accuracy: 0.8824\n",
      "Epoch 42/150\n",
      "9/9 [==============================] - 0s 7ms/step - loss: 0.1702 - accuracy: 0.9254 - val_loss: 0.1941 - val_accuracy: 0.8824\n",
      "Epoch 43/150\n",
      "9/9 [==============================] - 0s 7ms/step - loss: 0.1678 - accuracy: 0.9254 - val_loss: 0.1905 - val_accuracy: 0.8824\n",
      "Epoch 44/150\n",
      "9/9 [==============================] - 0s 8ms/step - loss: 0.1644 - accuracy: 0.9254 - val_loss: 0.1893 - val_accuracy: 0.8824\n",
      "Epoch 45/150\n",
      "9/9 [==============================] - 0s 6ms/step - loss: 0.1634 - accuracy: 0.9254 - val_loss: 0.1883 - val_accuracy: 0.8824\n",
      "Epoch 46/150\n",
      "9/9 [==============================] - 0s 7ms/step - loss: 0.1596 - accuracy: 0.9254 - val_loss: 0.1854 - val_accuracy: 0.8824\n",
      "Epoch 47/150\n",
      "9/9 [==============================] - 0s 6ms/step - loss: 0.1569 - accuracy: 0.9328 - val_loss: 0.1811 - val_accuracy: 0.8824\n",
      "Epoch 48/150\n",
      "9/9 [==============================] - 0s 7ms/step - loss: 0.1550 - accuracy: 0.9328 - val_loss: 0.1771 - val_accuracy: 0.8824\n",
      "Epoch 49/150\n",
      "9/9 [==============================] - 0s 7ms/step - loss: 0.1540 - accuracy: 0.9328 - val_loss: 0.1721 - val_accuracy: 0.8824\n",
      "Epoch 50/150\n",
      "9/9 [==============================] - 0s 7ms/step - loss: 0.1513 - accuracy: 0.9328 - val_loss: 0.1720 - val_accuracy: 0.8824\n",
      "Epoch 51/150\n",
      "9/9 [==============================] - 0s 7ms/step - loss: 0.1493 - accuracy: 0.9328 - val_loss: 0.1705 - val_accuracy: 0.8824\n",
      "Epoch 52/150\n",
      "9/9 [==============================] - 0s 6ms/step - loss: 0.1460 - accuracy: 0.9328 - val_loss: 0.1735 - val_accuracy: 0.8824\n",
      "Epoch 53/150\n",
      "9/9 [==============================] - 0s 8ms/step - loss: 0.1457 - accuracy: 0.9254 - val_loss: 0.1724 - val_accuracy: 0.8824\n",
      "Epoch 54/150\n",
      "9/9 [==============================] - 0s 6ms/step - loss: 0.1441 - accuracy: 0.9403 - val_loss: 0.1696 - val_accuracy: 0.8824\n",
      "Epoch 55/150\n",
      "9/9 [==============================] - 0s 7ms/step - loss: 0.1413 - accuracy: 0.9328 - val_loss: 0.1633 - val_accuracy: 0.8824\n",
      "Epoch 56/150\n",
      "9/9 [==============================] - 0s 7ms/step - loss: 0.1374 - accuracy: 0.9403 - val_loss: 0.1618 - val_accuracy: 0.8824\n",
      "Epoch 57/150\n",
      "9/9 [==============================] - 0s 7ms/step - loss: 0.1360 - accuracy: 0.9403 - val_loss: 0.1603 - val_accuracy: 0.9118\n",
      "Epoch 58/150\n",
      "9/9 [==============================] - 0s 8ms/step - loss: 0.1349 - accuracy: 0.9403 - val_loss: 0.1535 - val_accuracy: 0.9118\n",
      "Epoch 59/150\n",
      "9/9 [==============================] - 0s 7ms/step - loss: 0.1335 - accuracy: 0.9403 - val_loss: 0.1526 - val_accuracy: 0.9118\n",
      "Epoch 60/150\n",
      "9/9 [==============================] - 0s 8ms/step - loss: 0.1308 - accuracy: 0.9403 - val_loss: 0.1504 - val_accuracy: 0.9118\n",
      "Epoch 61/150\n",
      "9/9 [==============================] - 0s 7ms/step - loss: 0.1294 - accuracy: 0.9403 - val_loss: 0.1469 - val_accuracy: 0.9118\n",
      "Epoch 62/150\n",
      "9/9 [==============================] - 0s 7ms/step - loss: 0.1263 - accuracy: 0.9403 - val_loss: 0.1483 - val_accuracy: 0.9118\n",
      "Epoch 63/150\n",
      "9/9 [==============================] - 0s 7ms/step - loss: 0.1254 - accuracy: 0.9403 - val_loss: 0.1472 - val_accuracy: 0.9118\n",
      "Epoch 64/150\n",
      "9/9 [==============================] - 0s 6ms/step - loss: 0.1240 - accuracy: 0.9403 - val_loss: 0.1445 - val_accuracy: 0.9118\n",
      "Epoch 65/150\n",
      "9/9 [==============================] - 0s 7ms/step - loss: 0.1215 - accuracy: 0.9403 - val_loss: 0.1408 - val_accuracy: 0.9118\n",
      "Epoch 66/150\n",
      "9/9 [==============================] - 0s 6ms/step - loss: 0.1201 - accuracy: 0.9478 - val_loss: 0.1411 - val_accuracy: 0.9118\n",
      "Epoch 67/150\n",
      "9/9 [==============================] - 0s 7ms/step - loss: 0.1197 - accuracy: 0.9552 - val_loss: 0.1383 - val_accuracy: 0.9118\n",
      "Epoch 68/150\n",
      "9/9 [==============================] - 0s 6ms/step - loss: 0.1172 - accuracy: 0.9552 - val_loss: 0.1380 - val_accuracy: 0.9118\n",
      "Epoch 69/150\n",
      "9/9 [==============================] - 0s 7ms/step - loss: 0.1149 - accuracy: 0.9627 - val_loss: 0.1362 - val_accuracy: 0.9118\n",
      "Epoch 70/150\n",
      "9/9 [==============================] - 0s 6ms/step - loss: 0.1135 - accuracy: 0.9627 - val_loss: 0.1324 - val_accuracy: 0.9118\n",
      "Epoch 71/150\n",
      "9/9 [==============================] - 0s 7ms/step - loss: 0.1119 - accuracy: 0.9552 - val_loss: 0.1280 - val_accuracy: 0.9412\n",
      "Epoch 72/150\n",
      "9/9 [==============================] - 0s 7ms/step - loss: 0.1106 - accuracy: 0.9552 - val_loss: 0.1287 - val_accuracy: 0.9118\n",
      "Epoch 73/150\n",
      "9/9 [==============================] - 0s 7ms/step - loss: 0.1099 - accuracy: 0.9627 - val_loss: 0.1248 - val_accuracy: 0.9412\n",
      "Epoch 74/150\n",
      "9/9 [==============================] - 0s 7ms/step - loss: 0.1073 - accuracy: 0.9552 - val_loss: 0.1248 - val_accuracy: 0.9412\n",
      "Epoch 75/150\n",
      "9/9 [==============================] - 0s 7ms/step - loss: 0.1065 - accuracy: 0.9552 - val_loss: 0.1258 - val_accuracy: 0.9118\n",
      "Epoch 76/150\n",
      "9/9 [==============================] - 0s 7ms/step - loss: 0.1036 - accuracy: 0.9627 - val_loss: 0.1213 - val_accuracy: 0.9412\n",
      "Epoch 77/150\n",
      "9/9 [==============================] - 0s 8ms/step - loss: 0.1041 - accuracy: 0.9627 - val_loss: 0.1179 - val_accuracy: 0.9706\n",
      "Epoch 78/150\n",
      "9/9 [==============================] - 0s 7ms/step - loss: 0.1035 - accuracy: 0.9552 - val_loss: 0.1189 - val_accuracy: 0.9706\n",
      "Epoch 79/150\n",
      "9/9 [==============================] - 0s 6ms/step - loss: 0.1034 - accuracy: 0.9627 - val_loss: 0.1225 - val_accuracy: 0.9118\n",
      "Epoch 80/150\n",
      "9/9 [==============================] - 0s 7ms/step - loss: 0.0990 - accuracy: 0.9627 - val_loss: 0.1206 - val_accuracy: 0.9118\n",
      "Epoch 81/150\n",
      "9/9 [==============================] - 0s 7ms/step - loss: 0.0982 - accuracy: 0.9701 - val_loss: 0.1192 - val_accuracy: 0.9118\n",
      "Epoch 82/150\n",
      "9/9 [==============================] - 0s 7ms/step - loss: 0.1000 - accuracy: 0.9627 - val_loss: 0.1108 - val_accuracy: 0.9706\n",
      "Epoch 83/150\n",
      "9/9 [==============================] - 0s 6ms/step - loss: 0.0960 - accuracy: 0.9701 - val_loss: 0.1114 - val_accuracy: 0.9706\n",
      "Epoch 84/150\n",
      "9/9 [==============================] - 0s 6ms/step - loss: 0.0942 - accuracy: 0.9627 - val_loss: 0.1113 - val_accuracy: 0.9706\n",
      "Epoch 85/150\n",
      "9/9 [==============================] - 0s 6ms/step - loss: 0.0919 - accuracy: 0.9776 - val_loss: 0.1125 - val_accuracy: 0.9412\n",
      "Epoch 86/150\n",
      "9/9 [==============================] - 0s 7ms/step - loss: 0.0925 - accuracy: 0.9701 - val_loss: 0.1086 - val_accuracy: 0.9706\n",
      "Epoch 87/150\n",
      "9/9 [==============================] - 0s 6ms/step - loss: 0.0906 - accuracy: 0.9701 - val_loss: 0.1083 - val_accuracy: 0.9706\n",
      "Epoch 88/150\n",
      "9/9 [==============================] - 0s 7ms/step - loss: 0.0899 - accuracy: 0.9627 - val_loss: 0.1073 - val_accuracy: 0.9706\n",
      "Epoch 89/150\n",
      "9/9 [==============================] - 0s 7ms/step - loss: 0.0895 - accuracy: 0.9701 - val_loss: 0.1039 - val_accuracy: 0.9706\n",
      "Epoch 90/150\n",
      "9/9 [==============================] - 0s 8ms/step - loss: 0.0866 - accuracy: 0.9776 - val_loss: 0.1043 - val_accuracy: 0.9706\n",
      "Epoch 91/150\n",
      "9/9 [==============================] - 0s 6ms/step - loss: 0.0868 - accuracy: 0.9701 - val_loss: 0.1077 - val_accuracy: 0.9412\n",
      "Epoch 92/150\n",
      "9/9 [==============================] - 0s 6ms/step - loss: 0.0850 - accuracy: 0.9701 - val_loss: 0.1039 - val_accuracy: 0.9412\n",
      "Epoch 93/150\n",
      "9/9 [==============================] - 0s 7ms/step - loss: 0.0830 - accuracy: 0.9776 - val_loss: 0.1014 - val_accuracy: 0.9706\n",
      "Epoch 94/150\n",
      "9/9 [==============================] - 0s 7ms/step - loss: 0.0824 - accuracy: 0.9776 - val_loss: 0.0990 - val_accuracy: 0.9706\n",
      "Epoch 95/150\n",
      "9/9 [==============================] - 0s 7ms/step - loss: 0.0816 - accuracy: 0.9776 - val_loss: 0.0995 - val_accuracy: 0.9706\n",
      "Epoch 96/150\n",
      "9/9 [==============================] - 0s 6ms/step - loss: 0.0802 - accuracy: 0.9776 - val_loss: 0.1005 - val_accuracy: 0.9706\n",
      "Epoch 97/150\n",
      "9/9 [==============================] - 0s 7ms/step - loss: 0.0789 - accuracy: 0.9776 - val_loss: 0.0983 - val_accuracy: 0.9706\n",
      "Epoch 98/150\n",
      "9/9 [==============================] - 0s 6ms/step - loss: 0.0787 - accuracy: 0.9925 - val_loss: 0.0967 - val_accuracy: 0.9706\n",
      "Epoch 99/150\n",
      "9/9 [==============================] - 0s 6ms/step - loss: 0.0776 - accuracy: 0.9851 - val_loss: 0.0991 - val_accuracy: 0.9706\n",
      "Epoch 100/150\n",
      "9/9 [==============================] - 0s 6ms/step - loss: 0.0763 - accuracy: 0.9701 - val_loss: 0.0972 - val_accuracy: 0.9706\n",
      "Epoch 101/150\n",
      "9/9 [==============================] - 0s 7ms/step - loss: 0.0757 - accuracy: 0.9776 - val_loss: 0.0949 - val_accuracy: 0.9706\n",
      "Epoch 102/150\n",
      "9/9 [==============================] - 0s 6ms/step - loss: 0.0749 - accuracy: 0.9851 - val_loss: 0.0955 - val_accuracy: 0.9706\n",
      "Epoch 103/150\n",
      "9/9 [==============================] - 0s 7ms/step - loss: 0.0744 - accuracy: 0.9701 - val_loss: 0.0945 - val_accuracy: 0.9706\n",
      "Epoch 104/150\n",
      "9/9 [==============================] - 0s 7ms/step - loss: 0.0723 - accuracy: 0.9851 - val_loss: 0.0916 - val_accuracy: 0.9706\n",
      "Epoch 105/150\n",
      "9/9 [==============================] - 0s 7ms/step - loss: 0.0729 - accuracy: 0.9925 - val_loss: 0.0906 - val_accuracy: 0.9706\n",
      "Epoch 106/150\n",
      "9/9 [==============================] - 0s 7ms/step - loss: 0.0710 - accuracy: 0.9925 - val_loss: 0.0933 - val_accuracy: 0.9706\n",
      "Epoch 107/150\n",
      "9/9 [==============================] - 0s 7ms/step - loss: 0.0704 - accuracy: 0.9851 - val_loss: 0.0898 - val_accuracy: 0.9706\n",
      "Epoch 108/150\n",
      "9/9 [==============================] - 0s 6ms/step - loss: 0.0708 - accuracy: 0.9776 - val_loss: 0.0913 - val_accuracy: 0.9706\n",
      "Epoch 109/150\n",
      "9/9 [==============================] - 0s 7ms/step - loss: 0.0685 - accuracy: 0.9851 - val_loss: 0.0877 - val_accuracy: 0.9706\n",
      "Epoch 110/150\n",
      "9/9 [==============================] - 0s 7ms/step - loss: 0.0673 - accuracy: 0.9925 - val_loss: 0.0865 - val_accuracy: 0.9706\n",
      "Epoch 111/150\n",
      "9/9 [==============================] - 0s 10ms/step - loss: 0.0668 - accuracy: 0.9925 - val_loss: 0.0860 - val_accuracy: 0.9706\n",
      "Epoch 112/150\n",
      "9/9 [==============================] - 0s 8ms/step - loss: 0.0656 - accuracy: 0.9851 - val_loss: 0.0908 - val_accuracy: 0.9412\n",
      "Epoch 113/150\n",
      "9/9 [==============================] - 0s 7ms/step - loss: 0.0665 - accuracy: 0.9776 - val_loss: 0.0897 - val_accuracy: 0.9412\n",
      "Epoch 114/150\n",
      "9/9 [==============================] - 0s 6ms/step - loss: 0.0662 - accuracy: 0.9776 - val_loss: 0.0882 - val_accuracy: 0.9412\n",
      "Epoch 115/150\n",
      "9/9 [==============================] - 0s 7ms/step - loss: 0.0669 - accuracy: 0.9776 - val_loss: 0.0898 - val_accuracy: 0.9412\n",
      "Epoch 116/150\n",
      "9/9 [==============================] - 0s 6ms/step - loss: 0.0657 - accuracy: 0.9776 - val_loss: 0.0851 - val_accuracy: 0.9706\n",
      "Epoch 117/150\n",
      "9/9 [==============================] - 0s 7ms/step - loss: 0.0627 - accuracy: 0.9851 - val_loss: 0.0816 - val_accuracy: 0.9706\n",
      "Epoch 118/150\n",
      "9/9 [==============================] - 0s 6ms/step - loss: 0.0619 - accuracy: 0.9925 - val_loss: 0.0824 - val_accuracy: 0.9706\n",
      "Epoch 119/150\n",
      "9/9 [==============================] - 0s 6ms/step - loss: 0.0602 - accuracy: 0.9851 - val_loss: 0.0881 - val_accuracy: 0.9412\n",
      "Epoch 120/150\n",
      "9/9 [==============================] - 0s 7ms/step - loss: 0.0623 - accuracy: 0.9776 - val_loss: 0.0842 - val_accuracy: 0.9412\n",
      "Epoch 121/150\n",
      "9/9 [==============================] - 0s 7ms/step - loss: 0.0601 - accuracy: 0.9851 - val_loss: 0.0821 - val_accuracy: 0.9706\n",
      "Epoch 122/150\n",
      "9/9 [==============================] - 0s 7ms/step - loss: 0.0598 - accuracy: 0.9851 - val_loss: 0.0833 - val_accuracy: 0.9706\n",
      "Epoch 123/150\n",
      "9/9 [==============================] - 0s 7ms/step - loss: 0.0582 - accuracy: 0.9925 - val_loss: 0.0771 - val_accuracy: 0.9706\n",
      "Epoch 124/150\n",
      "9/9 [==============================] - 0s 7ms/step - loss: 0.0583 - accuracy: 0.9925 - val_loss: 0.0757 - val_accuracy: 0.9706\n",
      "Epoch 125/150\n",
      "9/9 [==============================] - 0s 7ms/step - loss: 0.0573 - accuracy: 0.9925 - val_loss: 0.0783 - val_accuracy: 0.9706\n",
      "Epoch 126/150\n",
      "9/9 [==============================] - 0s 7ms/step - loss: 0.0566 - accuracy: 0.9851 - val_loss: 0.0786 - val_accuracy: 0.9706\n",
      "Epoch 127/150\n",
      "9/9 [==============================] - 0s 7ms/step - loss: 0.0562 - accuracy: 0.9925 - val_loss: 0.0798 - val_accuracy: 0.9706\n",
      "Epoch 128/150\n",
      "9/9 [==============================] - 0s 7ms/step - loss: 0.0550 - accuracy: 0.9925 - val_loss: 0.0784 - val_accuracy: 0.9706\n",
      "Epoch 129/150\n",
      "9/9 [==============================] - 0s 7ms/step - loss: 0.0544 - accuracy: 0.9851 - val_loss: 0.0786 - val_accuracy: 0.9706\n",
      "Epoch 130/150\n",
      "9/9 [==============================] - 0s 7ms/step - loss: 0.0547 - accuracy: 0.9925 - val_loss: 0.0776 - val_accuracy: 0.9706\n",
      "Epoch 131/150\n",
      "9/9 [==============================] - 0s 7ms/step - loss: 0.0533 - accuracy: 0.9925 - val_loss: 0.0793 - val_accuracy: 0.9706\n",
      "Epoch 132/150\n",
      "9/9 [==============================] - 0s 7ms/step - loss: 0.0532 - accuracy: 0.9851 - val_loss: 0.0788 - val_accuracy: 0.9706\n",
      "Epoch 133/150\n",
      "9/9 [==============================] - 0s 7ms/step - loss: 0.0520 - accuracy: 0.9925 - val_loss: 0.0795 - val_accuracy: 0.9706\n",
      "Epoch 134/150\n",
      "9/9 [==============================] - 0s 8ms/step - loss: 0.0520 - accuracy: 0.9851 - val_loss: 0.0790 - val_accuracy: 0.9706\n",
      "Epoch 135/150\n",
      "9/9 [==============================] - 0s 7ms/step - loss: 0.0513 - accuracy: 0.9851 - val_loss: 0.0768 - val_accuracy: 0.9706\n",
      "Epoch 136/150\n",
      "9/9 [==============================] - 0s 7ms/step - loss: 0.0508 - accuracy: 0.9925 - val_loss: 0.0752 - val_accuracy: 0.9706\n",
      "Epoch 137/150\n",
      "9/9 [==============================] - 0s 7ms/step - loss: 0.0507 - accuracy: 0.9925 - val_loss: 0.0753 - val_accuracy: 0.9706\n",
      "Epoch 138/150\n",
      "9/9 [==============================] - 0s 7ms/step - loss: 0.0500 - accuracy: 0.9925 - val_loss: 0.0754 - val_accuracy: 0.9706\n",
      "Epoch 139/150\n",
      "9/9 [==============================] - 0s 7ms/step - loss: 0.0533 - accuracy: 0.9851 - val_loss: 0.0774 - val_accuracy: 0.9706\n",
      "Epoch 140/150\n",
      "9/9 [==============================] - 0s 7ms/step - loss: 0.0539 - accuracy: 0.9925 - val_loss: 0.0731 - val_accuracy: 0.9706\n",
      "Epoch 141/150\n",
      "9/9 [==============================] - 0s 7ms/step - loss: 0.0524 - accuracy: 0.9925 - val_loss: 0.0743 - val_accuracy: 0.9706\n",
      "Epoch 142/150\n",
      "9/9 [==============================] - 0s 6ms/step - loss: 0.0469 - accuracy: 0.9925 - val_loss: 0.0809 - val_accuracy: 0.9412\n",
      "Epoch 143/150\n",
      "9/9 [==============================] - 0s 7ms/step - loss: 0.0494 - accuracy: 0.9851 - val_loss: 0.0895 - val_accuracy: 0.9412\n",
      "Epoch 144/150\n",
      "9/9 [==============================] - 0s 8ms/step - loss: 0.0499 - accuracy: 0.9776 - val_loss: 0.0818 - val_accuracy: 0.9412\n",
      "Epoch 145/150\n",
      "9/9 [==============================] - 0s 8ms/step - loss: 0.0462 - accuracy: 0.9851 - val_loss: 0.0701 - val_accuracy: 0.9706\n",
      "Epoch 146/150\n",
      "9/9 [==============================] - 0s 7ms/step - loss: 0.0475 - accuracy: 0.9925 - val_loss: 0.0678 - val_accuracy: 0.9706\n",
      "Epoch 147/150\n",
      "9/9 [==============================] - 0s 6ms/step - loss: 0.0456 - accuracy: 0.9925 - val_loss: 0.0695 - val_accuracy: 0.9706\n",
      "Epoch 148/150\n",
      "9/9 [==============================] - 0s 7ms/step - loss: 0.0461 - accuracy: 0.9851 - val_loss: 0.0743 - val_accuracy: 0.9706\n",
      "Epoch 149/150\n",
      "9/9 [==============================] - 0s 6ms/step - loss: 0.0454 - accuracy: 0.9851 - val_loss: 0.0707 - val_accuracy: 0.9706\n",
      "Epoch 150/150\n",
      "9/9 [==============================] - 0s 7ms/step - loss: 0.0445 - accuracy: 0.9925 - val_loss: 0.0702 - val_accuracy: 0.9706\n"
     ]
    }
   ],
   "source": [
    "history = model.fit(X_train, y_train, epochs=150, batch_size=16, validation_data=(X_val, y_val))"
   ]
  },
  {
   "cell_type": "code",
   "execution_count": 16,
   "id": "e64ab443-7434-44f3-9c77-e3c0a7f8933d",
   "metadata": {},
   "outputs": [
    {
     "data": {
      "image/png": "[encoded data removed]",
      "text/plain": [
       "<Figure size 640x480 with 1 Axes>"
      ]
     },
     "metadata": {},
     "output_type": "display_data"
    }
   ],
   "source": [
    "import matplotlib.pyplot as plt\n",
    "\n",
    "plt.plot(history.history['accuracy'], label='Train Accuracy')\n",
    "plt.plot(history.history['val_accuracy'], label='Validation Accuracy')\n",
    "plt.xlabel('Epoch')\n",
    "plt.ylabel('Accuracy')\n",
    "plt.legend()\n",
    "plt.show()"
   ]
  },
  {
   "cell_type": "code",
   "execution_count": 17,
   "id": "bb99a034-d819-43e0-a484-370ad82a6d92",
   "metadata": {},
   "outputs": [
    {
     "data": {
      "image/png": "[encoded data removed]",
      "text/plain": [
       "<Figure size 640x480 with 1 Axes>"
      ]
     },
     "metadata": {},
     "output_type": "display_data"
    }
   ],
   "source": [
    "plt.plot(history.history['loss'], label='Train loss')\n",
    "plt.plot(history.history['val_loss'], label='Validation Loss')\n",
    "plt.xlabel('Epoch')\n",
    "plt.ylabel('Loss')\n",
    "plt.legend()\n",
    "plt.show()"
   ]
  },
  {
   "cell_type": "code",
   "execution_count": 18,
   "id": "cfb0551e-df02-4a79-9d7b-287d9888a007",
   "metadata": {},
   "outputs": [
    {
     "name": "stdout",
     "output_type": "stream",
     "text": [
      "2/2 [==============================] - 0s 8ms/step - loss: 0.1008 - accuracy: 0.9286\n"
     ]
    },
    {
     "data": {
      "text/plain": [
       "[0.10075134038925171, 0.9285714030265808]"
      ]
     },
     "execution_count": 18,
     "metadata": {},
     "output_type": "execute_result"
    }
   ],
   "source": [
    "model.evaluate(X_test, y_test)"
   ]
  },
  {
   "cell_type": "code",
   "execution_count": null,
   "id": "0f63400d-d32e-411a-b47e-2064308be75d",
   "metadata": {},
   "outputs": [],
   "source": []
  }
 ],
 "metadata": {
  "kernelspec": {
   "display_name": "Python 3 (ipykernel)",
   "language": "python",
   "name": "python3"
  },
  "language_info": {
   "codemirror_mode": {
    "name": "ipython",
    "version": 3
   },
   "file_extension": ".py",
   "mimetype": "text/x-python",
   "name": "python",
   "nbconvert_exporter": "python",
   "pygments_lexer": "ipython3",
   "version": "3.10.16"
  }
 },
 "nbformat": 4,
 "nbformat_minor": 5
}
