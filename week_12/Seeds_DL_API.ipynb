{
 "cells": [
  {
   "cell_type": "code",
   "execution_count": 1,
   "id": "d9bdea3a-17d1-429f-9f0e-5faedf8c12f4",
   "metadata": {},
   "outputs": [
    {
     "data": {
      "text/html": [
       "<div>\n",
       "<style scoped>\n",
       "    .dataframe tbody tr th:only-of-type {\n",
       "        vertical-align: middle;\n",
       "    }\n",
       "\n",
       "    .dataframe tbody tr th {\n",
       "        vertical-align: top;\n",
       "    }\n",
       "\n",
       "    .dataframe thead th {\n",
       "        text-align: right;\n",
       "    }\n",
       "</style>\n",
       "<table border=\"1\" class=\"dataframe\">\n",
       "  <thead>\n",
       "    <tr style=\"text-align: right;\">\n",
       "      <th></th>\n",
       "      <th>0</th>\n",
       "      <th>1</th>\n",
       "      <th>2</th>\n",
       "      <th>3</th>\n",
       "      <th>4</th>\n",
       "      <th>5</th>\n",
       "      <th>6</th>\n",
       "      <th>7</th>\n",
       "    </tr>\n",
       "  </thead>\n",
       "  <tbody>\n",
       "    <tr>\n",
       "      <th>0</th>\n",
       "      <td>15.26</td>\n",
       "      <td>14.84</td>\n",
       "      <td>0.8710</td>\n",
       "      <td>5.763</td>\n",
       "      <td>3.312</td>\n",
       "      <td>2.221</td>\n",
       "      <td>5.220</td>\n",
       "      <td>1</td>\n",
       "    </tr>\n",
       "    <tr>\n",
       "      <th>1</th>\n",
       "      <td>14.88</td>\n",
       "      <td>14.57</td>\n",
       "      <td>0.8811</td>\n",
       "      <td>5.554</td>\n",
       "      <td>3.333</td>\n",
       "      <td>1.018</td>\n",
       "      <td>4.956</td>\n",
       "      <td>1</td>\n",
       "    </tr>\n",
       "    <tr>\n",
       "      <th>2</th>\n",
       "      <td>14.29</td>\n",
       "      <td>14.09</td>\n",
       "      <td>0.9050</td>\n",
       "      <td>5.291</td>\n",
       "      <td>3.337</td>\n",
       "      <td>2.699</td>\n",
       "      <td>4.825</td>\n",
       "      <td>1</td>\n",
       "    </tr>\n",
       "    <tr>\n",
       "      <th>3</th>\n",
       "      <td>13.84</td>\n",
       "      <td>13.94</td>\n",
       "      <td>0.8955</td>\n",
       "      <td>5.324</td>\n",
       "      <td>3.379</td>\n",
       "      <td>2.259</td>\n",
       "      <td>4.805</td>\n",
       "      <td>1</td>\n",
       "    </tr>\n",
       "    <tr>\n",
       "      <th>4</th>\n",
       "      <td>16.14</td>\n",
       "      <td>14.99</td>\n",
       "      <td>0.9034</td>\n",
       "      <td>5.658</td>\n",
       "      <td>3.562</td>\n",
       "      <td>1.355</td>\n",
       "      <td>5.175</td>\n",
       "      <td>1</td>\n",
       "    </tr>\n",
       "  </tbody>\n",
       "</table>\n",
       "</div>"
      ],
      "text/plain": [
       "       0      1       2      3      4      5      6  7\n",
       "0  15.26  14.84  0.8710  5.763  3.312  2.221  5.220  1\n",
       "1  14.88  14.57  0.8811  5.554  3.333  1.018  4.956  1\n",
       "2  14.29  14.09  0.9050  5.291  3.337  2.699  4.825  1\n",
       "3  13.84  13.94  0.8955  5.324  3.379  2.259  4.805  1\n",
       "4  16.14  14.99  0.9034  5.658  3.562  1.355  5.175  1"
      ]
     },
     "execution_count": 1,
     "metadata": {},
     "output_type": "execute_result"
    }
   ],
   "source": [
    "import pandas as pd\n",
    "df = pd.read_csv(\"C://Users/sampa/ai_class/data_files/seeds.csv\", delimiter=r\"\\s+\", header=None)\n",
    "df.head()"
   ]
  },
  {
   "cell_type": "code",
   "execution_count": 2,
   "id": "db5d5a92-3c8e-4849-98c2-949008935d39",
   "metadata": {},
   "outputs": [
    {
     "data": {
      "text/plain": [
       "0    0\n",
       "1    0\n",
       "2    0\n",
       "3    0\n",
       "4    0\n",
       "5    0\n",
       "6    0\n",
       "7    0\n",
       "dtype: int64"
      ]
     },
     "execution_count": 2,
     "metadata": {},
     "output_type": "execute_result"
    }
   ],
   "source": [
    "df.isna().sum()"
   ]
  },
  {
   "cell_type": "code",
   "execution_count": 3,
   "id": "2c70f7d2-ca80-47fe-b931-58d222666fca",
   "metadata": {},
   "outputs": [
    {
     "data": {
      "text/plain": [
       "1    70\n",
       "2    70\n",
       "3    70\n",
       "Name: 7, dtype: int64"
      ]
     },
     "execution_count": 3,
     "metadata": {},
     "output_type": "execute_result"
    }
   ],
   "source": [
    "df[7].value_counts()"
   ]
  },
  {
   "cell_type": "code",
   "execution_count": 4,
   "id": "02ca57c2-510c-4d46-9165-b789f832c1de",
   "metadata": {},
   "outputs": [
    {
     "name": "stdout",
     "output_type": "stream",
     "text": [
      "<class 'pandas.core.frame.DataFrame'>\n",
      "RangeIndex: 210 entries, 0 to 209\n",
      "Data columns (total 8 columns):\n",
      " #   Column  Non-Null Count  Dtype  \n",
      "---  ------  --------------  -----  \n",
      " 0   0       210 non-null    float64\n",
      " 1   1       210 non-null    float64\n",
      " 2   2       210 non-null    float64\n",
      " 3   3       210 non-null    float64\n",
      " 4   4       210 non-null    float64\n",
      " 5   5       210 non-null    float64\n",
      " 6   6       210 non-null    float64\n",
      " 7   7       210 non-null    int64  \n",
      "dtypes: float64(7), int64(1)\n",
      "memory usage: 13.2 KB\n"
     ]
    }
   ],
   "source": [
    "df.info()"
   ]
  },
  {
   "cell_type": "code",
   "execution_count": 5,
   "id": "5bd59dc1-61a1-478b-b305-741a3e101f6a",
   "metadata": {},
   "outputs": [],
   "source": [
    "X = df.drop(columns=[7])\n",
    "y = df[7]"
   ]
  },
  {
   "cell_type": "code",
   "execution_count": 6,
   "id": "8fed5810-7a42-4940-b219-47b69584794a",
   "metadata": {},
   "outputs": [
    {
     "name": "stdout",
     "output_type": "stream",
     "text": [
      "(210, 7)\n",
      "(210,)\n"
     ]
    }
   ],
   "source": [
    "print(X.shape)\n",
    "print(y.shape)"
   ]
  },
  {
   "cell_type": "code",
   "execution_count": 7,
   "id": "a746e962-f60d-4ade-b518-3ede8dbe888d",
   "metadata": {},
   "outputs": [
    {
     "name": "stdout",
     "output_type": "stream",
     "text": [
      "훈련 데이터 크기: (168, 7)\n",
      "테스트 데이터 크기: (42, 7)\n"
     ]
    }
   ],
   "source": [
    "from sklearn.model_selection import train_test_split\n",
    "\n",
    "X_train, X_test, y_train, y_test = train_test_split(X, y, test_size=0.2, stratify=y, random_state=42)\n",
    "\n",
    "print(\"훈련 데이터 크기:\", X_train.shape)\n",
    "print(\"테스트 데이터 크기:\", X_test.shape)"
   ]
  },
  {
   "cell_type": "code",
   "execution_count": 8,
   "id": "aa397de0-da81-4f33-a526-037326606791",
   "metadata": {},
   "outputs": [
    {
     "name": "stdout",
     "output_type": "stream",
     "text": [
      "최종 훈련 데이터 크기: (134, 7)\n",
      "검증 데이터 크기: (34, 7)\n",
      "테스트 데이터 크기: (42, 7)\n"
     ]
    }
   ],
   "source": [
    "X_train, X_val, y_train, y_val = train_test_split(X_train, y_train, test_size=0.2, stratify=y_train, random_state=42)\n",
    "\n",
    "print(\"최종 훈련 데이터 크기:\", X_train.shape)\n",
    "print(\"검증 데이터 크기:\", X_val.shape)\n",
    "print(\"테스트 데이터 크기:\", X_test.shape)"
   ]
  },
  {
   "cell_type": "code",
   "execution_count": 9,
   "id": "755bbb9a-3769-4f8a-b3d0-a41dbc5103ce",
   "metadata": {},
   "outputs": [],
   "source": [
    "y_train = y_train - 1\n",
    "y_val = y_val - 1"
   ]
  },
  {
   "cell_type": "code",
   "execution_count": 10,
   "id": "0d86bd2a-3406-450e-a5a4-fed8cf297f09",
   "metadata": {},
   "outputs": [],
   "source": [
    "from sklearn.preprocessing import StandardScaler\n",
    "\n",
    "scaler = StandardScaler()\n",
    "X_train = scaler.fit_transform(X_train)  # 학습 데이터 기준으로 스케일링\n",
    "X_val = scaler.transform(X_val)  # 검증 데이터 변환\n",
    "X_test = scaler.transform(X_test)  # 테스트 데이터 변환"
   ]
  },
  {
   "cell_type": "code",
   "execution_count": 11,
   "id": "d6b449aa-6cd3-4272-a290-5cda514e4bbe",
   "metadata": {},
   "outputs": [
    {
     "name": "stdout",
     "output_type": "stream",
     "text": [
      "WARNING:tensorflow:From C:\\Users\\sampa\\anaconda3\\envs\\AI\\lib\\site-packages\\keras\\src\\losses.py:2976: The name tf.losses.sparse_softmax_cross_entropy is deprecated. Please use tf.compat.v1.losses.sparse_softmax_cross_entropy instead.\n",
      "\n",
      "WARNING:tensorflow:From C:\\Users\\sampa\\anaconda3\\envs\\AI\\lib\\site-packages\\keras\\src\\backend.py:1398: The name tf.executing_eagerly_outside_functions is deprecated. Please use tf.compat.v1.executing_eagerly_outside_functions instead.\n",
      "\n"
     ]
    }
   ],
   "source": [
    "# 모델 생성 \n",
    "import tensorflow as tf\n",
    "from tensorflow.keras.layers import Input, Dense\n",
    "from tensorflow.keras.models import Model\n",
    "\n",
    "inputs = Input(shape=(7, ))\n",
    "x = Dense(32, activation='relu')(inputs)\n",
    "x = Dense(16, activation='relu')(x)\n",
    "prediction = Dense(3, activation='softmax')(x)\n",
    "\n",
    "model = Model(inputs=inputs, outputs=prediction)"
   ]
  },
  {
   "cell_type": "code",
   "execution_count": 12,
   "id": "36eedf1b-f95e-4e33-a607-3948dbf6c8da",
   "metadata": {},
   "outputs": [
    {
     "name": "stdout",
     "output_type": "stream",
     "text": [
      "WARNING:tensorflow:From C:\\Users\\sampa\\anaconda3\\envs\\AI\\lib\\site-packages\\keras\\src\\optimizers\\__init__.py:309: The name tf.train.Optimizer is deprecated. Please use tf.compat.v1.train.Optimizer instead.\n",
      "\n",
      "Model: \"model\"\n",
      "_________________________________________________________________\n",
      " Layer (type)                Output Shape              Param #   \n",
      "=================================================================\n",
      " input_1 (InputLayer)        [(None, 7)]               0         \n",
      "                                                                 \n",
      " dense (Dense)               (None, 32)                256       \n",
      "                                                                 \n",
      " dense_1 (Dense)             (None, 16)                528       \n",
      "                                                                 \n",
      " dense_2 (Dense)             (None, 3)                 51        \n",
      "                                                                 \n",
      "=================================================================\n",
      "Total params: 835 (3.26 KB)\n",
      "Trainable params: 835 (3.26 KB)\n",
      "Non-trainable params: 0 (0.00 Byte)\n",
      "_________________________________________________________________\n"
     ]
    }
   ],
   "source": [
    "# compile\n",
    "model.compile(loss='sparse_categorical_crossentropy', optimizer='adam', metrics=['accuracy'])\n",
    "model.summary()"
   ]
  },
  {
   "cell_type": "code",
   "execution_count": 13,
   "id": "2211bdb0-caeb-4c8f-ad91-863668b41c6a",
   "metadata": {},
   "outputs": [
    {
     "name": "stdout",
     "output_type": "stream",
     "text": [
      "Epoch 1/150\n",
      "WARNING:tensorflow:From C:\\Users\\sampa\\anaconda3\\envs\\AI\\lib\\site-packages\\keras\\src\\utils\\tf_utils.py:492: The name tf.ragged.RaggedTensorValue is deprecated. Please use tf.compat.v1.ragged.RaggedTensorValue instead.\n",
      "\n",
      "WARNING:tensorflow:From C:\\Users\\sampa\\anaconda3\\envs\\AI\\lib\\site-packages\\keras\\src\\engine\\base_layer_utils.py:384: The name tf.executing_eagerly_outside_functions is deprecated. Please use tf.compat.v1.executing_eagerly_outside_functions instead.\n",
      "\n",
      "9/9 [==============================] - 1s 42ms/step - loss: 0.9746 - accuracy: 0.4925 - val_loss: 0.8931 - val_accuracy: 0.6176\n",
      "Epoch 2/150\n",
      "9/9 [==============================] - 0s 7ms/step - loss: 0.8481 - accuracy: 0.6866 - val_loss: 0.7796 - val_accuracy: 0.7059\n",
      "Epoch 3/150\n",
      "9/9 [==============================] - 0s 7ms/step - loss: 0.7470 - accuracy: 0.7836 - val_loss: 0.6912 - val_accuracy: 0.7647\n",
      "Epoch 4/150\n",
      "9/9 [==============================] - 0s 7ms/step - loss: 0.6653 - accuracy: 0.8060 - val_loss: 0.6255 - val_accuracy: 0.7647\n",
      "Epoch 5/150\n",
      "9/9 [==============================] - 0s 7ms/step - loss: 0.5957 - accuracy: 0.8209 - val_loss: 0.5724 - val_accuracy: 0.7941\n",
      "Epoch 6/150\n",
      "9/9 [==============================] - 0s 7ms/step - loss: 0.5350 - accuracy: 0.8582 - val_loss: 0.5255 - val_accuracy: 0.7941\n",
      "Epoch 7/150\n",
      "9/9 [==============================] - 0s 7ms/step - loss: 0.4831 - accuracy: 0.8881 - val_loss: 0.4861 - val_accuracy: 0.8529\n",
      "Epoch 8/150\n",
      "9/9 [==============================] - 0s 5ms/step - loss: 0.4392 - accuracy: 0.9030 - val_loss: 0.4515 - val_accuracy: 0.8529\n",
      "Epoch 9/150\n",
      "9/9 [==============================] - 0s 7ms/step - loss: 0.3985 - accuracy: 0.9104 - val_loss: 0.4214 - val_accuracy: 0.8529\n",
      "Epoch 10/150\n",
      "9/9 [==============================] - 0s 7ms/step - loss: 0.3645 - accuracy: 0.9254 - val_loss: 0.3993 - val_accuracy: 0.8529\n",
      "Epoch 11/150\n",
      "9/9 [==============================] - 0s 7ms/step - loss: 0.3359 - accuracy: 0.9179 - val_loss: 0.3779 - val_accuracy: 0.8529\n",
      "Epoch 12/150\n",
      "9/9 [==============================] - 0s 7ms/step - loss: 0.3095 - accuracy: 0.9254 - val_loss: 0.3612 - val_accuracy: 0.8824\n",
      "Epoch 13/150\n",
      "9/9 [==============================] - 0s 6ms/step - loss: 0.2883 - accuracy: 0.9254 - val_loss: 0.3480 - val_accuracy: 0.8824\n",
      "Epoch 14/150\n",
      "9/9 [==============================] - 0s 7ms/step - loss: 0.2694 - accuracy: 0.9254 - val_loss: 0.3350 - val_accuracy: 0.8824\n",
      "Epoch 15/150\n",
      "9/9 [==============================] - 0s 7ms/step - loss: 0.2528 - accuracy: 0.9254 - val_loss: 0.3241 - val_accuracy: 0.8824\n",
      "Epoch 16/150\n",
      "9/9 [==============================] - 0s 7ms/step - loss: 0.2394 - accuracy: 0.9254 - val_loss: 0.3144 - val_accuracy: 0.8824\n",
      "Epoch 17/150\n",
      "9/9 [==============================] - 0s 6ms/step - loss: 0.2264 - accuracy: 0.9403 - val_loss: 0.3074 - val_accuracy: 0.8824\n",
      "Epoch 18/150\n",
      "9/9 [==============================] - 0s 6ms/step - loss: 0.2163 - accuracy: 0.9403 - val_loss: 0.3004 - val_accuracy: 0.8824\n",
      "Epoch 19/150\n",
      "9/9 [==============================] - 0s 6ms/step - loss: 0.2066 - accuracy: 0.9403 - val_loss: 0.2942 - val_accuracy: 0.8824\n",
      "Epoch 20/150\n",
      "9/9 [==============================] - 0s 6ms/step - loss: 0.1972 - accuracy: 0.9403 - val_loss: 0.2916 - val_accuracy: 0.8824\n",
      "Epoch 21/150\n",
      "9/9 [==============================] - 0s 6ms/step - loss: 0.1900 - accuracy: 0.9403 - val_loss: 0.2860 - val_accuracy: 0.8824\n",
      "Epoch 22/150\n",
      "9/9 [==============================] - 0s 6ms/step - loss: 0.1833 - accuracy: 0.9478 - val_loss: 0.2818 - val_accuracy: 0.8824\n",
      "Epoch 23/150\n",
      "9/9 [==============================] - 0s 6ms/step - loss: 0.1764 - accuracy: 0.9478 - val_loss: 0.2846 - val_accuracy: 0.8824\n",
      "Epoch 24/150\n",
      "9/9 [==============================] - 0s 7ms/step - loss: 0.1709 - accuracy: 0.9478 - val_loss: 0.2811 - val_accuracy: 0.8824\n",
      "Epoch 25/150\n",
      "9/9 [==============================] - 0s 7ms/step - loss: 0.1654 - accuracy: 0.9478 - val_loss: 0.2764 - val_accuracy: 0.8824\n",
      "Epoch 26/150\n",
      "9/9 [==============================] - 0s 7ms/step - loss: 0.1597 - accuracy: 0.9478 - val_loss: 0.2727 - val_accuracy: 0.8824\n",
      "Epoch 27/150\n",
      "9/9 [==============================] - 0s 5ms/step - loss: 0.1551 - accuracy: 0.9552 - val_loss: 0.2684 - val_accuracy: 0.8824\n",
      "Epoch 28/150\n",
      "9/9 [==============================] - 0s 6ms/step - loss: 0.1503 - accuracy: 0.9552 - val_loss: 0.2625 - val_accuracy: 0.9118\n",
      "Epoch 29/150\n",
      "9/9 [==============================] - 0s 7ms/step - loss: 0.1467 - accuracy: 0.9552 - val_loss: 0.2596 - val_accuracy: 0.9118\n",
      "Epoch 30/150\n",
      "9/9 [==============================] - 0s 6ms/step - loss: 0.1421 - accuracy: 0.9552 - val_loss: 0.2593 - val_accuracy: 0.9118\n",
      "Epoch 31/150\n",
      "9/9 [==============================] - 0s 5ms/step - loss: 0.1387 - accuracy: 0.9552 - val_loss: 0.2622 - val_accuracy: 0.9118\n",
      "Epoch 32/150\n",
      "9/9 [==============================] - 0s 6ms/step - loss: 0.1353 - accuracy: 0.9552 - val_loss: 0.2539 - val_accuracy: 0.9118\n",
      "Epoch 33/150\n",
      "9/9 [==============================] - 0s 8ms/step - loss: 0.1319 - accuracy: 0.9552 - val_loss: 0.2529 - val_accuracy: 0.9118\n",
      "Epoch 34/150\n",
      "9/9 [==============================] - 0s 7ms/step - loss: 0.1285 - accuracy: 0.9627 - val_loss: 0.2543 - val_accuracy: 0.9118\n",
      "Epoch 35/150\n",
      "9/9 [==============================] - 0s 6ms/step - loss: 0.1255 - accuracy: 0.9627 - val_loss: 0.2525 - val_accuracy: 0.9118\n",
      "Epoch 36/150\n",
      "9/9 [==============================] - 0s 7ms/step - loss: 0.1229 - accuracy: 0.9627 - val_loss: 0.2565 - val_accuracy: 0.9118\n",
      "Epoch 37/150\n",
      "9/9 [==============================] - 0s 6ms/step - loss: 0.1188 - accuracy: 0.9701 - val_loss: 0.2554 - val_accuracy: 0.9118\n",
      "Epoch 38/150\n",
      "9/9 [==============================] - 0s 6ms/step - loss: 0.1162 - accuracy: 0.9701 - val_loss: 0.2530 - val_accuracy: 0.9118\n",
      "Epoch 39/150\n",
      "9/9 [==============================] - 0s 6ms/step - loss: 0.1137 - accuracy: 0.9701 - val_loss: 0.2464 - val_accuracy: 0.9118\n",
      "Epoch 40/150\n",
      "9/9 [==============================] - 0s 6ms/step - loss: 0.1115 - accuracy: 0.9701 - val_loss: 0.2439 - val_accuracy: 0.9118\n",
      "Epoch 41/150\n",
      "9/9 [==============================] - 0s 6ms/step - loss: 0.1085 - accuracy: 0.9627 - val_loss: 0.2381 - val_accuracy: 0.9118\n",
      "Epoch 42/150\n",
      "9/9 [==============================] - 0s 7ms/step - loss: 0.1073 - accuracy: 0.9627 - val_loss: 0.2354 - val_accuracy: 0.9118\n",
      "Epoch 43/150\n",
      "9/9 [==============================] - 0s 6ms/step - loss: 0.1047 - accuracy: 0.9627 - val_loss: 0.2323 - val_accuracy: 0.9118\n",
      "Epoch 44/150\n",
      "9/9 [==============================] - 0s 7ms/step - loss: 0.1023 - accuracy: 0.9701 - val_loss: 0.2342 - val_accuracy: 0.9118\n",
      "Epoch 45/150\n",
      "9/9 [==============================] - 0s 10ms/step - loss: 0.0996 - accuracy: 0.9701 - val_loss: 0.2309 - val_accuracy: 0.9118\n",
      "Epoch 46/150\n",
      "9/9 [==============================] - 0s 7ms/step - loss: 0.0969 - accuracy: 0.9701 - val_loss: 0.2288 - val_accuracy: 0.9118\n",
      "Epoch 47/150\n",
      "9/9 [==============================] - 0s 5ms/step - loss: 0.0956 - accuracy: 0.9701 - val_loss: 0.2293 - val_accuracy: 0.9118\n",
      "Epoch 48/150\n",
      "9/9 [==============================] - 0s 6ms/step - loss: 0.0929 - accuracy: 0.9701 - val_loss: 0.2275 - val_accuracy: 0.9118\n",
      "Epoch 49/150\n",
      "9/9 [==============================] - 0s 6ms/step - loss: 0.0908 - accuracy: 0.9701 - val_loss: 0.2231 - val_accuracy: 0.9118\n",
      "Epoch 50/150\n",
      "9/9 [==============================] - 0s 6ms/step - loss: 0.0889 - accuracy: 0.9701 - val_loss: 0.2177 - val_accuracy: 0.9118\n",
      "Epoch 51/150\n",
      "9/9 [==============================] - 0s 6ms/step - loss: 0.0872 - accuracy: 0.9701 - val_loss: 0.2173 - val_accuracy: 0.9118\n",
      "Epoch 52/150\n",
      "9/9 [==============================] - 0s 7ms/step - loss: 0.0850 - accuracy: 0.9701 - val_loss: 0.2168 - val_accuracy: 0.9118\n",
      "Epoch 53/150\n",
      "9/9 [==============================] - 0s 6ms/step - loss: 0.0831 - accuracy: 0.9701 - val_loss: 0.2147 - val_accuracy: 0.9118\n",
      "Epoch 54/150\n",
      "9/9 [==============================] - 0s 7ms/step - loss: 0.0823 - accuracy: 0.9701 - val_loss: 0.2151 - val_accuracy: 0.9118\n",
      "Epoch 55/150\n",
      "9/9 [==============================] - 0s 7ms/step - loss: 0.0795 - accuracy: 0.9776 - val_loss: 0.2135 - val_accuracy: 0.9118\n",
      "Epoch 56/150\n",
      "9/9 [==============================] - 0s 7ms/step - loss: 0.0790 - accuracy: 0.9701 - val_loss: 0.2037 - val_accuracy: 0.9118\n",
      "Epoch 57/150\n",
      "9/9 [==============================] - 0s 6ms/step - loss: 0.0764 - accuracy: 0.9701 - val_loss: 0.2035 - val_accuracy: 0.9118\n",
      "Epoch 58/150\n",
      "9/9 [==============================] - 0s 7ms/step - loss: 0.0741 - accuracy: 0.9776 - val_loss: 0.2044 - val_accuracy: 0.9118\n",
      "Epoch 59/150\n",
      "9/9 [==============================] - 0s 7ms/step - loss: 0.0729 - accuracy: 0.9776 - val_loss: 0.2045 - val_accuracy: 0.9118\n",
      "Epoch 60/150\n",
      "9/9 [==============================] - 0s 7ms/step - loss: 0.0713 - accuracy: 0.9776 - val_loss: 0.1987 - val_accuracy: 0.9118\n",
      "Epoch 61/150\n",
      "9/9 [==============================] - 0s 6ms/step - loss: 0.0705 - accuracy: 0.9776 - val_loss: 0.1960 - val_accuracy: 0.9118\n",
      "Epoch 62/150\n",
      "9/9 [==============================] - 0s 7ms/step - loss: 0.0683 - accuracy: 0.9776 - val_loss: 0.1968 - val_accuracy: 0.9118\n",
      "Epoch 63/150\n",
      "9/9 [==============================] - 0s 7ms/step - loss: 0.0670 - accuracy: 0.9776 - val_loss: 0.1958 - val_accuracy: 0.9118\n",
      "Epoch 64/150\n",
      "9/9 [==============================] - 0s 6ms/step - loss: 0.0665 - accuracy: 0.9776 - val_loss: 0.1984 - val_accuracy: 0.9118\n",
      "Epoch 65/150\n",
      "9/9 [==============================] - 0s 6ms/step - loss: 0.0642 - accuracy: 0.9776 - val_loss: 0.1897 - val_accuracy: 0.9118\n",
      "Epoch 66/150\n",
      "9/9 [==============================] - 0s 7ms/step - loss: 0.0632 - accuracy: 0.9776 - val_loss: 0.1863 - val_accuracy: 0.9118\n",
      "Epoch 67/150\n",
      "9/9 [==============================] - 0s 6ms/step - loss: 0.0619 - accuracy: 0.9776 - val_loss: 0.1838 - val_accuracy: 0.9118\n",
      "Epoch 68/150\n",
      "9/9 [==============================] - 0s 7ms/step - loss: 0.0612 - accuracy: 0.9851 - val_loss: 0.1841 - val_accuracy: 0.9118\n",
      "Epoch 69/150\n",
      "9/9 [==============================] - 0s 7ms/step - loss: 0.0602 - accuracy: 0.9776 - val_loss: 0.1940 - val_accuracy: 0.9118\n",
      "Epoch 70/150\n",
      "9/9 [==============================] - 0s 6ms/step - loss: 0.0588 - accuracy: 0.9776 - val_loss: 0.1971 - val_accuracy: 0.9118\n",
      "Epoch 71/150\n",
      "9/9 [==============================] - 0s 6ms/step - loss: 0.0573 - accuracy: 0.9776 - val_loss: 0.1900 - val_accuracy: 0.9118\n",
      "Epoch 72/150\n",
      "9/9 [==============================] - 0s 5ms/step - loss: 0.0547 - accuracy: 0.9776 - val_loss: 0.1872 - val_accuracy: 0.9118\n",
      "Epoch 73/150\n",
      "9/9 [==============================] - 0s 8ms/step - loss: 0.0538 - accuracy: 0.9776 - val_loss: 0.1858 - val_accuracy: 0.9118\n",
      "Epoch 74/150\n",
      "9/9 [==============================] - 0s 7ms/step - loss: 0.0532 - accuracy: 0.9776 - val_loss: 0.1814 - val_accuracy: 0.9118\n",
      "Epoch 75/150\n",
      "9/9 [==============================] - 0s 5ms/step - loss: 0.0514 - accuracy: 0.9776 - val_loss: 0.1794 - val_accuracy: 0.9118\n",
      "Epoch 76/150\n",
      "9/9 [==============================] - 0s 7ms/step - loss: 0.0508 - accuracy: 0.9776 - val_loss: 0.1778 - val_accuracy: 0.9118\n",
      "Epoch 77/150\n",
      "9/9 [==============================] - 0s 7ms/step - loss: 0.0500 - accuracy: 0.9776 - val_loss: 0.1782 - val_accuracy: 0.9118\n",
      "Epoch 78/150\n",
      "9/9 [==============================] - 0s 6ms/step - loss: 0.0494 - accuracy: 0.9776 - val_loss: 0.1794 - val_accuracy: 0.9118\n",
      "Epoch 79/150\n",
      "9/9 [==============================] - 0s 7ms/step - loss: 0.0482 - accuracy: 0.9851 - val_loss: 0.1739 - val_accuracy: 0.9118\n",
      "Epoch 80/150\n",
      "9/9 [==============================] - 0s 6ms/step - loss: 0.0472 - accuracy: 0.9851 - val_loss: 0.1747 - val_accuracy: 0.9118\n",
      "Epoch 81/150\n",
      "9/9 [==============================] - 0s 5ms/step - loss: 0.0469 - accuracy: 0.9851 - val_loss: 0.1703 - val_accuracy: 0.9118\n",
      "Epoch 82/150\n",
      "9/9 [==============================] - 0s 6ms/step - loss: 0.0451 - accuracy: 0.9851 - val_loss: 0.1711 - val_accuracy: 0.9118\n",
      "Epoch 83/150\n",
      "9/9 [==============================] - 0s 7ms/step - loss: 0.0447 - accuracy: 0.9851 - val_loss: 0.1694 - val_accuracy: 0.9118\n",
      "Epoch 84/150\n",
      "9/9 [==============================] - 0s 7ms/step - loss: 0.0435 - accuracy: 0.9851 - val_loss: 0.1713 - val_accuracy: 0.9118\n",
      "Epoch 85/150\n",
      "9/9 [==============================] - 0s 7ms/step - loss: 0.0427 - accuracy: 0.9851 - val_loss: 0.1716 - val_accuracy: 0.9118\n",
      "Epoch 86/150\n",
      "9/9 [==============================] - 0s 8ms/step - loss: 0.0419 - accuracy: 0.9851 - val_loss: 0.1695 - val_accuracy: 0.9118\n",
      "Epoch 87/150\n",
      "9/9 [==============================] - 0s 7ms/step - loss: 0.0419 - accuracy: 0.9851 - val_loss: 0.1689 - val_accuracy: 0.9118\n",
      "Epoch 88/150\n",
      "9/9 [==============================] - 0s 6ms/step - loss: 0.0402 - accuracy: 0.9925 - val_loss: 0.1636 - val_accuracy: 0.9118\n",
      "Epoch 89/150\n",
      "9/9 [==============================] - 0s 8ms/step - loss: 0.0421 - accuracy: 0.9925 - val_loss: 0.1571 - val_accuracy: 0.9118\n",
      "Epoch 90/150\n",
      "9/9 [==============================] - 0s 7ms/step - loss: 0.0409 - accuracy: 0.9925 - val_loss: 0.1580 - val_accuracy: 0.9118\n",
      "Epoch 91/150\n",
      "9/9 [==============================] - 0s 7ms/step - loss: 0.0390 - accuracy: 0.9925 - val_loss: 0.1610 - val_accuracy: 0.9118\n",
      "Epoch 92/150\n",
      "9/9 [==============================] - 0s 6ms/step - loss: 0.0382 - accuracy: 0.9925 - val_loss: 0.1634 - val_accuracy: 0.9118\n",
      "Epoch 93/150\n",
      "9/9 [==============================] - 0s 7ms/step - loss: 0.0372 - accuracy: 0.9851 - val_loss: 0.1623 - val_accuracy: 0.9118\n",
      "Epoch 94/150\n",
      "9/9 [==============================] - 0s 5ms/step - loss: 0.0366 - accuracy: 0.9925 - val_loss: 0.1614 - val_accuracy: 0.9118\n",
      "Epoch 95/150\n",
      "9/9 [==============================] - 0s 7ms/step - loss: 0.0361 - accuracy: 0.9925 - val_loss: 0.1584 - val_accuracy: 0.9118\n",
      "Epoch 96/150\n",
      "9/9 [==============================] - 0s 10ms/step - loss: 0.0358 - accuracy: 0.9851 - val_loss: 0.1631 - val_accuracy: 0.9118\n",
      "Epoch 97/150\n",
      "9/9 [==============================] - 0s 6ms/step - loss: 0.0358 - accuracy: 0.9851 - val_loss: 0.1608 - val_accuracy: 0.9118\n",
      "Epoch 98/150\n",
      "9/9 [==============================] - 0s 6ms/step - loss: 0.0346 - accuracy: 0.9851 - val_loss: 0.1590 - val_accuracy: 0.9118\n",
      "Epoch 99/150\n",
      "9/9 [==============================] - 0s 6ms/step - loss: 0.0337 - accuracy: 0.9925 - val_loss: 0.1553 - val_accuracy: 0.9118\n",
      "Epoch 100/150\n",
      "9/9 [==============================] - 0s 7ms/step - loss: 0.0325 - accuracy: 0.9925 - val_loss: 0.1513 - val_accuracy: 0.9118\n",
      "Epoch 101/150\n",
      "9/9 [==============================] - 0s 6ms/step - loss: 0.0330 - accuracy: 1.0000 - val_loss: 0.1479 - val_accuracy: 0.9118\n",
      "Epoch 102/150\n",
      "9/9 [==============================] - 0s 7ms/step - loss: 0.0319 - accuracy: 1.0000 - val_loss: 0.1515 - val_accuracy: 0.9118\n",
      "Epoch 103/150\n",
      "9/9 [==============================] - 0s 7ms/step - loss: 0.0329 - accuracy: 0.9925 - val_loss: 0.1577 - val_accuracy: 0.9118\n",
      "Epoch 104/150\n",
      "9/9 [==============================] - 0s 6ms/step - loss: 0.0308 - accuracy: 0.9925 - val_loss: 0.1494 - val_accuracy: 0.9118\n",
      "Epoch 105/150\n",
      "9/9 [==============================] - 0s 5ms/step - loss: 0.0306 - accuracy: 1.0000 - val_loss: 0.1468 - val_accuracy: 0.9118\n",
      "Epoch 106/150\n",
      "9/9 [==============================] - 0s 6ms/step - loss: 0.0302 - accuracy: 1.0000 - val_loss: 0.1460 - val_accuracy: 0.9118\n",
      "Epoch 107/150\n",
      "9/9 [==============================] - 0s 5ms/step - loss: 0.0301 - accuracy: 1.0000 - val_loss: 0.1522 - val_accuracy: 0.9118\n",
      "Epoch 108/150\n",
      "9/9 [==============================] - 0s 8ms/step - loss: 0.0292 - accuracy: 0.9925 - val_loss: 0.1497 - val_accuracy: 0.9118\n",
      "Epoch 109/150\n",
      "9/9 [==============================] - 0s 6ms/step - loss: 0.0282 - accuracy: 1.0000 - val_loss: 0.1483 - val_accuracy: 0.9118\n",
      "Epoch 110/150\n",
      "9/9 [==============================] - 0s 5ms/step - loss: 0.0276 - accuracy: 1.0000 - val_loss: 0.1461 - val_accuracy: 0.9118\n",
      "Epoch 111/150\n",
      "9/9 [==============================] - 0s 7ms/step - loss: 0.0269 - accuracy: 1.0000 - val_loss: 0.1457 - val_accuracy: 0.9118\n",
      "Epoch 112/150\n",
      "9/9 [==============================] - 0s 5ms/step - loss: 0.0268 - accuracy: 1.0000 - val_loss: 0.1444 - val_accuracy: 0.9118\n",
      "Epoch 113/150\n",
      "9/9 [==============================] - 0s 6ms/step - loss: 0.0266 - accuracy: 1.0000 - val_loss: 0.1478 - val_accuracy: 0.9118\n",
      "Epoch 114/150\n",
      "9/9 [==============================] - 0s 5ms/step - loss: 0.0258 - accuracy: 1.0000 - val_loss: 0.1453 - val_accuracy: 0.9118\n",
      "Epoch 115/150\n",
      "9/9 [==============================] - 0s 6ms/step - loss: 0.0253 - accuracy: 1.0000 - val_loss: 0.1399 - val_accuracy: 0.9118\n",
      "Epoch 116/150\n",
      "9/9 [==============================] - 0s 6ms/step - loss: 0.0249 - accuracy: 1.0000 - val_loss: 0.1386 - val_accuracy: 0.9118\n",
      "Epoch 117/150\n",
      "9/9 [==============================] - 0s 5ms/step - loss: 0.0246 - accuracy: 1.0000 - val_loss: 0.1430 - val_accuracy: 0.9118\n",
      "Epoch 118/150\n",
      "9/9 [==============================] - 0s 7ms/step - loss: 0.0244 - accuracy: 1.0000 - val_loss: 0.1440 - val_accuracy: 0.9118\n",
      "Epoch 119/150\n",
      "9/9 [==============================] - 0s 7ms/step - loss: 0.0240 - accuracy: 1.0000 - val_loss: 0.1382 - val_accuracy: 0.9118\n",
      "Epoch 120/150\n",
      "9/9 [==============================] - 0s 7ms/step - loss: 0.0227 - accuracy: 1.0000 - val_loss: 0.1390 - val_accuracy: 0.9118\n",
      "Epoch 121/150\n",
      "9/9 [==============================] - 0s 6ms/step - loss: 0.0223 - accuracy: 1.0000 - val_loss: 0.1402 - val_accuracy: 0.9118\n",
      "Epoch 122/150\n",
      "9/9 [==============================] - 0s 7ms/step - loss: 0.0222 - accuracy: 1.0000 - val_loss: 0.1404 - val_accuracy: 0.9118\n",
      "Epoch 123/150\n",
      "9/9 [==============================] - 0s 7ms/step - loss: 0.0219 - accuracy: 1.0000 - val_loss: 0.1371 - val_accuracy: 0.9118\n",
      "Epoch 124/150\n",
      "9/9 [==============================] - 0s 6ms/step - loss: 0.0216 - accuracy: 1.0000 - val_loss: 0.1355 - val_accuracy: 0.9118\n",
      "Epoch 125/150\n",
      "9/9 [==============================] - 0s 7ms/step - loss: 0.0210 - accuracy: 1.0000 - val_loss: 0.1361 - val_accuracy: 0.9118\n",
      "Epoch 126/150\n",
      "9/9 [==============================] - 0s 7ms/step - loss: 0.0208 - accuracy: 1.0000 - val_loss: 0.1323 - val_accuracy: 0.9118\n",
      "Epoch 127/150\n",
      "9/9 [==============================] - 0s 7ms/step - loss: 0.0211 - accuracy: 1.0000 - val_loss: 0.1321 - val_accuracy: 0.9118\n",
      "Epoch 128/150\n",
      "9/9 [==============================] - 0s 6ms/step - loss: 0.0202 - accuracy: 1.0000 - val_loss: 0.1328 - val_accuracy: 0.9118\n",
      "Epoch 129/150\n",
      "9/9 [==============================] - 0s 7ms/step - loss: 0.0199 - accuracy: 1.0000 - val_loss: 0.1337 - val_accuracy: 0.9118\n",
      "Epoch 130/150\n",
      "9/9 [==============================] - 0s 6ms/step - loss: 0.0194 - accuracy: 1.0000 - val_loss: 0.1336 - val_accuracy: 0.9118\n",
      "Epoch 131/150\n",
      "9/9 [==============================] - 0s 10ms/step - loss: 0.0192 - accuracy: 1.0000 - val_loss: 0.1351 - val_accuracy: 0.9118\n",
      "Epoch 132/150\n",
      "9/9 [==============================] - 0s 9ms/step - loss: 0.0191 - accuracy: 1.0000 - val_loss: 0.1340 - val_accuracy: 0.9118\n",
      "Epoch 133/150\n",
      "9/9 [==============================] - 0s 6ms/step - loss: 0.0186 - accuracy: 1.0000 - val_loss: 0.1315 - val_accuracy: 0.9118\n",
      "Epoch 134/150\n",
      "9/9 [==============================] - 0s 7ms/step - loss: 0.0183 - accuracy: 1.0000 - val_loss: 0.1318 - val_accuracy: 0.9118\n",
      "Epoch 135/150\n",
      "9/9 [==============================] - 0s 7ms/step - loss: 0.0187 - accuracy: 1.0000 - val_loss: 0.1296 - val_accuracy: 0.9118\n",
      "Epoch 136/150\n",
      "9/9 [==============================] - 0s 6ms/step - loss: 0.0182 - accuracy: 1.0000 - val_loss: 0.1324 - val_accuracy: 0.9118\n",
      "Epoch 137/150\n",
      "9/9 [==============================] - 0s 8ms/step - loss: 0.0195 - accuracy: 1.0000 - val_loss: 0.1254 - val_accuracy: 0.9412\n",
      "Epoch 138/150\n",
      "9/9 [==============================] - 0s 7ms/step - loss: 0.0176 - accuracy: 1.0000 - val_loss: 0.1299 - val_accuracy: 0.9118\n",
      "Epoch 139/150\n",
      "9/9 [==============================] - 0s 6ms/step - loss: 0.0171 - accuracy: 1.0000 - val_loss: 0.1318 - val_accuracy: 0.9118\n",
      "Epoch 140/150\n",
      "9/9 [==============================] - 0s 6ms/step - loss: 0.0169 - accuracy: 1.0000 - val_loss: 0.1253 - val_accuracy: 0.9412\n",
      "Epoch 141/150\n",
      "9/9 [==============================] - 0s 7ms/step - loss: 0.0174 - accuracy: 1.0000 - val_loss: 0.1268 - val_accuracy: 0.9118\n",
      "Epoch 142/150\n",
      "9/9 [==============================] - 0s 7ms/step - loss: 0.0162 - accuracy: 1.0000 - val_loss: 0.1242 - val_accuracy: 0.9412\n",
      "Epoch 143/150\n",
      "9/9 [==============================] - 0s 6ms/step - loss: 0.0161 - accuracy: 1.0000 - val_loss: 0.1249 - val_accuracy: 0.9412\n",
      "Epoch 144/150\n",
      "9/9 [==============================] - 0s 6ms/step - loss: 0.0161 - accuracy: 1.0000 - val_loss: 0.1237 - val_accuracy: 0.9412\n",
      "Epoch 145/150\n",
      "9/9 [==============================] - 0s 6ms/step - loss: 0.0154 - accuracy: 1.0000 - val_loss: 0.1259 - val_accuracy: 0.9118\n",
      "Epoch 146/150\n",
      "9/9 [==============================] - 0s 8ms/step - loss: 0.0153 - accuracy: 1.0000 - val_loss: 0.1280 - val_accuracy: 0.9118\n",
      "Epoch 147/150\n",
      "9/9 [==============================] - 0s 6ms/step - loss: 0.0153 - accuracy: 1.0000 - val_loss: 0.1262 - val_accuracy: 0.9118\n",
      "Epoch 148/150\n",
      "9/9 [==============================] - 0s 7ms/step - loss: 0.0148 - accuracy: 1.0000 - val_loss: 0.1264 - val_accuracy: 0.9118\n",
      "Epoch 149/150\n",
      "9/9 [==============================] - 0s 8ms/step - loss: 0.0148 - accuracy: 1.0000 - val_loss: 0.1249 - val_accuracy: 0.9118\n",
      "Epoch 150/150\n",
      "9/9 [==============================] - 0s 7ms/step - loss: 0.0149 - accuracy: 1.0000 - val_loss: 0.1281 - val_accuracy: 0.9118\n"
     ]
    }
   ],
   "source": [
    "history = model.fit(X_train, y_train, epochs=150, batch_size=16, validation_data=(X_val, y_val))"
   ]
  },
  {
   "cell_type": "code",
   "execution_count": 14,
   "id": "6074e9e4-71c1-4923-930c-d102647ab2db",
   "metadata": {
    "scrolled": true
   },
   "outputs": [
    {
     "data": {
      "image/png": "[encoded data removed]",
      "text/plain": [
       "<Figure size 640x480 with 1 Axes>"
      ]
     },
     "metadata": {},
     "output_type": "display_data"
    }
   ],
   "source": [
    "import matplotlib.pyplot as plt\n",
    "\n",
    "# 훈련 과정 시각화\n",
    "plt.plot(history.history['accuracy'], label='Train Accuracy')\n",
    "plt.plot(history.history['val_accuracy'], label='Validation Accuracy')\n",
    "plt.xlabel('Epoch')\n",
    "plt.ylabel('Accuracy')\n",
    "plt.legend()\n",
    "plt.show()"
   ]
  },
  {
   "cell_type": "code",
   "execution_count": 15,
   "id": "7ad5307e-39b6-40eb-860d-089900b440fe",
   "metadata": {},
   "outputs": [
    {
     "data": {
      "image/png": "[encoded data removed]",
      "text/plain": [
       "<Figure size 640x480 with 1 Axes>"
      ]
     },
     "metadata": {},
     "output_type": "display_data"
    }
   ],
   "source": [
    "# 훈련 과정 시각화\n",
    "plt.plot(history.history['loss'], label='Train loss')\n",
    "plt.plot(history.history['val_loss'], label='Validation Loss')\n",
    "plt.xlabel('Epoch')\n",
    "plt.ylabel('Loss')\n",
    "plt.legend()\n",
    "plt.show()"
   ]
  },
  {
   "cell_type": "code",
   "execution_count": 17,
   "id": "5fad7076-f29d-4520-aba5-267b9798a627",
   "metadata": {},
   "outputs": [],
   "source": [
    "y_test = y_test - 1"
   ]
  },
  {
   "cell_type": "code",
   "execution_count": 18,
   "id": "37d311cd-c63b-422c-ac14-a43f470870df",
   "metadata": {},
   "outputs": [
    {
     "name": "stdout",
     "output_type": "stream",
     "text": [
      "2/2 [==============================] - 0s 16ms/step - loss: 0.3336 - accuracy: 0.8810\n"
     ]
    },
    {
     "data": {
      "text/plain": [
       "[0.3336372971534729, 0.8809523582458496]"
      ]
     },
     "execution_count": 18,
     "metadata": {},
     "output_type": "execute_result"
    }
   ],
   "source": [
    "model.evaluate(X_test, y_test)"
   ]
  },
  {
   "cell_type": "code",
   "execution_count": null,
   "id": "55fb64f4-8cbc-429a-8034-38eef1691fa1",
   "metadata": {},
   "outputs": [],
   "source": []
  }
 ],
 "metadata": {
  "kernelspec": {
   "display_name": "Python 3 (ipykernel)",
   "language": "python",
   "name": "python3"
  },
  "language_info": {
   "codemirror_mode": {
    "name": "ipython",
    "version": 3
   },
   "file_extension": ".py",
   "mimetype": "text/x-python",
   "name": "python",
   "nbconvert_exporter": "python",
   "pygments_lexer": "ipython3",
   "version": "3.10.16"
  }
 },
 "nbformat": 4,
 "nbformat_minor": 5
}
