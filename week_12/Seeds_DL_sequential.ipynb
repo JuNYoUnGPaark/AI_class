{
 "cells": [
  {
   "cell_type": "code",
   "execution_count": 1,
   "id": "d9bdea3a-17d1-429f-9f0e-5faedf8c12f4",
   "metadata": {},
   "outputs": [
    {
     "data": {
      "text/html": [
       "<div>\n",
       "<style scoped>\n",
       "    .dataframe tbody tr th:only-of-type {\n",
       "        vertical-align: middle;\n",
       "    }\n",
       "\n",
       "    .dataframe tbody tr th {\n",
       "        vertical-align: top;\n",
       "    }\n",
       "\n",
       "    .dataframe thead th {\n",
       "        text-align: right;\n",
       "    }\n",
       "</style>\n",
       "<table border=\"1\" class=\"dataframe\">\n",
       "  <thead>\n",
       "    <tr style=\"text-align: right;\">\n",
       "      <th></th>\n",
       "      <th>0</th>\n",
       "      <th>1</th>\n",
       "      <th>2</th>\n",
       "      <th>3</th>\n",
       "      <th>4</th>\n",
       "      <th>5</th>\n",
       "      <th>6</th>\n",
       "      <th>7</th>\n",
       "    </tr>\n",
       "  </thead>\n",
       "  <tbody>\n",
       "    <tr>\n",
       "      <th>0</th>\n",
       "      <td>15.26</td>\n",
       "      <td>14.84</td>\n",
       "      <td>0.8710</td>\n",
       "      <td>5.763</td>\n",
       "      <td>3.312</td>\n",
       "      <td>2.221</td>\n",
       "      <td>5.220</td>\n",
       "      <td>1</td>\n",
       "    </tr>\n",
       "    <tr>\n",
       "      <th>1</th>\n",
       "      <td>14.88</td>\n",
       "      <td>14.57</td>\n",
       "      <td>0.8811</td>\n",
       "      <td>5.554</td>\n",
       "      <td>3.333</td>\n",
       "      <td>1.018</td>\n",
       "      <td>4.956</td>\n",
       "      <td>1</td>\n",
       "    </tr>\n",
       "    <tr>\n",
       "      <th>2</th>\n",
       "      <td>14.29</td>\n",
       "      <td>14.09</td>\n",
       "      <td>0.9050</td>\n",
       "      <td>5.291</td>\n",
       "      <td>3.337</td>\n",
       "      <td>2.699</td>\n",
       "      <td>4.825</td>\n",
       "      <td>1</td>\n",
       "    </tr>\n",
       "    <tr>\n",
       "      <th>3</th>\n",
       "      <td>13.84</td>\n",
       "      <td>13.94</td>\n",
       "      <td>0.8955</td>\n",
       "      <td>5.324</td>\n",
       "      <td>3.379</td>\n",
       "      <td>2.259</td>\n",
       "      <td>4.805</td>\n",
       "      <td>1</td>\n",
       "    </tr>\n",
       "    <tr>\n",
       "      <th>4</th>\n",
       "      <td>16.14</td>\n",
       "      <td>14.99</td>\n",
       "      <td>0.9034</td>\n",
       "      <td>5.658</td>\n",
       "      <td>3.562</td>\n",
       "      <td>1.355</td>\n",
       "      <td>5.175</td>\n",
       "      <td>1</td>\n",
       "    </tr>\n",
       "  </tbody>\n",
       "</table>\n",
       "</div>"
      ],
      "text/plain": [
       "       0      1       2      3      4      5      6  7\n",
       "0  15.26  14.84  0.8710  5.763  3.312  2.221  5.220  1\n",
       "1  14.88  14.57  0.8811  5.554  3.333  1.018  4.956  1\n",
       "2  14.29  14.09  0.9050  5.291  3.337  2.699  4.825  1\n",
       "3  13.84  13.94  0.8955  5.324  3.379  2.259  4.805  1\n",
       "4  16.14  14.99  0.9034  5.658  3.562  1.355  5.175  1"
      ]
     },
     "execution_count": 1,
     "metadata": {},
     "output_type": "execute_result"
    }
   ],
   "source": [
    "import pandas as pd\n",
    "df = pd.read_csv(\"C://Users/sampa/ai_class/data_files/seeds.csv\", delimiter=r\"\\s+\", header=None)\n",
    "df.head()"
   ]
  },
  {
   "cell_type": "code",
   "execution_count": 2,
   "id": "db5d5a92-3c8e-4849-98c2-949008935d39",
   "metadata": {},
   "outputs": [
    {
     "data": {
      "text/plain": [
       "0    0\n",
       "1    0\n",
       "2    0\n",
       "3    0\n",
       "4    0\n",
       "5    0\n",
       "6    0\n",
       "7    0\n",
       "dtype: int64"
      ]
     },
     "execution_count": 2,
     "metadata": {},
     "output_type": "execute_result"
    }
   ],
   "source": [
    "df.isna().sum()"
   ]
  },
  {
   "cell_type": "code",
   "execution_count": 3,
   "id": "2c70f7d2-ca80-47fe-b931-58d222666fca",
   "metadata": {},
   "outputs": [
    {
     "data": {
      "text/plain": [
       "1    70\n",
       "2    70\n",
       "3    70\n",
       "Name: 7, dtype: int64"
      ]
     },
     "execution_count": 3,
     "metadata": {},
     "output_type": "execute_result"
    }
   ],
   "source": [
    "df[7].value_counts()"
   ]
  },
  {
   "cell_type": "code",
   "execution_count": 4,
   "id": "02ca57c2-510c-4d46-9165-b789f832c1de",
   "metadata": {},
   "outputs": [
    {
     "name": "stdout",
     "output_type": "stream",
     "text": [
      "<class 'pandas.core.frame.DataFrame'>\n",
      "RangeIndex: 210 entries, 0 to 209\n",
      "Data columns (total 8 columns):\n",
      " #   Column  Non-Null Count  Dtype  \n",
      "---  ------  --------------  -----  \n",
      " 0   0       210 non-null    float64\n",
      " 1   1       210 non-null    float64\n",
      " 2   2       210 non-null    float64\n",
      " 3   3       210 non-null    float64\n",
      " 4   4       210 non-null    float64\n",
      " 5   5       210 non-null    float64\n",
      " 6   6       210 non-null    float64\n",
      " 7   7       210 non-null    int64  \n",
      "dtypes: float64(7), int64(1)\n",
      "memory usage: 13.2 KB\n"
     ]
    }
   ],
   "source": [
    "df.info()"
   ]
  },
  {
   "cell_type": "code",
   "execution_count": 5,
   "id": "5bd59dc1-61a1-478b-b305-741a3e101f6a",
   "metadata": {},
   "outputs": [],
   "source": [
    "X = df.drop(columns=[7])\n",
    "y = df[7]"
   ]
  },
  {
   "cell_type": "code",
   "execution_count": 6,
   "id": "8fed5810-7a42-4940-b219-47b69584794a",
   "metadata": {},
   "outputs": [
    {
     "name": "stdout",
     "output_type": "stream",
     "text": [
      "(210, 7)\n",
      "(210,)\n"
     ]
    }
   ],
   "source": [
    "print(X.shape)\n",
    "print(y.shape)"
   ]
  },
  {
   "cell_type": "code",
   "execution_count": 7,
   "id": "a746e962-f60d-4ade-b518-3ede8dbe888d",
   "metadata": {},
   "outputs": [
    {
     "name": "stdout",
     "output_type": "stream",
     "text": [
      "훈련 데이터 크기: (168, 7)\n",
      "테스트 데이터 크기: (42, 7)\n"
     ]
    }
   ],
   "source": [
    "from sklearn.model_selection import train_test_split\n",
    "\n",
    "X_train, X_test, y_train, y_test = train_test_split(X, y, test_size=0.2, stratify=y, random_state=42)\n",
    "\n",
    "print(\"훈련 데이터 크기:\", X_train.shape)\n",
    "print(\"테스트 데이터 크기:\", X_test.shape)"
   ]
  },
  {
   "cell_type": "code",
   "execution_count": 8,
   "id": "aa397de0-da81-4f33-a526-037326606791",
   "metadata": {},
   "outputs": [
    {
     "name": "stdout",
     "output_type": "stream",
     "text": [
      "최종 훈련 데이터 크기: (134, 7)\n",
      "검증 데이터 크기: (34, 7)\n",
      "테스트 데이터 크기: (42, 7)\n"
     ]
    }
   ],
   "source": [
    "X_train, X_val, y_train, y_val = train_test_split(X_train, y_train, test_size=0.2, stratify=y_train, random_state=42)\n",
    "\n",
    "print(\"최종 훈련 데이터 크기:\", X_train.shape)\n",
    "print(\"검증 데이터 크기:\", X_val.shape)\n",
    "print(\"테스트 데이터 크기:\", X_test.shape)"
   ]
  },
  {
   "cell_type": "code",
   "execution_count": 9,
   "id": "0ccabd7d-9119-4386-9165-1b5e2a35aee3",
   "metadata": {},
   "outputs": [],
   "source": [
    "y_train = y_train - 1\n",
    "y_val = y_val - 1"
   ]
  },
  {
   "cell_type": "code",
   "execution_count": 10,
   "id": "0d86bd2a-3406-450e-a5a4-fed8cf297f09",
   "metadata": {},
   "outputs": [],
   "source": [
    "from sklearn.preprocessing import StandardScaler\n",
    "\n",
    "scaler = StandardScaler()\n",
    "X_train = scaler.fit_transform(X_train)  # 학습 데이터 기준으로 스케일링\n",
    "X_val = scaler.transform(X_val)  # 검증 데이터 변환\n",
    "X_test = scaler.transform(X_test)  # 테스트 데이터 변환"
   ]
  },
  {
   "cell_type": "code",
   "execution_count": 11,
   "id": "d6b449aa-6cd3-4272-a290-5cda514e4bbe",
   "metadata": {},
   "outputs": [
    {
     "name": "stdout",
     "output_type": "stream",
     "text": [
      "WARNING:tensorflow:From C:\\Users\\sampa\\anaconda3\\envs\\AI\\lib\\site-packages\\keras\\src\\losses.py:2976: The name tf.losses.sparse_softmax_cross_entropy is deprecated. Please use tf.compat.v1.losses.sparse_softmax_cross_entropy instead.\n",
      "\n",
      "WARNING:tensorflow:From C:\\Users\\sampa\\anaconda3\\envs\\AI\\lib\\site-packages\\keras\\src\\backend.py:873: The name tf.get_default_graph is deprecated. Please use tf.compat.v1.get_default_graph instead.\n",
      "\n"
     ]
    }
   ],
   "source": [
    "# 모델 생성 \n",
    "import tensorflow as tf\n",
    "\n",
    "model = tf.keras.models.Sequential()\n",
    "model.add(tf.keras.layers.Dense(32, activation='relu', input_shape=(7, )))\n",
    "model.add(tf.keras.layers.Dense(16, activation='relu'))\n",
    "model.add(tf.keras.layers.Dense(3, activation='softmax'))"
   ]
  },
  {
   "cell_type": "code",
   "execution_count": 12,
   "id": "36eedf1b-f95e-4e33-a607-3948dbf6c8da",
   "metadata": {},
   "outputs": [
    {
     "name": "stdout",
     "output_type": "stream",
     "text": [
      "WARNING:tensorflow:From C:\\Users\\sampa\\anaconda3\\envs\\AI\\lib\\site-packages\\keras\\src\\optimizers\\__init__.py:309: The name tf.train.Optimizer is deprecated. Please use tf.compat.v1.train.Optimizer instead.\n",
      "\n",
      "Model: \"sequential\"\n",
      "_________________________________________________________________\n",
      " Layer (type)                Output Shape              Param #   \n",
      "=================================================================\n",
      " dense (Dense)               (None, 32)                256       \n",
      "                                                                 \n",
      " dense_1 (Dense)             (None, 16)                528       \n",
      "                                                                 \n",
      " dense_2 (Dense)             (None, 3)                 51        \n",
      "                                                                 \n",
      "=================================================================\n",
      "Total params: 835 (3.26 KB)\n",
      "Trainable params: 835 (3.26 KB)\n",
      "Non-trainable params: 0 (0.00 Byte)\n",
      "_________________________________________________________________\n"
     ]
    }
   ],
   "source": [
    "# compile\n",
    "model.compile(loss='sparse_categorical_crossentropy', optimizer='adam', metrics=['accuracy'])\n",
    "model.summary()"
   ]
  },
  {
   "cell_type": "code",
   "execution_count": 13,
   "id": "2211bdb0-caeb-4c8f-ad91-863668b41c6a",
   "metadata": {},
   "outputs": [
    {
     "name": "stdout",
     "output_type": "stream",
     "text": [
      "Epoch 1/150\n",
      "WARNING:tensorflow:From C:\\Users\\sampa\\anaconda3\\envs\\AI\\lib\\site-packages\\keras\\src\\utils\\tf_utils.py:492: The name tf.ragged.RaggedTensorValue is deprecated. Please use tf.compat.v1.ragged.RaggedTensorValue instead.\n",
      "\n",
      "WARNING:tensorflow:From C:\\Users\\sampa\\anaconda3\\envs\\AI\\lib\\site-packages\\keras\\src\\engine\\base_layer_utils.py:384: The name tf.executing_eagerly_outside_functions is deprecated. Please use tf.compat.v1.executing_eagerly_outside_functions instead.\n",
      "\n",
      "9/9 [==============================] - 1s 46ms/step - loss: 0.8930 - accuracy: 0.8209 - val_loss: 0.7811 - val_accuracy: 0.8529\n",
      "Epoch 2/150\n",
      "9/9 [==============================] - 0s 8ms/step - loss: 0.7505 - accuracy: 0.9179 - val_loss: 0.6599 - val_accuracy: 0.9118\n",
      "Epoch 3/150\n",
      "9/9 [==============================] - 0s 6ms/step - loss: 0.6530 - accuracy: 0.9104 - val_loss: 0.5745 - val_accuracy: 0.9118\n",
      "Epoch 4/150\n",
      "9/9 [==============================] - 0s 7ms/step - loss: 0.5807 - accuracy: 0.9104 - val_loss: 0.5109 - val_accuracy: 0.9118\n",
      "Epoch 5/150\n",
      "9/9 [==============================] - 0s 6ms/step - loss: 0.5208 - accuracy: 0.9030 - val_loss: 0.4599 - val_accuracy: 0.9118\n",
      "Epoch 6/150\n",
      "9/9 [==============================] - 0s 7ms/step - loss: 0.4711 - accuracy: 0.9030 - val_loss: 0.4179 - val_accuracy: 0.9118\n",
      "Epoch 7/150\n",
      "9/9 [==============================] - 0s 7ms/step - loss: 0.4299 - accuracy: 0.9104 - val_loss: 0.3832 - val_accuracy: 0.9118\n",
      "Epoch 8/150\n",
      "9/9 [==============================] - 0s 6ms/step - loss: 0.3936 - accuracy: 0.9179 - val_loss: 0.3555 - val_accuracy: 0.9118\n",
      "Epoch 9/150\n",
      "9/9 [==============================] - 0s 7ms/step - loss: 0.3626 - accuracy: 0.9179 - val_loss: 0.3316 - val_accuracy: 0.9118\n",
      "Epoch 10/150\n",
      "9/9 [==============================] - 0s 6ms/step - loss: 0.3360 - accuracy: 0.9254 - val_loss: 0.3125 - val_accuracy: 0.8824\n",
      "Epoch 11/150\n",
      "9/9 [==============================] - 0s 6ms/step - loss: 0.3135 - accuracy: 0.9179 - val_loss: 0.2937 - val_accuracy: 0.8824\n",
      "Epoch 12/150\n",
      "9/9 [==============================] - 0s 7ms/step - loss: 0.2923 - accuracy: 0.9179 - val_loss: 0.2798 - val_accuracy: 0.8824\n",
      "Epoch 13/150\n",
      "9/9 [==============================] - 0s 7ms/step - loss: 0.2736 - accuracy: 0.9179 - val_loss: 0.2688 - val_accuracy: 0.8824\n",
      "Epoch 14/150\n",
      "9/9 [==============================] - 0s 6ms/step - loss: 0.2578 - accuracy: 0.9179 - val_loss: 0.2589 - val_accuracy: 0.8824\n",
      "Epoch 15/150\n",
      "9/9 [==============================] - 0s 7ms/step - loss: 0.2442 - accuracy: 0.9179 - val_loss: 0.2521 - val_accuracy: 0.8824\n",
      "Epoch 16/150\n",
      "9/9 [==============================] - 0s 6ms/step - loss: 0.2325 - accuracy: 0.9179 - val_loss: 0.2407 - val_accuracy: 0.8824\n",
      "Epoch 17/150\n",
      "9/9 [==============================] - 0s 5ms/step - loss: 0.2219 - accuracy: 0.9254 - val_loss: 0.2333 - val_accuracy: 0.8824\n",
      "Epoch 18/150\n",
      "9/9 [==============================] - 0s 7ms/step - loss: 0.2133 - accuracy: 0.9254 - val_loss: 0.2285 - val_accuracy: 0.8824\n",
      "Epoch 19/150\n",
      "9/9 [==============================] - 0s 8ms/step - loss: 0.2055 - accuracy: 0.9254 - val_loss: 0.2268 - val_accuracy: 0.8824\n",
      "Epoch 20/150\n",
      "9/9 [==============================] - 0s 8ms/step - loss: 0.1977 - accuracy: 0.9179 - val_loss: 0.2234 - val_accuracy: 0.8824\n",
      "Epoch 21/150\n",
      "9/9 [==============================] - 0s 6ms/step - loss: 0.1915 - accuracy: 0.9179 - val_loss: 0.2236 - val_accuracy: 0.8824\n",
      "Epoch 22/150\n",
      "9/9 [==============================] - 0s 6ms/step - loss: 0.1847 - accuracy: 0.9254 - val_loss: 0.2182 - val_accuracy: 0.8824\n",
      "Epoch 23/150\n",
      "9/9 [==============================] - 0s 7ms/step - loss: 0.1787 - accuracy: 0.9254 - val_loss: 0.2184 - val_accuracy: 0.8824\n",
      "Epoch 24/150\n",
      "9/9 [==============================] - 0s 6ms/step - loss: 0.1736 - accuracy: 0.9254 - val_loss: 0.2151 - val_accuracy: 0.8824\n",
      "Epoch 25/150\n",
      "9/9 [==============================] - 0s 6ms/step - loss: 0.1682 - accuracy: 0.9254 - val_loss: 0.2162 - val_accuracy: 0.8824\n",
      "Epoch 26/150\n",
      "9/9 [==============================] - 0s 7ms/step - loss: 0.1639 - accuracy: 0.9254 - val_loss: 0.2149 - val_accuracy: 0.8824\n",
      "Epoch 27/150\n",
      "9/9 [==============================] - 0s 7ms/step - loss: 0.1598 - accuracy: 0.9254 - val_loss: 0.2130 - val_accuracy: 0.8824\n",
      "Epoch 28/150\n",
      "9/9 [==============================] - 0s 6ms/step - loss: 0.1552 - accuracy: 0.9328 - val_loss: 0.2104 - val_accuracy: 0.8824\n",
      "Epoch 29/150\n",
      "9/9 [==============================] - 0s 6ms/step - loss: 0.1513 - accuracy: 0.9328 - val_loss: 0.2099 - val_accuracy: 0.8824\n",
      "Epoch 30/150\n",
      "9/9 [==============================] - 0s 7ms/step - loss: 0.1469 - accuracy: 0.9254 - val_loss: 0.2079 - val_accuracy: 0.9118\n",
      "Epoch 31/150\n",
      "9/9 [==============================] - 0s 6ms/step - loss: 0.1439 - accuracy: 0.9328 - val_loss: 0.2028 - val_accuracy: 0.9118\n",
      "Epoch 32/150\n",
      "9/9 [==============================] - 0s 7ms/step - loss: 0.1394 - accuracy: 0.9328 - val_loss: 0.2082 - val_accuracy: 0.8824\n",
      "Epoch 33/150\n",
      "9/9 [==============================] - 0s 6ms/step - loss: 0.1374 - accuracy: 0.9254 - val_loss: 0.2120 - val_accuracy: 0.8824\n",
      "Epoch 34/150\n",
      "9/9 [==============================] - 0s 6ms/step - loss: 0.1335 - accuracy: 0.9328 - val_loss: 0.2057 - val_accuracy: 0.9118\n",
      "Epoch 35/150\n",
      "9/9 [==============================] - 0s 6ms/step - loss: 0.1296 - accuracy: 0.9478 - val_loss: 0.2022 - val_accuracy: 0.9118\n",
      "Epoch 36/150\n",
      "9/9 [==============================] - 0s 7ms/step - loss: 0.1267 - accuracy: 0.9478 - val_loss: 0.1986 - val_accuracy: 0.9118\n",
      "Epoch 37/150\n",
      "9/9 [==============================] - 0s 6ms/step - loss: 0.1238 - accuracy: 0.9478 - val_loss: 0.1979 - val_accuracy: 0.9118\n",
      "Epoch 38/150\n",
      "9/9 [==============================] - 0s 6ms/step - loss: 0.1211 - accuracy: 0.9478 - val_loss: 0.1944 - val_accuracy: 0.9118\n",
      "Epoch 39/150\n",
      "9/9 [==============================] - 0s 6ms/step - loss: 0.1181 - accuracy: 0.9478 - val_loss: 0.1937 - val_accuracy: 0.9118\n",
      "Epoch 40/150\n",
      "9/9 [==============================] - 0s 6ms/step - loss: 0.1161 - accuracy: 0.9552 - val_loss: 0.1928 - val_accuracy: 0.9118\n",
      "Epoch 41/150\n",
      "9/9 [==============================] - 0s 6ms/step - loss: 0.1141 - accuracy: 0.9552 - val_loss: 0.1834 - val_accuracy: 0.9118\n",
      "Epoch 42/150\n",
      "9/9 [==============================] - 0s 6ms/step - loss: 0.1110 - accuracy: 0.9627 - val_loss: 0.1921 - val_accuracy: 0.9118\n",
      "Epoch 43/150\n",
      "9/9 [==============================] - 0s 6ms/step - loss: 0.1089 - accuracy: 0.9552 - val_loss: 0.1959 - val_accuracy: 0.9118\n",
      "Epoch 44/150\n",
      "9/9 [==============================] - 0s 6ms/step - loss: 0.1058 - accuracy: 0.9552 - val_loss: 0.1890 - val_accuracy: 0.9118\n",
      "Epoch 45/150\n",
      "9/9 [==============================] - 0s 6ms/step - loss: 0.1030 - accuracy: 0.9552 - val_loss: 0.1845 - val_accuracy: 0.9118\n",
      "Epoch 46/150\n",
      "9/9 [==============================] - 0s 7ms/step - loss: 0.1017 - accuracy: 0.9552 - val_loss: 0.1796 - val_accuracy: 0.9118\n",
      "Epoch 47/150\n",
      "9/9 [==============================] - 0s 6ms/step - loss: 0.0993 - accuracy: 0.9552 - val_loss: 0.1773 - val_accuracy: 0.9118\n",
      "Epoch 48/150\n",
      "9/9 [==============================] - 0s 6ms/step - loss: 0.0971 - accuracy: 0.9552 - val_loss: 0.1788 - val_accuracy: 0.9118\n",
      "Epoch 49/150\n",
      "9/9 [==============================] - 0s 7ms/step - loss: 0.0945 - accuracy: 0.9627 - val_loss: 0.1838 - val_accuracy: 0.9118\n",
      "Epoch 50/150\n",
      "9/9 [==============================] - 0s 6ms/step - loss: 0.0930 - accuracy: 0.9701 - val_loss: 0.1831 - val_accuracy: 0.9118\n",
      "Epoch 51/150\n",
      "9/9 [==============================] - 0s 7ms/step - loss: 0.0906 - accuracy: 0.9701 - val_loss: 0.1840 - val_accuracy: 0.9118\n",
      "Epoch 52/150\n",
      "9/9 [==============================] - 0s 8ms/step - loss: 0.0882 - accuracy: 0.9701 - val_loss: 0.1729 - val_accuracy: 0.9118\n",
      "Epoch 53/150\n",
      "9/9 [==============================] - 0s 7ms/step - loss: 0.0871 - accuracy: 0.9627 - val_loss: 0.1670 - val_accuracy: 0.9118\n",
      "Epoch 54/150\n",
      "9/9 [==============================] - 0s 6ms/step - loss: 0.0851 - accuracy: 0.9627 - val_loss: 0.1708 - val_accuracy: 0.9118\n",
      "Epoch 55/150\n",
      "9/9 [==============================] - 0s 6ms/step - loss: 0.0832 - accuracy: 0.9627 - val_loss: 0.1694 - val_accuracy: 0.9118\n",
      "Epoch 56/150\n",
      "9/9 [==============================] - 0s 8ms/step - loss: 0.0813 - accuracy: 0.9701 - val_loss: 0.1706 - val_accuracy: 0.9118\n",
      "Epoch 57/150\n",
      "9/9 [==============================] - 0s 6ms/step - loss: 0.0799 - accuracy: 0.9701 - val_loss: 0.1693 - val_accuracy: 0.9118\n",
      "Epoch 58/150\n",
      "9/9 [==============================] - 0s 7ms/step - loss: 0.0785 - accuracy: 0.9701 - val_loss: 0.1642 - val_accuracy: 0.9118\n",
      "Epoch 59/150\n",
      "9/9 [==============================] - 0s 12ms/step - loss: 0.0769 - accuracy: 0.9701 - val_loss: 0.1629 - val_accuracy: 0.9118\n",
      "Epoch 60/150\n",
      "9/9 [==============================] - 0s 7ms/step - loss: 0.0757 - accuracy: 0.9701 - val_loss: 0.1624 - val_accuracy: 0.9118\n",
      "Epoch 61/150\n",
      "9/9 [==============================] - 0s 6ms/step - loss: 0.0752 - accuracy: 0.9701 - val_loss: 0.1650 - val_accuracy: 0.9118\n",
      "Epoch 62/150\n",
      "9/9 [==============================] - 0s 5ms/step - loss: 0.0732 - accuracy: 0.9701 - val_loss: 0.1566 - val_accuracy: 0.9118\n",
      "Epoch 63/150\n",
      "9/9 [==============================] - 0s 7ms/step - loss: 0.0718 - accuracy: 0.9701 - val_loss: 0.1574 - val_accuracy: 0.9118\n",
      "Epoch 64/150\n",
      "9/9 [==============================] - 0s 6ms/step - loss: 0.0705 - accuracy: 0.9776 - val_loss: 0.1528 - val_accuracy: 0.9118\n",
      "Epoch 65/150\n",
      "9/9 [==============================] - 0s 6ms/step - loss: 0.0688 - accuracy: 0.9776 - val_loss: 0.1541 - val_accuracy: 0.9118\n",
      "Epoch 66/150\n",
      "9/9 [==============================] - 0s 6ms/step - loss: 0.0682 - accuracy: 0.9701 - val_loss: 0.1586 - val_accuracy: 0.9118\n",
      "Epoch 67/150\n",
      "9/9 [==============================] - 0s 6ms/step - loss: 0.0663 - accuracy: 0.9701 - val_loss: 0.1584 - val_accuracy: 0.9118\n",
      "Epoch 68/150\n",
      "9/9 [==============================] - 0s 6ms/step - loss: 0.0654 - accuracy: 0.9701 - val_loss: 0.1615 - val_accuracy: 0.9118\n",
      "Epoch 69/150\n",
      "9/9 [==============================] - 0s 6ms/step - loss: 0.0643 - accuracy: 0.9776 - val_loss: 0.1561 - val_accuracy: 0.9118\n",
      "Epoch 70/150\n",
      "9/9 [==============================] - 0s 7ms/step - loss: 0.0639 - accuracy: 0.9701 - val_loss: 0.1572 - val_accuracy: 0.9118\n",
      "Epoch 71/150\n",
      "9/9 [==============================] - 0s 6ms/step - loss: 0.0621 - accuracy: 0.9776 - val_loss: 0.1553 - val_accuracy: 0.9118\n",
      "Epoch 72/150\n",
      "9/9 [==============================] - 0s 7ms/step - loss: 0.0611 - accuracy: 0.9701 - val_loss: 0.1516 - val_accuracy: 0.9118\n",
      "Epoch 73/150\n",
      "9/9 [==============================] - 0s 6ms/step - loss: 0.0605 - accuracy: 0.9776 - val_loss: 0.1544 - val_accuracy: 0.9118\n",
      "Epoch 74/150\n",
      "9/9 [==============================] - 0s 7ms/step - loss: 0.0590 - accuracy: 0.9776 - val_loss: 0.1516 - val_accuracy: 0.9118\n",
      "Epoch 75/150\n",
      "9/9 [==============================] - 0s 8ms/step - loss: 0.0582 - accuracy: 0.9701 - val_loss: 0.1483 - val_accuracy: 0.9118\n",
      "Epoch 76/150\n",
      "9/9 [==============================] - 0s 6ms/step - loss: 0.0570 - accuracy: 0.9701 - val_loss: 0.1491 - val_accuracy: 0.9118\n",
      "Epoch 77/150\n",
      "9/9 [==============================] - 0s 6ms/step - loss: 0.0562 - accuracy: 0.9776 - val_loss: 0.1528 - val_accuracy: 0.9118\n",
      "Epoch 78/150\n",
      "9/9 [==============================] - 0s 6ms/step - loss: 0.0554 - accuracy: 0.9776 - val_loss: 0.1468 - val_accuracy: 0.9118\n",
      "Epoch 79/150\n",
      "9/9 [==============================] - 0s 6ms/step - loss: 0.0538 - accuracy: 0.9851 - val_loss: 0.1388 - val_accuracy: 0.9118\n",
      "Epoch 80/150\n",
      "9/9 [==============================] - 0s 6ms/step - loss: 0.0544 - accuracy: 0.9776 - val_loss: 0.1390 - val_accuracy: 0.9118\n",
      "Epoch 81/150\n",
      "9/9 [==============================] - 0s 7ms/step - loss: 0.0528 - accuracy: 0.9851 - val_loss: 0.1458 - val_accuracy: 0.9118\n",
      "Epoch 82/150\n",
      "9/9 [==============================] - 0s 7ms/step - loss: 0.0515 - accuracy: 0.9851 - val_loss: 0.1467 - val_accuracy: 0.9118\n",
      "Epoch 83/150\n",
      "9/9 [==============================] - 0s 7ms/step - loss: 0.0507 - accuracy: 0.9851 - val_loss: 0.1474 - val_accuracy: 0.9118\n",
      "Epoch 84/150\n",
      "9/9 [==============================] - 0s 8ms/step - loss: 0.0498 - accuracy: 0.9851 - val_loss: 0.1456 - val_accuracy: 0.9118\n",
      "Epoch 85/150\n",
      "9/9 [==============================] - 0s 7ms/step - loss: 0.0499 - accuracy: 0.9851 - val_loss: 0.1490 - val_accuracy: 0.9118\n",
      "Epoch 86/150\n",
      "9/9 [==============================] - 0s 7ms/step - loss: 0.0483 - accuracy: 0.9851 - val_loss: 0.1459 - val_accuracy: 0.9118\n",
      "Epoch 87/150\n",
      "9/9 [==============================] - 0s 6ms/step - loss: 0.0480 - accuracy: 0.9851 - val_loss: 0.1460 - val_accuracy: 0.9118\n",
      "Epoch 88/150\n",
      "9/9 [==============================] - 0s 9ms/step - loss: 0.0471 - accuracy: 0.9851 - val_loss: 0.1435 - val_accuracy: 0.9118\n",
      "Epoch 89/150\n",
      "9/9 [==============================] - 0s 6ms/step - loss: 0.0458 - accuracy: 0.9851 - val_loss: 0.1385 - val_accuracy: 0.9118\n",
      "Epoch 90/150\n",
      "9/9 [==============================] - 0s 7ms/step - loss: 0.0454 - accuracy: 0.9851 - val_loss: 0.1380 - val_accuracy: 0.9118\n",
      "Epoch 91/150\n",
      "9/9 [==============================] - 0s 8ms/step - loss: 0.0445 - accuracy: 0.9925 - val_loss: 0.1352 - val_accuracy: 0.9118\n",
      "Epoch 92/150\n",
      "9/9 [==============================] - 0s 7ms/step - loss: 0.0441 - accuracy: 0.9851 - val_loss: 0.1388 - val_accuracy: 0.9118\n",
      "Epoch 93/150\n",
      "9/9 [==============================] - 0s 7ms/step - loss: 0.0432 - accuracy: 0.9925 - val_loss: 0.1350 - val_accuracy: 0.9118\n",
      "Epoch 94/150\n",
      "9/9 [==============================] - 0s 6ms/step - loss: 0.0423 - accuracy: 0.9925 - val_loss: 0.1354 - val_accuracy: 0.9118\n",
      "Epoch 95/150\n",
      "9/9 [==============================] - 0s 6ms/step - loss: 0.0423 - accuracy: 0.9851 - val_loss: 0.1384 - val_accuracy: 0.9118\n",
      "Epoch 96/150\n",
      "9/9 [==============================] - 0s 6ms/step - loss: 0.0413 - accuracy: 0.9925 - val_loss: 0.1323 - val_accuracy: 0.9118\n",
      "Epoch 97/150\n",
      "9/9 [==============================] - 0s 6ms/step - loss: 0.0400 - accuracy: 0.9925 - val_loss: 0.1331 - val_accuracy: 0.9118\n",
      "Epoch 98/150\n",
      "9/9 [==============================] - 0s 7ms/step - loss: 0.0401 - accuracy: 0.9925 - val_loss: 0.1315 - val_accuracy: 0.9118\n",
      "Epoch 99/150\n",
      "9/9 [==============================] - 0s 6ms/step - loss: 0.0393 - accuracy: 0.9925 - val_loss: 0.1339 - val_accuracy: 0.9118\n",
      "Epoch 100/150\n",
      "9/9 [==============================] - 0s 6ms/step - loss: 0.0388 - accuracy: 0.9851 - val_loss: 0.1376 - val_accuracy: 0.9118\n",
      "Epoch 101/150\n",
      "9/9 [==============================] - 0s 7ms/step - loss: 0.0383 - accuracy: 0.9851 - val_loss: 0.1337 - val_accuracy: 0.9118\n",
      "Epoch 102/150\n",
      "9/9 [==============================] - 0s 8ms/step - loss: 0.0375 - accuracy: 0.9851 - val_loss: 0.1328 - val_accuracy: 0.9118\n",
      "Epoch 103/150\n",
      "9/9 [==============================] - 0s 7ms/step - loss: 0.0369 - accuracy: 0.9925 - val_loss: 0.1294 - val_accuracy: 0.9118\n",
      "Epoch 104/150\n",
      "9/9 [==============================] - 0s 7ms/step - loss: 0.0367 - accuracy: 0.9925 - val_loss: 0.1288 - val_accuracy: 0.9118\n",
      "Epoch 105/150\n",
      "9/9 [==============================] - 0s 7ms/step - loss: 0.0367 - accuracy: 0.9925 - val_loss: 0.1207 - val_accuracy: 0.9118\n",
      "Epoch 106/150\n",
      "9/9 [==============================] - 0s 10ms/step - loss: 0.0360 - accuracy: 0.9925 - val_loss: 0.1232 - val_accuracy: 0.9118\n",
      "Epoch 107/150\n",
      "9/9 [==============================] - 0s 7ms/step - loss: 0.0353 - accuracy: 0.9925 - val_loss: 0.1239 - val_accuracy: 0.9118\n",
      "Epoch 108/150\n",
      "9/9 [==============================] - 0s 7ms/step - loss: 0.0344 - accuracy: 0.9925 - val_loss: 0.1263 - val_accuracy: 0.9118\n",
      "Epoch 109/150\n",
      "9/9 [==============================] - 0s 6ms/step - loss: 0.0337 - accuracy: 0.9925 - val_loss: 0.1252 - val_accuracy: 0.9118\n",
      "Epoch 110/150\n",
      "9/9 [==============================] - 0s 7ms/step - loss: 0.0336 - accuracy: 0.9925 - val_loss: 0.1299 - val_accuracy: 0.9118\n",
      "Epoch 111/150\n",
      "9/9 [==============================] - 0s 6ms/step - loss: 0.0329 - accuracy: 0.9925 - val_loss: 0.1265 - val_accuracy: 0.9118\n",
      "Epoch 112/150\n",
      "9/9 [==============================] - 0s 8ms/step - loss: 0.0325 - accuracy: 0.9925 - val_loss: 0.1233 - val_accuracy: 0.9118\n",
      "Epoch 113/150\n",
      "9/9 [==============================] - 0s 7ms/step - loss: 0.0332 - accuracy: 0.9925 - val_loss: 0.1111 - val_accuracy: 0.9118\n",
      "Epoch 114/150\n",
      "9/9 [==============================] - 0s 6ms/step - loss: 0.0328 - accuracy: 1.0000 - val_loss: 0.1154 - val_accuracy: 0.9118\n",
      "Epoch 115/150\n",
      "9/9 [==============================] - 0s 7ms/step - loss: 0.0311 - accuracy: 0.9925 - val_loss: 0.1199 - val_accuracy: 0.9118\n",
      "Epoch 116/150\n",
      "9/9 [==============================] - 0s 7ms/step - loss: 0.0305 - accuracy: 0.9925 - val_loss: 0.1217 - val_accuracy: 0.9118\n",
      "Epoch 117/150\n",
      "9/9 [==============================] - 0s 7ms/step - loss: 0.0303 - accuracy: 0.9925 - val_loss: 0.1237 - val_accuracy: 0.9118\n",
      "Epoch 118/150\n",
      "9/9 [==============================] - 0s 7ms/step - loss: 0.0297 - accuracy: 0.9925 - val_loss: 0.1182 - val_accuracy: 0.9118\n",
      "Epoch 119/150\n",
      "9/9 [==============================] - 0s 6ms/step - loss: 0.0293 - accuracy: 0.9925 - val_loss: 0.1195 - val_accuracy: 0.9118\n",
      "Epoch 120/150\n",
      "9/9 [==============================] - 0s 7ms/step - loss: 0.0287 - accuracy: 0.9925 - val_loss: 0.1179 - val_accuracy: 0.9118\n",
      "Epoch 121/150\n",
      "9/9 [==============================] - 0s 7ms/step - loss: 0.0288 - accuracy: 0.9925 - val_loss: 0.1191 - val_accuracy: 0.9118\n",
      "Epoch 122/150\n",
      "9/9 [==============================] - 0s 7ms/step - loss: 0.0282 - accuracy: 0.9925 - val_loss: 0.1163 - val_accuracy: 0.9118\n",
      "Epoch 123/150\n",
      "9/9 [==============================] - 0s 7ms/step - loss: 0.0281 - accuracy: 0.9925 - val_loss: 0.1178 - val_accuracy: 0.9118\n",
      "Epoch 124/150\n",
      "9/9 [==============================] - 0s 6ms/step - loss: 0.0282 - accuracy: 0.9925 - val_loss: 0.1113 - val_accuracy: 0.9118\n",
      "Epoch 125/150\n",
      "9/9 [==============================] - 0s 7ms/step - loss: 0.0266 - accuracy: 1.0000 - val_loss: 0.1152 - val_accuracy: 0.9118\n",
      "Epoch 126/150\n",
      "9/9 [==============================] - 0s 8ms/step - loss: 0.0263 - accuracy: 0.9925 - val_loss: 0.1187 - val_accuracy: 0.9118\n",
      "Epoch 127/150\n",
      "9/9 [==============================] - 0s 6ms/step - loss: 0.0262 - accuracy: 0.9925 - val_loss: 0.1183 - val_accuracy: 0.9118\n",
      "Epoch 128/150\n",
      "9/9 [==============================] - 0s 6ms/step - loss: 0.0260 - accuracy: 0.9925 - val_loss: 0.1128 - val_accuracy: 0.9118\n",
      "Epoch 129/150\n",
      "9/9 [==============================] - 0s 6ms/step - loss: 0.0254 - accuracy: 0.9925 - val_loss: 0.1117 - val_accuracy: 0.9118\n",
      "Epoch 130/150\n",
      "9/9 [==============================] - 0s 7ms/step - loss: 0.0251 - accuracy: 0.9925 - val_loss: 0.1122 - val_accuracy: 0.9118\n",
      "Epoch 131/150\n",
      "9/9 [==============================] - 0s 7ms/step - loss: 0.0250 - accuracy: 1.0000 - val_loss: 0.1115 - val_accuracy: 0.9118\n",
      "Epoch 132/150\n",
      "9/9 [==============================] - 0s 7ms/step - loss: 0.0249 - accuracy: 0.9925 - val_loss: 0.1179 - val_accuracy: 0.9118\n",
      "Epoch 133/150\n",
      "9/9 [==============================] - 0s 6ms/step - loss: 0.0250 - accuracy: 0.9925 - val_loss: 0.1110 - val_accuracy: 0.9118\n",
      "Epoch 134/150\n",
      "9/9 [==============================] - 0s 6ms/step - loss: 0.0237 - accuracy: 1.0000 - val_loss: 0.1101 - val_accuracy: 0.9118\n",
      "Epoch 135/150\n",
      "9/9 [==============================] - 0s 6ms/step - loss: 0.0239 - accuracy: 1.0000 - val_loss: 0.1113 - val_accuracy: 0.9118\n",
      "Epoch 136/150\n",
      "9/9 [==============================] - 0s 8ms/step - loss: 0.0232 - accuracy: 1.0000 - val_loss: 0.1082 - val_accuracy: 0.9118\n",
      "Epoch 137/150\n",
      "9/9 [==============================] - 0s 7ms/step - loss: 0.0231 - accuracy: 1.0000 - val_loss: 0.1059 - val_accuracy: 0.9118\n",
      "Epoch 138/150\n",
      "9/9 [==============================] - 0s 7ms/step - loss: 0.0225 - accuracy: 1.0000 - val_loss: 0.1078 - val_accuracy: 0.9118\n",
      "Epoch 139/150\n",
      "9/9 [==============================] - 0s 7ms/step - loss: 0.0223 - accuracy: 1.0000 - val_loss: 0.1078 - val_accuracy: 0.9118\n",
      "Epoch 140/150\n",
      "9/9 [==============================] - 0s 7ms/step - loss: 0.0221 - accuracy: 1.0000 - val_loss: 0.1056 - val_accuracy: 0.9118\n",
      "Epoch 141/150\n",
      "9/9 [==============================] - 0s 7ms/step - loss: 0.0221 - accuracy: 1.0000 - val_loss: 0.1057 - val_accuracy: 0.9118\n",
      "Epoch 142/150\n",
      "9/9 [==============================] - 0s 7ms/step - loss: 0.0213 - accuracy: 1.0000 - val_loss: 0.1076 - val_accuracy: 0.9118\n",
      "Epoch 143/150\n",
      "9/9 [==============================] - 0s 7ms/step - loss: 0.0217 - accuracy: 1.0000 - val_loss: 0.1098 - val_accuracy: 0.9118\n",
      "Epoch 144/150\n",
      "9/9 [==============================] - 0s 7ms/step - loss: 0.0205 - accuracy: 1.0000 - val_loss: 0.1022 - val_accuracy: 0.9118\n",
      "Epoch 145/150\n",
      "9/9 [==============================] - 0s 9ms/step - loss: 0.0214 - accuracy: 1.0000 - val_loss: 0.0969 - val_accuracy: 0.9412\n",
      "Epoch 146/150\n",
      "9/9 [==============================] - 0s 8ms/step - loss: 0.0209 - accuracy: 1.0000 - val_loss: 0.0960 - val_accuracy: 0.9412\n",
      "Epoch 147/150\n",
      "9/9 [==============================] - 0s 7ms/step - loss: 0.0194 - accuracy: 1.0000 - val_loss: 0.1039 - val_accuracy: 0.9118\n",
      "Epoch 148/150\n",
      "9/9 [==============================] - 0s 7ms/step - loss: 0.0206 - accuracy: 1.0000 - val_loss: 0.1091 - val_accuracy: 0.9118\n",
      "Epoch 149/150\n",
      "9/9 [==============================] - 0s 6ms/step - loss: 0.0193 - accuracy: 1.0000 - val_loss: 0.0993 - val_accuracy: 0.9118\n",
      "Epoch 150/150\n",
      "9/9 [==============================] - 0s 6ms/step - loss: 0.0191 - accuracy: 1.0000 - val_loss: 0.0973 - val_accuracy: 0.9412\n"
     ]
    }
   ],
   "source": [
    "history = model.fit(X_train, y_train, epochs=150, batch_size=16, validation_data=(X_val, y_val))"
   ]
  },
  {
   "cell_type": "code",
   "execution_count": 14,
   "id": "6074e9e4-71c1-4923-930c-d102647ab2db",
   "metadata": {},
   "outputs": [
    {
     "data": {
      "image/png": "[encoded data removed]",
      "text/plain": [
       "<Figure size 640x480 with 1 Axes>"
      ]
     },
     "metadata": {},
     "output_type": "display_data"
    }
   ],
   "source": [
    "import matplotlib.pyplot as plt\n",
    "\n",
    "# 훈련 과정 시각화\n",
    "plt.plot(history.history['accuracy'], label='Train Accuracy')\n",
    "plt.plot(history.history['val_accuracy'], label='Validation Accuracy')\n",
    "plt.xlabel('Epoch')\n",
    "plt.ylabel('Accuracy')\n",
    "plt.legend()\n",
    "plt.show()"
   ]
  },
  {
   "cell_type": "code",
   "execution_count": 15,
   "id": "7ad5307e-39b6-40eb-860d-089900b440fe",
   "metadata": {},
   "outputs": [
    {
     "data": {
      "image/png": "[encoded data removed]",
      "text/plain": [
       "<Figure size 640x480 with 1 Axes>"
      ]
     },
     "metadata": {},
     "output_type": "display_data"
    }
   ],
   "source": [
    "# 훈련 과정 시각화\n",
    "plt.plot(history.history['loss'], label='Train loss')\n",
    "plt.plot(history.history['val_loss'], label='Validation Loss')\n",
    "plt.xlabel('Epoch')\n",
    "plt.ylabel('Loss')\n",
    "plt.legend()\n",
    "plt.show()"
   ]
  },
  {
   "cell_type": "code",
   "execution_count": 17,
   "id": "0f11331e-1074-48bd-bac3-5232cabdbb80",
   "metadata": {},
   "outputs": [],
   "source": [
    "y_test = y_test - 1"
   ]
  },
  {
   "cell_type": "code",
   "execution_count": 18,
   "id": "37d311cd-c63b-422c-ac14-a43f470870df",
   "metadata": {},
   "outputs": [
    {
     "name": "stdout",
     "output_type": "stream",
     "text": [
      "2/2 [==============================] - 0s 2ms/step - loss: 0.3402 - accuracy: 0.8810\n"
     ]
    },
    {
     "data": {
      "text/plain": [
       "[0.34023788571357727, 0.8809523582458496]"
      ]
     },
     "execution_count": 18,
     "metadata": {},
     "output_type": "execute_result"
    }
   ],
   "source": [
    "model.evaluate(X_test, y_test)"
   ]
  },
  {
   "cell_type": "code",
   "execution_count": null,
   "id": "55fb64f4-8cbc-429a-8034-38eef1691fa1",
   "metadata": {},
   "outputs": [],
   "source": []
  }
 ],
 "metadata": {
  "kernelspec": {
   "display_name": "Python 3 (ipykernel)",
   "language": "python",
   "name": "python3"
  },
  "language_info": {
   "codemirror_mode": {
    "name": "ipython",
    "version": 3
   },
   "file_extension": ".py",
   "mimetype": "text/x-python",
   "name": "python",
   "nbconvert_exporter": "python",
   "pygments_lexer": "ipython3",
   "version": "3.10.16"
  }
 },
 "nbformat": 4,
 "nbformat_minor": 5
}
