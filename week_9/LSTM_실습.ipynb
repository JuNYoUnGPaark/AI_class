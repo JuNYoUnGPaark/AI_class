{
 "cells": [
  {
   "cell_type": "code",
   "execution_count": 1,
   "id": "b94a9e77-8a98-43e7-abbc-0898ef938bd9",
   "metadata": {},
   "outputs": [
    {
     "name": "stdout",
     "output_type": "stream",
     "text": [
      "WARNING:tensorflow:From C:\\Users\\sampa\\anaconda3\\envs\\AI\\lib\\site-packages\\keras\\src\\losses.py:2976: The name tf.losses.sparse_softmax_cross_entropy is deprecated. Please use tf.compat.v1.losses.sparse_softmax_cross_entropy instead.\n",
      "\n"
     ]
    }
   ],
   "source": [
    "import numpy as np\n",
    "from tensorflow.keras.models import Sequential\n",
    "from tensorflow.keras.layers import LSTM, Dense\n",
    "import matplotlib.pyplot as plt\n",
    "import pandas as pd"
   ]
  },
  {
   "cell_type": "code",
   "execution_count": 2,
   "id": "c4e67fdb-f87a-40e2-b29e-9c86617a2268",
   "metadata": {},
   "outputs": [
    {
     "data": {
      "text/html": [
       "<div>\n",
       "<style scoped>\n",
       "    .dataframe tbody tr th:only-of-type {\n",
       "        vertical-align: middle;\n",
       "    }\n",
       "\n",
       "    .dataframe tbody tr th {\n",
       "        vertical-align: top;\n",
       "    }\n",
       "\n",
       "    .dataframe thead th {\n",
       "        text-align: right;\n",
       "    }\n",
       "</style>\n",
       "<table border=\"1\" class=\"dataframe\">\n",
       "  <thead>\n",
       "    <tr style=\"text-align: right;\">\n",
       "      <th></th>\n",
       "      <th>Date</th>\n",
       "      <th>Open</th>\n",
       "      <th>High</th>\n",
       "      <th>Low</th>\n",
       "      <th>Close</th>\n",
       "      <th>Adj Close</th>\n",
       "      <th>Volume</th>\n",
       "    </tr>\n",
       "  </thead>\n",
       "  <tbody>\n",
       "    <tr>\n",
       "      <th>0</th>\n",
       "      <td>1980-03-17</td>\n",
       "      <td>0.0</td>\n",
       "      <td>4.05</td>\n",
       "      <td>3.85</td>\n",
       "      <td>3.85</td>\n",
       "      <td>3.213167</td>\n",
       "      <td>15000</td>\n",
       "    </tr>\n",
       "    <tr>\n",
       "      <th>1</th>\n",
       "      <td>1980-03-18</td>\n",
       "      <td>0.0</td>\n",
       "      <td>4.00</td>\n",
       "      <td>3.80</td>\n",
       "      <td>3.80</td>\n",
       "      <td>3.171437</td>\n",
       "      <td>10200</td>\n",
       "    </tr>\n",
       "    <tr>\n",
       "      <th>2</th>\n",
       "      <td>1980-03-19</td>\n",
       "      <td>0.0</td>\n",
       "      <td>4.05</td>\n",
       "      <td>3.85</td>\n",
       "      <td>3.85</td>\n",
       "      <td>3.213167</td>\n",
       "      <td>33500</td>\n",
       "    </tr>\n",
       "    <tr>\n",
       "      <th>3</th>\n",
       "      <td>1980-03-20</td>\n",
       "      <td>0.0</td>\n",
       "      <td>4.00</td>\n",
       "      <td>3.80</td>\n",
       "      <td>3.80</td>\n",
       "      <td>3.171437</td>\n",
       "      <td>8700</td>\n",
       "    </tr>\n",
       "    <tr>\n",
       "      <th>4</th>\n",
       "      <td>1980-03-21</td>\n",
       "      <td>0.0</td>\n",
       "      <td>3.95</td>\n",
       "      <td>3.75</td>\n",
       "      <td>3.75</td>\n",
       "      <td>3.129709</td>\n",
       "      <td>12700</td>\n",
       "    </tr>\n",
       "  </tbody>\n",
       "</table>\n",
       "</div>"
      ],
      "text/plain": [
       "         Date  Open  High   Low  Close  Adj Close  Volume\n",
       "0  1980-03-17   0.0  4.05  3.85   3.85   3.213167   15000\n",
       "1  1980-03-18   0.0  4.00  3.80   3.80   3.171437   10200\n",
       "2  1980-03-19   0.0  4.05  3.85   3.85   3.213167   33500\n",
       "3  1980-03-20   0.0  4.00  3.80   3.80   3.171437    8700\n",
       "4  1980-03-21   0.0  3.95  3.75   3.75   3.129709   12700"
      ]
     },
     "execution_count": 2,
     "metadata": {},
     "output_type": "execute_result"
    }
   ],
   "source": [
    "df = pd.read_csv(\"C://Users/sampa/ai_class/data_files\\AAME.csv\")\n",
    "df.head()"
   ]
  },
  {
   "cell_type": "code",
   "execution_count": 3,
   "id": "f22a5578-6070-4f73-9a1c-44d305b548ff",
   "metadata": {},
   "outputs": [
    {
     "data": {
      "text/plain": [
       "Date         0\n",
       "Open         0\n",
       "High         0\n",
       "Low          0\n",
       "Close        0\n",
       "Adj Close    0\n",
       "Volume       0\n",
       "dtype: int64"
      ]
     },
     "execution_count": 3,
     "metadata": {},
     "output_type": "execute_result"
    }
   ],
   "source": [
    "df.isna().sum()"
   ]
  },
  {
   "cell_type": "code",
   "execution_count": 4,
   "id": "264bef95-80f5-4610-971a-901dc0ccbfa7",
   "metadata": {},
   "outputs": [
    {
     "data": {
      "text/html": [
       "<div>\n",
       "<style scoped>\n",
       "    .dataframe tbody tr th:only-of-type {\n",
       "        vertical-align: middle;\n",
       "    }\n",
       "\n",
       "    .dataframe tbody tr th {\n",
       "        vertical-align: top;\n",
       "    }\n",
       "\n",
       "    .dataframe thead th {\n",
       "        text-align: right;\n",
       "    }\n",
       "</style>\n",
       "<table border=\"1\" class=\"dataframe\">\n",
       "  <thead>\n",
       "    <tr style=\"text-align: right;\">\n",
       "      <th></th>\n",
       "      <th>Open</th>\n",
       "      <th>High</th>\n",
       "      <th>Low</th>\n",
       "      <th>Close</th>\n",
       "    </tr>\n",
       "  </thead>\n",
       "  <tbody>\n",
       "    <tr>\n",
       "      <th>0</th>\n",
       "      <td>0.0</td>\n",
       "      <td>4.05</td>\n",
       "      <td>3.85</td>\n",
       "      <td>3.85</td>\n",
       "    </tr>\n",
       "    <tr>\n",
       "      <th>1</th>\n",
       "      <td>0.0</td>\n",
       "      <td>4.00</td>\n",
       "      <td>3.80</td>\n",
       "      <td>3.80</td>\n",
       "    </tr>\n",
       "    <tr>\n",
       "      <th>2</th>\n",
       "      <td>0.0</td>\n",
       "      <td>4.05</td>\n",
       "      <td>3.85</td>\n",
       "      <td>3.85</td>\n",
       "    </tr>\n",
       "    <tr>\n",
       "      <th>3</th>\n",
       "      <td>0.0</td>\n",
       "      <td>4.00</td>\n",
       "      <td>3.80</td>\n",
       "      <td>3.80</td>\n",
       "    </tr>\n",
       "    <tr>\n",
       "      <th>4</th>\n",
       "      <td>0.0</td>\n",
       "      <td>3.95</td>\n",
       "      <td>3.75</td>\n",
       "      <td>3.75</td>\n",
       "    </tr>\n",
       "  </tbody>\n",
       "</table>\n",
       "</div>"
      ],
      "text/plain": [
       "   Open  High   Low  Close\n",
       "0   0.0  4.05  3.85   3.85\n",
       "1   0.0  4.00  3.80   3.80\n",
       "2   0.0  4.05  3.85   3.85\n",
       "3   0.0  4.00  3.80   3.80\n",
       "4   0.0  3.95  3.75   3.75"
      ]
     },
     "execution_count": 4,
     "metadata": {},
     "output_type": "execute_result"
    }
   ],
   "source": [
    "df = df.drop(columns=['Date', 'Adj Close', 'Volume'])\n",
    "df.head()"
   ]
  },
  {
   "cell_type": "code",
   "execution_count": 5,
   "id": "d9d54860-b533-46af-8beb-5edb3ecac27d",
   "metadata": {},
   "outputs": [
    {
     "data": {
      "text/plain": [
       "array([[0.        , 0.23515054, 0.2312812 , 0.22213181],\n",
       "       [0.        , 0.23189585, 0.22795341, 0.21887713],\n",
       "       [0.        , 0.23515054, 0.2312812 , 0.22213181],\n",
       "       ...,\n",
       "       [0.16304348, 0.1179821 , 0.11680534, 0.11017088],\n",
       "       [0.15289854, 0.10886899, 0.11547421, 0.10886899],\n",
       "       [0.15289854, 0.11147275, 0.11547421, 0.11147275]])"
      ]
     },
     "execution_count": 5,
     "metadata": {},
     "output_type": "execute_result"
    }
   ],
   "source": [
    "from sklearn.preprocessing import MinMaxScaler\n",
    "scaler = MinMaxScaler(feature_range = (0, 1))\n",
    "scaled = scaler.fit_transform(df)\n",
    "scaled"
   ]
  },
  {
   "cell_type": "code",
   "execution_count": 6,
   "id": "64119fc1-aa23-4959-ba1a-636a617d7ce1",
   "metadata": {},
   "outputs": [
    {
     "data": {
      "text/plain": [
       "8078"
      ]
     },
     "execution_count": 6,
     "metadata": {},
     "output_type": "execute_result"
    }
   ],
   "source": [
    "int(len(scaled) * 0.8)"
   ]
  },
  {
   "cell_type": "code",
   "execution_count": 7,
   "id": "89bf8f6d-0e04-4397-9ff2-1fa1e8e57831",
   "metadata": {},
   "outputs": [
    {
     "data": {
      "text/plain": [
       "2020"
      ]
     },
     "execution_count": 7,
     "metadata": {},
     "output_type": "execute_result"
    }
   ],
   "source": [
    "int(len(scaled)) - int(len(scaled) * 0.8)"
   ]
  },
  {
   "cell_type": "code",
   "execution_count": 8,
   "id": "d8bf7000-fd22-4642-9e76-0afed162b097",
   "metadata": {},
   "outputs": [
    {
     "data": {
      "text/plain": [
       "True"
      ]
     },
     "execution_count": 8,
     "metadata": {},
     "output_type": "execute_result"
    }
   ],
   "source": [
    "len(scaled) == int(len(scaled) * 0.8) + int(len(scaled)) - int(len(scaled) * 0.8)"
   ]
  },
  {
   "cell_type": "code",
   "execution_count": 9,
   "id": "5d2e275e-0629-497d-9a66-9f34f64ed82f",
   "metadata": {},
   "outputs": [
    {
     "name": "stdout",
     "output_type": "stream",
     "text": [
      "8078\n",
      "2020\n"
     ]
    }
   ],
   "source": [
    "TEST_SIZE = 2020\n",
    "\n",
    "train_data = scaled[:-TEST_SIZE]\n",
    "test_data = scaled[-TEST_SIZE:]\n",
    "\n",
    "print(len(train_data))\n",
    "print(len(test_data))"
   ]
  },
  {
   "cell_type": "code",
   "execution_count": 10,
   "id": "ca767385-e037-413b-be5b-98acc2255c4b",
   "metadata": {},
   "outputs": [],
   "source": [
    "def make_sample(data, window):\n",
    "    train = []\n",
    "    target = []\n",
    "    for i in range(len(data)-window):\n",
    "        train.append(data[i:i+window])\n",
    "        target.append(data[i+window][3])\n",
    "    return np.array(train), np.array(target).reshape(-1, 1)\n",
    "\n",
    "X_train, y_train = make_sample(train_data, 30)"
   ]
  },
  {
   "cell_type": "code",
   "execution_count": 11,
   "id": "dd9cb7b1-1f36-4958-a3cd-86937284b90b",
   "metadata": {},
   "outputs": [
    {
     "name": "stdout",
     "output_type": "stream",
     "text": [
      "(8048, 30, 4)\n",
      "(8048, 1)\n"
     ]
    }
   ],
   "source": [
    "print(X_train.shape)\n",
    "print(y_train.shape)"
   ]
  },
  {
   "cell_type": "code",
   "execution_count": 12,
   "id": "cd2d2b76-310e-4415-bd3a-150a391a1ecb",
   "metadata": {},
   "outputs": [
    {
     "name": "stdout",
     "output_type": "stream",
     "text": [
      "WARNING:tensorflow:From C:\\Users\\sampa\\anaconda3\\envs\\AI\\lib\\site-packages\\keras\\src\\backend.py:873: The name tf.get_default_graph is deprecated. Please use tf.compat.v1.get_default_graph instead.\n",
      "\n"
     ]
    }
   ],
   "source": [
    "model = Sequential()\n",
    "model.add(LSTM(16,\n",
    "               input_shape=(X_train.shape[1], 4),\n",
    "               activation='tanh',\n",
    "               return_sequences=False)\n",
    "         )\n",
    "model.add(Dense(1))"
   ]
  },
  {
   "cell_type": "code",
   "execution_count": 13,
   "id": "286fef2a-6139-45c4-a314-fd3f9606e380",
   "metadata": {},
   "outputs": [
    {
     "name": "stdout",
     "output_type": "stream",
     "text": [
      "WARNING:tensorflow:From C:\\Users\\sampa\\anaconda3\\envs\\AI\\lib\\site-packages\\keras\\src\\optimizers\\__init__.py:309: The name tf.train.Optimizer is deprecated. Please use tf.compat.v1.train.Optimizer instead.\n",
      "\n"
     ]
    }
   ],
   "source": [
    "model.compile(optimizer='adam', loss='mean_squared_error')"
   ]
  },
  {
   "cell_type": "code",
   "execution_count": 14,
   "id": "8dadf0d3-45c3-431e-84ab-8696069b4a1e",
   "metadata": {},
   "outputs": [
    {
     "name": "stdout",
     "output_type": "stream",
     "text": [
      "Epoch 1/100\n",
      "WARNING:tensorflow:From C:\\Users\\sampa\\anaconda3\\envs\\AI\\lib\\site-packages\\keras\\src\\utils\\tf_utils.py:492: The name tf.ragged.RaggedTensorValue is deprecated. Please use tf.compat.v1.ragged.RaggedTensorValue instead.\n",
      "\n",
      "503/503 [==============================] - 5s 7ms/step - loss: 0.0054\n",
      "Epoch 2/100\n",
      "503/503 [==============================] - 3s 7ms/step - loss: 2.4247e-04\n",
      "Epoch 3/100\n",
      "503/503 [==============================] - 3s 7ms/step - loss: 1.9378e-04\n",
      "Epoch 4/100\n",
      "503/503 [==============================] - 4s 7ms/step - loss: 1.7110e-04\n",
      "Epoch 5/100\n",
      "503/503 [==============================] - 3s 7ms/step - loss: 1.5018e-04\n",
      "Epoch 6/100\n",
      "503/503 [==============================] - 3s 7ms/step - loss: 1.4315e-04\n",
      "Epoch 7/100\n",
      "503/503 [==============================] - 3s 7ms/step - loss: 1.2769e-04\n",
      "Epoch 8/100\n",
      "503/503 [==============================] - 4s 7ms/step - loss: 1.2326e-04\n",
      "Epoch 9/100\n",
      "503/503 [==============================] - 4s 7ms/step - loss: 1.1289e-04\n",
      "Epoch 10/100\n",
      "503/503 [==============================] - 4s 8ms/step - loss: 1.1491e-04\n",
      "Epoch 11/100\n",
      "503/503 [==============================] - 4s 8ms/step - loss: 1.0432e-04\n",
      "Epoch 12/100\n",
      "503/503 [==============================] - 4s 8ms/step - loss: 9.9588e-05\n",
      "Epoch 13/100\n",
      "503/503 [==============================] - 4s 8ms/step - loss: 9.8138e-05\n",
      "Epoch 14/100\n",
      "503/503 [==============================] - 4s 8ms/step - loss: 9.5199e-05\n",
      "Epoch 15/100\n",
      "503/503 [==============================] - 4s 8ms/step - loss: 9.4639e-05\n",
      "Epoch 16/100\n",
      "503/503 [==============================] - 4s 7ms/step - loss: 9.0464e-05\n",
      "Epoch 17/100\n",
      "503/503 [==============================] - 4s 7ms/step - loss: 8.7005e-05\n",
      "Epoch 18/100\n",
      "503/503 [==============================] - 4s 7ms/step - loss: 9.1706e-05\n",
      "Epoch 19/100\n",
      "503/503 [==============================] - 4s 8ms/step - loss: 8.8346e-05\n",
      "Epoch 20/100\n",
      "503/503 [==============================] - 4s 8ms/step - loss: 9.0319e-05\n",
      "Epoch 21/100\n",
      "503/503 [==============================] - 4s 8ms/step - loss: 8.5564e-05\n",
      "Epoch 22/100\n",
      "503/503 [==============================] - 4s 8ms/step - loss: 8.5504e-05\n",
      "Epoch 23/100\n",
      "503/503 [==============================] - 4s 8ms/step - loss: 8.4994e-05\n",
      "Epoch 24/100\n",
      "503/503 [==============================] - 4s 8ms/step - loss: 8.4975e-05\n",
      "Epoch 25/100\n",
      "503/503 [==============================] - 4s 8ms/step - loss: 8.1434e-05\n",
      "Epoch 26/100\n",
      "503/503 [==============================] - 4s 8ms/step - loss: 8.4313e-05\n",
      "Epoch 27/100\n",
      "503/503 [==============================] - 4s 8ms/step - loss: 8.1096e-05\n",
      "Epoch 28/100\n",
      "503/503 [==============================] - 4s 8ms/step - loss: 8.2741e-05\n",
      "Epoch 29/100\n",
      "503/503 [==============================] - 4s 8ms/step - loss: 8.1285e-05\n",
      "Epoch 30/100\n",
      "503/503 [==============================] - 4s 8ms/step - loss: 8.3215e-05\n",
      "Epoch 31/100\n",
      "503/503 [==============================] - 4s 8ms/step - loss: 8.1348e-05\n",
      "Epoch 32/100\n",
      "503/503 [==============================] - 4s 8ms/step - loss: 8.0184e-05\n",
      "Epoch 33/100\n",
      "503/503 [==============================] - 4s 8ms/step - loss: 8.0333e-05\n",
      "Epoch 34/100\n",
      "503/503 [==============================] - 4s 8ms/step - loss: 8.4272e-05\n",
      "Epoch 35/100\n",
      "503/503 [==============================] - 4s 8ms/step - loss: 8.0392e-05\n",
      "Epoch 36/100\n",
      "503/503 [==============================] - 4s 8ms/step - loss: 8.0673e-05\n",
      "Epoch 37/100\n",
      "503/503 [==============================] - 4s 8ms/step - loss: 8.0946e-05\n",
      "Epoch 38/100\n",
      "503/503 [==============================] - 4s 8ms/step - loss: 8.3476e-05\n",
      "Epoch 39/100\n",
      "503/503 [==============================] - 4s 8ms/step - loss: 7.9383e-05\n",
      "Epoch 40/100\n",
      "503/503 [==============================] - 4s 8ms/step - loss: 8.2406e-05\n",
      "Epoch 41/100\n",
      "503/503 [==============================] - 4s 8ms/step - loss: 8.1176e-05\n",
      "Epoch 42/100\n",
      "503/503 [==============================] - 4s 8ms/step - loss: 8.0471e-05\n",
      "Epoch 43/100\n",
      "503/503 [==============================] - 4s 8ms/step - loss: 8.0945e-05\n",
      "Epoch 44/100\n",
      "503/503 [==============================] - 4s 7ms/step - loss: 8.1203e-05\n",
      "Epoch 45/100\n",
      "503/503 [==============================] - 4s 8ms/step - loss: 8.0150e-05\n",
      "Epoch 46/100\n",
      "503/503 [==============================] - 4s 8ms/step - loss: 8.1027e-05\n",
      "Epoch 47/100\n",
      "503/503 [==============================] - 4s 8ms/step - loss: 7.9339e-05\n",
      "Epoch 48/100\n",
      "503/503 [==============================] - 4s 8ms/step - loss: 8.0820e-05\n",
      "Epoch 49/100\n",
      "503/503 [==============================] - 4s 8ms/step - loss: 7.8981e-05\n",
      "Epoch 50/100\n",
      "503/503 [==============================] - 4s 8ms/step - loss: 8.0828e-05\n",
      "Epoch 51/100\n",
      "503/503 [==============================] - 4s 8ms/step - loss: 7.9139e-05\n",
      "Epoch 52/100\n",
      "503/503 [==============================] - 4s 8ms/step - loss: 7.9246e-05\n",
      "Epoch 53/100\n",
      "503/503 [==============================] - 4s 8ms/step - loss: 7.9420e-05\n",
      "Epoch 54/100\n",
      "503/503 [==============================] - 4s 8ms/step - loss: 7.8965e-05\n",
      "Epoch 55/100\n",
      "503/503 [==============================] - 4s 8ms/step - loss: 8.0980e-05\n",
      "Epoch 56/100\n",
      "503/503 [==============================] - 4s 8ms/step - loss: 7.8913e-05\n",
      "Epoch 57/100\n",
      "503/503 [==============================] - 4s 8ms/step - loss: 7.9582e-05\n",
      "Epoch 58/100\n",
      "503/503 [==============================] - 4s 8ms/step - loss: 8.1377e-05\n",
      "Epoch 59/100\n",
      "503/503 [==============================] - 4s 8ms/step - loss: 7.7760e-05\n",
      "Epoch 60/100\n",
      "503/503 [==============================] - 4s 8ms/step - loss: 7.9840e-05\n",
      "Epoch 61/100\n",
      "503/503 [==============================] - 4s 8ms/step - loss: 7.6678e-05\n",
      "Epoch 62/100\n",
      "503/503 [==============================] - 4s 8ms/step - loss: 7.9293e-05\n",
      "Epoch 63/100\n",
      "503/503 [==============================] - 4s 8ms/step - loss: 8.0263e-05\n",
      "Epoch 64/100\n",
      "503/503 [==============================] - 4s 8ms/step - loss: 7.9347e-05\n",
      "Epoch 65/100\n",
      "503/503 [==============================] - 4s 8ms/step - loss: 7.8325e-05\n",
      "Epoch 66/100\n",
      "503/503 [==============================] - 4s 8ms/step - loss: 7.7806e-05\n",
      "Epoch 67/100\n",
      "503/503 [==============================] - 4s 7ms/step - loss: 7.7961e-05\n",
      "Epoch 68/100\n",
      "503/503 [==============================] - 4s 8ms/step - loss: 8.0727e-05\n",
      "Epoch 69/100\n",
      "503/503 [==============================] - 4s 8ms/step - loss: 7.9325e-05\n",
      "Epoch 70/100\n",
      "503/503 [==============================] - 4s 8ms/step - loss: 7.9222e-05\n",
      "Epoch 71/100\n",
      "503/503 [==============================] - 4s 8ms/step - loss: 7.8577e-05\n",
      "Epoch 72/100\n",
      "503/503 [==============================] - 4s 8ms/step - loss: 7.8120e-05\n",
      "Epoch 73/100\n",
      "503/503 [==============================] - 4s 7ms/step - loss: 7.8612e-05\n",
      "Epoch 74/100\n",
      "503/503 [==============================] - 4s 8ms/step - loss: 7.6983e-05\n",
      "Epoch 75/100\n",
      "503/503 [==============================] - 4s 8ms/step - loss: 7.8734e-05\n",
      "Epoch 76/100\n",
      "503/503 [==============================] - 4s 8ms/step - loss: 7.9391e-05\n",
      "Epoch 77/100\n",
      "503/503 [==============================] - 4s 8ms/step - loss: 7.8390e-05\n",
      "Epoch 78/100\n",
      "503/503 [==============================] - 4s 8ms/step - loss: 7.9780e-05\n",
      "Epoch 79/100\n",
      "503/503 [==============================] - 4s 8ms/step - loss: 7.9747e-05\n",
      "Epoch 80/100\n",
      "503/503 [==============================] - 4s 7ms/step - loss: 7.7951e-05\n",
      "Epoch 81/100\n",
      "503/503 [==============================] - 4s 7ms/step - loss: 7.8605e-05\n",
      "Epoch 82/100\n",
      "503/503 [==============================] - 4s 7ms/step - loss: 7.8279e-05\n",
      "Epoch 83/100\n",
      "503/503 [==============================] - 4s 7ms/step - loss: 7.7703e-05\n",
      "Epoch 84/100\n",
      "503/503 [==============================] - 4s 7ms/step - loss: 7.8918e-05\n",
      "Epoch 85/100\n",
      "503/503 [==============================] - 4s 7ms/step - loss: 7.7057e-05\n",
      "Epoch 86/100\n",
      "503/503 [==============================] - 4s 7ms/step - loss: 7.8134e-05\n",
      "Epoch 87/100\n",
      "503/503 [==============================] - 4s 7ms/step - loss: 7.9194e-05\n",
      "Epoch 88/100\n",
      "503/503 [==============================] - 4s 7ms/step - loss: 7.9480e-05\n",
      "Epoch 89/100\n",
      "503/503 [==============================] - 4s 7ms/step - loss: 7.9142e-05\n",
      "Epoch 90/100\n",
      "503/503 [==============================] - 4s 7ms/step - loss: 7.9860e-05\n",
      "Epoch 91/100\n",
      "503/503 [==============================] - 4s 7ms/step - loss: 7.8267e-05\n",
      "Epoch 92/100\n",
      "503/503 [==============================] - 4s 7ms/step - loss: 7.8308e-05\n",
      "Epoch 93/100\n",
      "503/503 [==============================] - 4s 7ms/step - loss: 7.8821e-05\n",
      "Epoch 94/100\n",
      "503/503 [==============================] - 4s 7ms/step - loss: 7.7942e-05\n",
      "Epoch 95/100\n",
      "503/503 [==============================] - 4s 7ms/step - loss: 7.6504e-05\n",
      "Epoch 96/100\n",
      "503/503 [==============================] - 4s 7ms/step - loss: 7.8308e-05\n",
      "Epoch 97/100\n",
      "503/503 [==============================] - 4s 7ms/step - loss: 7.7147e-05\n",
      "Epoch 98/100\n",
      "503/503 [==============================] - 4s 7ms/step - loss: 8.0329e-05\n",
      "Epoch 99/100\n",
      "503/503 [==============================] - 4s 7ms/step - loss: 7.8142e-05\n",
      "Epoch 100/100\n",
      "503/503 [==============================] - 4s 7ms/step - loss: 7.8014e-05\n"
     ]
    },
    {
     "data": {
      "text/plain": [
       "<keras.src.callbacks.History at 0x24c1112a680>"
      ]
     },
     "execution_count": 14,
     "metadata": {},
     "output_type": "execute_result"
    }
   ],
   "source": [
    "model.fit(X_train, y_train, epochs=100, batch_size=16)"
   ]
  },
  {
   "cell_type": "code",
   "execution_count": 15,
   "id": "d5555b7f-253f-42c0-91d2-e3d8c96450f2",
   "metadata": {},
   "outputs": [
    {
     "name": "stdout",
     "output_type": "stream",
     "text": [
      "63/63 [==============================] - 1s 5ms/step\n"
     ]
    }
   ],
   "source": [
    "X_test, y_test = make_sample(test_data, 30)\n",
    "pred = model.predict(X_test)"
   ]
  },
  {
   "cell_type": "code",
   "execution_count": 16,
   "id": "500f91cc-b1eb-4d55-914d-d32fd38ebe11",
   "metadata": {},
   "outputs": [
    {
     "data": {
      "text/plain": [
       "array([[0.15964199],\n",
       "       [0.15964199],\n",
       "       [0.16029293],\n",
       "       ...,\n",
       "       [0.11017088],\n",
       "       [0.10886899],\n",
       "       [0.11147275]])"
      ]
     },
     "execution_count": 16,
     "metadata": {},
     "output_type": "execute_result"
    }
   ],
   "source": [
    "y_test"
   ]
  },
  {
   "cell_type": "code",
   "execution_count": 17,
   "id": "3f370b70-9961-4e65-ac8c-21f74a2e964d",
   "metadata": {},
   "outputs": [
    {
     "name": "stdout",
     "output_type": "stream",
     "text": [
      "4.367410042667848e-05\n"
     ]
    }
   ],
   "source": [
    "from sklearn.metrics import mean_squared_error\n",
    "\n",
    "mse = mean_squared_error(y_test, pred)\n",
    "print(mse)"
   ]
  },
  {
   "cell_type": "code",
   "execution_count": 23,
   "id": "dda01604-33f3-4311-b5b8-b784a3e1d767",
   "metadata": {},
   "outputs": [
    {
     "data": {
      "image/png": "[encoded data removed]",
      "text/plain": [
       "<Figure size 1200x900 with 1 Axes>"
      ]
     },
     "metadata": {},
     "output_type": "display_data"
    }
   ],
   "source": [
    "plt.figure(figsize=(12, 9))\n",
    "plt.plot(y_test, label='stock price', alpha=0.7, color='gray')\n",
    "plt.plot(pred, label='predicted stock price by LSTM', color='red')\n",
    "plt.legend()\n",
    "plt.tight_layout()\n",
    "plt.grid()\n",
    "plt.show()"
   ]
  },
  {
   "cell_type": "code",
   "execution_count": null,
   "id": "e71855a9-3c84-4d9d-a93e-36b90c8b43bc",
   "metadata": {},
   "outputs": [],
   "source": []
  }
 ],
 "metadata": {
  "kernelspec": {
   "display_name": "Python 3 (ipykernel)",
   "language": "python",
   "name": "python3"
  },
  "language_info": {
   "codemirror_mode": {
    "name": "ipython",
    "version": 3
   },
   "file_extension": ".py",
   "mimetype": "text/x-python",
   "name": "python",
   "nbconvert_exporter": "python",
   "pygments_lexer": "ipython3",
   "version": "3.10.16"
  }
 },
 "nbformat": 4,
 "nbformat_minor": 5
}
